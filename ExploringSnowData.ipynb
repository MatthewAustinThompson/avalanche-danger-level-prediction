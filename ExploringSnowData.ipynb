{
 "cells": [
  {
   "cell_type": "code",
   "execution_count": 1,
   "metadata": {},
   "outputs": [],
   "source": [
    "import os\n",
    "import numpy as np\n",
    "import pandas as pd\n",
    "import matplotlib.pyplot as plt\n",
    "\n",
    "#  sklearn \n",
    "from sklearn.model_selection import train_test_split, GridSearchCV\n",
    "from sklearn.metrics import confusion_matrix, classification_report, accuracy_score\n",
    "from sklearn.linear_model import LogisticRegression\n",
    "from sklearn.tree import DecisionTreeClassifier\n",
    "from sklearn.svm import SVC\n",
    "from sklearn.ensemble import RandomForestClassifier\n",
    "from sklearn.decomposition import PCA"
   ]
  },
  {
   "cell_type": "code",
   "execution_count": 2,
   "metadata": {},
   "outputs": [],
   "source": [
    "data = pd.read_csv(os.getcwd() + '/MWACSnowData.csv')"
   ]
  },
  {
   "cell_type": "code",
   "execution_count": 3,
   "metadata": {},
   "outputs": [
    {
     "data": {
      "text/plain": [
       "<bound method NDFrame.describe of           DATE     SEASON  AVY_DANGER AVY_CHARACTER  WET_DANGER  DRY_DANGER  \\\n",
       "0     12/18/10  2010/2011         2.0           DRY           0           2   \n",
       "1     12/19/10  2010/2011         1.0           DRY           0           1   \n",
       "2     12/20/10  2010/2011         1.0           DRY           0           1   \n",
       "3     12/21/10  2010/2011         3.0           DRY           0           3   \n",
       "4     12/22/10  2010/2011         2.0           DRY           0           2   \n",
       "...        ...        ...         ...           ...         ...         ...   \n",
       "1253   3/25/20  2019/2020         3.0          BOTH           3           3   \n",
       "1254   3/26/20  2019/2020         3.0           WET           3           0   \n",
       "1255   3/27/20  2019/2020         2.0           DRY           0           2   \n",
       "1256   3/28/20  2019/2020         1.0           DRY           0           1   \n",
       "1257   3/29/20  2019/2020         2.0           WET           2           0   \n",
       "\n",
       "      WET_LOOSE  WET_SLAB  WIND_SLAB  STORM_SLAB  ...  HST (CM)  HS_CM  \\\n",
       "0           0.0       0.0        2.0         0.0  ...       NaN   40.0   \n",
       "1           0.0       0.0        1.0         0.0  ...       3.5   42.0   \n",
       "2           0.0       0.0        1.0         0.0  ...       NaN   40.0   \n",
       "3           0.0       0.0        3.0         0.0  ...       NaN   43.0   \n",
       "4           0.0       0.0        2.0         0.0  ...       NaN   45.0   \n",
       "...         ...       ...        ...         ...  ...       ...    ...   \n",
       "1253        0.0       3.0        3.0         0.0  ...       NaN    NaN   \n",
       "1254        3.0       3.0        0.0         0.0  ...       NaN    NaN   \n",
       "1255        0.0       0.0        2.0         0.0  ...       NaN    NaN   \n",
       "1256        0.0       0.0        1.0         0.0  ...       NaN    NaN   \n",
       "1257        2.0       0.0        0.0         0.0  ...       NaN    NaN   \n",
       "\n",
       "      SETTLEMENT/MELT  Surf Temp (C)  T-10 (C) T-20 (C)  CURRENT TEMP  \\\n",
       "0                 1.0           -6.9      -5.0     -3.7          -9.0   \n",
       "1                 0.0           -8.3      -4.8     -3.2         -14.0   \n",
       "2                 2.0          -10.3      -6.2     -4.6         -13.0   \n",
       "3                 0.0           -4.4      -4.2     -2.9          -5.0   \n",
       "4                 0.0           -5.3      -2.4     -1.7          -7.0   \n",
       "...               ...            ...       ...      ...           ...   \n",
       "1253              NaN            NaN       NaN      NaN           NaN   \n",
       "1254              NaN            NaN       NaN      NaN           NaN   \n",
       "1255              NaN            NaN       NaN      NaN           NaN   \n",
       "1256              NaN            NaN       NaN      NaN           NaN   \n",
       "1257              NaN            NaN       NaN      NaN           NaN   \n",
       "\n",
       "      X24_HR_MAX  24HRMAX_SWING 24 HR MIN  \n",
       "0           -9.0            NaN     -14.0  \n",
       "1           -6.0            3.0     -14.0  \n",
       "2           -7.0           -1.0     -13.0  \n",
       "3           -5.0            2.0     -14.0  \n",
       "4           -4.0            1.0      -7.0  \n",
       "...          ...            ...       ...  \n",
       "1253         NaN            NaN       NaN  \n",
       "1254         NaN            NaN       NaN  \n",
       "1255         NaN            NaN       NaN  \n",
       "1256         NaN            NaN       NaN  \n",
       "1257         NaN            NaN       NaN  \n",
       "\n",
       "[1258 rows x 55 columns]>"
      ]
     },
     "execution_count": 3,
     "metadata": {},
     "output_type": "execute_result"
    }
   ],
   "source": [
    "data.describe"
   ]
  },
  {
   "cell_type": "code",
   "execution_count": 4,
   "metadata": {},
   "outputs": [
    {
     "data": {
      "text/plain": [
       "Index(['DATE', 'SEASON', 'AVY_DANGER', 'AVY_CHARACTER', 'WET_DANGER',\n",
       "       'DRY_DANGER', 'WET_LOOSE', 'WET_SLAB', 'WIND_SLAB', 'STORM_SLAB',\n",
       "       'CORNICE_FALL', 'PERSISTENT_SLAB', 'DEEP_SLAB', 'DRY_LOOSE',\n",
       "       'GLIDE_AVALANCHE', 'LONG_SLIDING_FALL', 'AWND', 'PGTM', 'PRCP',\n",
       "       'PRCP_ATTRIBUTES', 'PSUN', 'SNOW', 'FIVE_DAY_SNOWFALL',\n",
       "       'SNOW_ATTRIBUTES', 'SNWD', 'SNWD_ATTRIBUTES', 'TMAX', 'TMAX_SWING',\n",
       "       'TMAX_SWING_FROM_AVE', 'TMAX_ATTRIBUTES', 'TMIN', 'TMIN_ATTRIBUTES',\n",
       "       'TSUN', 'TSUN_ATTRIBUTES', 'WDF5', 'WDF5_ATTRIBUTES', 'WSF5',\n",
       "       'WSF5_ATTRIBUTES', 'SKY CONDITION', 'PRECIP TYPE/RATE', 'FORM/SIZE',\n",
       "       'HN24_CM', 'HW in Tube (MM)', 'H24W in Can (MM)', 'DENSITY (KG/M3)',\n",
       "       'HST (CM)', 'HS_CM', 'SETTLEMENT/MELT', 'Surf Temp (C)', 'T-10 (C)',\n",
       "       'T-20 (C)', 'CURRENT TEMP', 'X24_HR_MAX', '24HRMAX_SWING', '24 HR MIN'],\n",
       "      dtype='object')"
      ]
     },
     "execution_count": 4,
     "metadata": {},
     "output_type": "execute_result"
    }
   ],
   "source": [
    "data.columns"
   ]
  },
  {
   "cell_type": "code",
   "execution_count": 5,
   "metadata": {},
   "outputs": [
    {
     "name": "stdout",
     "output_type": "stream",
     "text": [
      "0       2.0\n",
      "1       2.0\n",
      "2       2.0\n",
      "3       6.0\n",
      "4       2.0\n",
      "       ... \n",
      "1253    6.0\n",
      "1254    6.0\n",
      "1255    2.0\n",
      "1256    1.0\n",
      "1257    2.0\n",
      "Name: AVI_COUNT, Length: 1258, dtype: float64\n"
     ]
    }
   ],
   "source": [
    "data[\"AVI_COUNT\"] = data.iloc[:, 6:14].sum(axis=1)\n",
    "print(data[\"AVI_COUNT\"])"
   ]
  },
  {
   "cell_type": "code",
   "execution_count": 6,
   "metadata": {},
   "outputs": [
    {
     "name": "stdout",
     "output_type": "stream",
     "text": [
      "(143, 57)\n",
      "(1115, 57)\n"
     ]
    }
   ],
   "source": [
    "data['AVI_OCUR'] = np.where(data['AVI_COUNT'] > 0, 1, 0)\n",
    "print(data[data['AVI_OCUR'] == 0].shape)\n",
    "print(data[data['AVI_OCUR'] == 1].shape)"
   ]
  },
  {
   "cell_type": "code",
   "execution_count": 37,
   "metadata": {},
   "outputs": [
    {
     "name": "stdout",
     "output_type": "stream",
     "text": [
      "Index(['AVY_DANGER', 'WET_DANGER', 'DRY_DANGER', 'WET_LOOSE', 'WET_SLAB',\n",
      "       'WIND_SLAB', 'STORM_SLAB', 'CORNICE_FALL', 'PERSISTENT_SLAB',\n",
      "       'DEEP_SLAB', 'DRY_LOOSE', 'GLIDE_AVALANCHE', 'AWND', 'PGTM', 'PRCP',\n",
      "       'PSUN', 'SNOW', 'FIVE_DAY_SNOWFALL', 'SNWD', 'TMAX', 'TMAX_SWING',\n",
      "       'TMAX_SWING_FROM_AVE', 'TMIN', 'TSUN', 'WDF5', 'WSF5', 'HN24_CM',\n",
      "       'HW in Tube (MM)', 'H24W in Can (MM)', 'DENSITY (KG/M3)', 'HST (CM)',\n",
      "       'HS_CM', 'SETTLEMENT/MELT', 'Surf Temp (C)', 'T-10 (C)', 'T-20 (C)',\n",
      "       'CURRENT TEMP', 'X24_HR_MAX', '24HRMAX_SWING', '24 HR MIN', 'AVI_COUNT',\n",
      "       'AVI_OCUR'],\n",
      "      dtype='object')\n"
     ]
    }
   ],
   "source": [
    "train = data[data.columns.drop(list(data.filter(regex='ATTRIBUTES')))]\n",
    "train = train.drop(['DATE', 'SEASON', 'AVY_CHARACTER', 'LONG_SLIDING_FALL', \\\n",
    "                    'SKY CONDITION', 'PRECIP TYPE/RATE', 'FORM/SIZE'], axis=1)\n",
    "train.fillna(0, inplace=True)\n",
    "print(train.columns)"
   ]
  },
  {
   "cell_type": "code",
   "execution_count": 38,
   "metadata": {},
   "outputs": [
    {
     "name": "stdout",
     "output_type": "stream",
     "text": [
      "(1132, 41)\n",
      "(126, 41)\n",
      "(1132,)\n",
      "(126,)\n"
     ]
    }
   ],
   "source": [
    "x = train.iloc[:, 0:train.shape[1] - 1]\n",
    "y = train.iloc[:, train.shape[1] - 1]\n",
    "\n",
    "x_train, x_test, y_train, y_test = train_test_split(x, y, test_size=0.10, random_state=0)\n",
    "print(x_train.shape)\n",
    "print(x_test.shape)\n",
    "print(y_train.shape)\n",
    "print(y_test.shape)"
   ]
  },
  {
   "cell_type": "code",
   "execution_count": 43,
   "metadata": {},
   "outputs": [
    {
     "name": "stdout",
     "output_type": "stream",
     "text": [
      "0.9285714285714286\n"
     ]
    }
   ],
   "source": [
    "# Define SVC model\n",
    "svm = SVC(kernel='rbf')\n",
    "\n",
    "# Train model\n",
    "svm.fit(x_train, y_train)\n",
    "\n",
    "# Make predictions using the trained model on unseen data\n",
    "y_pred = svm.predict(x_test)\n",
    "\n",
    "# Print accuracy score\n",
    "print(accuracy_score(y_test, y_pred))"
   ]
  },
  {
   "cell_type": "code",
   "execution_count": 44,
   "metadata": {},
   "outputs": [
    {
     "name": "stdout",
     "output_type": "stream",
     "text": [
      "   0    1\n",
      "0  0    9\n",
      "1  0  117\n",
      "              precision    recall  f1-score   support\n",
      "\n",
      "           0       0.00      0.00      0.00         9\n",
      "           1       0.93      1.00      0.96       117\n",
      "\n",
      "    accuracy                           0.93       126\n",
      "   macro avg       0.46      0.50      0.48       126\n",
      "weighted avg       0.86      0.93      0.89       126\n",
      "\n"
     ]
    },
    {
     "name": "stderr",
     "output_type": "stream",
     "text": [
      "/opt/anaconda3/lib/python3.8/site-packages/sklearn/metrics/_classification.py:1221: UndefinedMetricWarning: Precision and F-score are ill-defined and being set to 0.0 in labels with no predicted samples. Use `zero_division` parameter to control this behavior.\n",
      "  _warn_prf(average, modifier, msg_start, len(result))\n"
     ]
    },
    {
     "data": {
      "image/png": "[encoded data removed]",
      "text/plain": [
       "<Figure size 432x288 with 1 Axes>"
      ]
     },
     "metadata": {
      "needs_background": "light"
     },
     "output_type": "display_data"
    }
   ],
   "source": [
    "# Create confusion matrix\n",
    "confusion = confusion_matrix(y_test, y_pred)\n",
    "\n",
    "# Print confusion matrix as dataframe\n",
    "confusion_df = pd.DataFrame(confusion)\n",
    "print(confusion_df)\n",
    "\n",
    "# Display confusion matrix as heatmap\n",
    "plt.imshow(confusion_df)\n",
    "\n",
    "# Display classification report\n",
    "print(classification_report(y_test, y_pred))"
   ]
  }
 ],
 "metadata": {
  "kernelspec": {
   "display_name": "Python 3",
   "language": "python",
   "name": "python3"
  },
  "language_info": {
   "codemirror_mode": {
    "name": "ipython",
    "version": 3
   },
   "file_extension": ".py",
   "mimetype": "text/x-python",
   "name": "python",
   "nbconvert_exporter": "python",
   "pygments_lexer": "ipython3",
   "version": "3.8.3"
  }
 },
 "nbformat": 4,
 "nbformat_minor": 4
}
