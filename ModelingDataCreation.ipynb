{
 "cells": [
  {
   "cell_type": "markdown",
   "metadata": {},
   "source": [
    "### Modeling Data Creation\n",
    "\n",
    "this notebook creates the csv's that we will use in our model"
   ]
  },
  {
   "cell_type": "code",
   "execution_count": 1,
   "metadata": {},
   "outputs": [],
   "source": [
    "import pandas as pd\n",
    "import numpy as np\n",
    "import matplotlib\n",
    "import matplotlib.pyplot as plt\n",
    "plt.style.use('seaborn')\n",
    "\n",
    "plt.rcParams['figure.figsize'] = (12, 9)"
   ]
  },
  {
   "cell_type": "code",
   "execution_count": 2,
   "metadata": {
    "scrolled": true
   },
   "outputs": [
    {
     "name": "stdout",
     "output_type": "stream",
     "text": [
      "<class 'pandas.core.frame.DataFrame'>\n",
      "RangeIndex: 1357 entries, 0 to 1356\n",
      "Data columns (total 88 columns):\n",
      " #   Column                        Non-Null Count  Dtype  \n",
      "---  ------                        --------------  -----  \n",
      " 0   Unnamed: 0                    1357 non-null   int64  \n",
      " 1   Unnamed: 0_x                  1357 non-null   int64  \n",
      " 2   SEASON                        1357 non-null   object \n",
      " 3   AVY_DANGER                    1254 non-null   float64\n",
      " 4   AVY_CHARACTER                 1254 non-null   object \n",
      " 5   WET_DANGER                    1357 non-null   float64\n",
      " 6   DRY_DANGER                    1357 non-null   float64\n",
      " 7   WET_LOOSE                     1254 non-null   float64\n",
      " 8   WET_SLAB                      1254 non-null   float64\n",
      " 9   WIND_SLAB                     1254 non-null   float64\n",
      " 10  STORM_SLAB                    1254 non-null   float64\n",
      " 11  CORNICE_FALL                  1254 non-null   float64\n",
      " 12  PERSISTENT_SLAB               1254 non-null   float64\n",
      " 13  DEEP_SLAB                     1254 non-null   float64\n",
      " 14  DRY_LOOSE                     1254 non-null   float64\n",
      " 15  GLIDE_AVALANCHE               1254 non-null   float64\n",
      " 16  LONG_SLIDING_FALL             1254 non-null   object \n",
      " 17  AWND                          1328 non-null   float64\n",
      " 18  PGTM                          261 non-null    float64\n",
      " 19  PRCP                          1356 non-null   float64\n",
      " 20  PRCP_ATTRIBUTES               1272 non-null   object \n",
      " 21  PSUN                          1189 non-null   float64\n",
      " 22  SNOW                          1356 non-null   float64\n",
      " 23  FIVE_DAY_SNOWFALL             1347 non-null   float64\n",
      " 24  SNOW_ATTRIBUTES               1272 non-null   object \n",
      " 25  SNWD                          1356 non-null   float64\n",
      " 26  SNWD_ATTRIBUTES               1272 non-null   object \n",
      " 27  TMAX                          1356 non-null   float64\n",
      " 28  TMAX_SWING                    1354 non-null   float64\n",
      " 29  TMAX_SWING_FROM_AVE           1345 non-null   float64\n",
      " 30  TMAX_ATTRIBUTES               1272 non-null   object \n",
      " 31  TMIN                          1356 non-null   float64\n",
      " 32  TMIN_ATTRIBUTES               1272 non-null   object \n",
      " 33  TSUN                          1190 non-null   float64\n",
      " 34  TSUN_ATTRIBUTES               1134 non-null   object \n",
      " 35  WDF5                          1328 non-null   float64\n",
      " 36  WDF5_ATTRIBUTES               1272 non-null   object \n",
      " 37  WSF5                          1328 non-null   float64\n",
      " 38  WSF5_ATTRIBUTES               1272 non-null   object \n",
      " 39  SKY CONDITION                 874 non-null    object \n",
      " 40  PRECIP TYPE/RATE              540 non-null    object \n",
      " 41  FORM/SIZE                     482 non-null    object \n",
      " 42  HN24_CM                       493 non-null    float64\n",
      " 43  HW in Tube (MM)               344 non-null    float64\n",
      " 44  H24W in Can (MM)              424 non-null    float64\n",
      " 45  DENSITY (KG/M3)               366 non-null    float64\n",
      " 46  HST (CM)                      292 non-null    float64\n",
      " 47  HS_CM                         830 non-null    float64\n",
      " 48  SETTLEMENT/MELT               791 non-null    float64\n",
      " 49  Surf Temp (C)                 827 non-null    float64\n",
      " 50  T-10 (C)                      875 non-null    float64\n",
      " 51  T-20 (C)                      872 non-null    float64\n",
      " 52  CURRENT TEMP                  877 non-null    float64\n",
      " 53  X24_HR_MAX                    872 non-null    float64\n",
      " 54  24HRMAX_SWING                 864 non-null    float64\n",
      " 55  24 HR MIN                     874 non-null    float64\n",
      " 56  date                          1357 non-null   object \n",
      " 57  year_x                        1357 non-null   float64\n",
      " 58  month_x                       1357 non-null   float64\n",
      " 59  day_x                         1357 non-null   float64\n",
      " 60  Unnamed: 0_y                  1357 non-null   int64  \n",
      " 61  temp_max                      1357 non-null   int64  \n",
      " 62  temp_min                      1357 non-null   int64  \n",
      " 63  water_equivalent              1357 non-null   float64\n",
      " 64  water_equivalent_trace        1357 non-null   int64  \n",
      " 65  snow_fall                     1357 non-null   float64\n",
      " 66  snow_fall_trace               1357 non-null   int64  \n",
      " 67  snow_depth_6am                1357 non-null   float64\n",
      " 68  snow_depth_6am_trace          1357 non-null   int64  \n",
      " 69  wind_speed_sum                1357 non-null   int64  \n",
      " 70  sunshine_sum                  1357 non-null   int64  \n",
      " 71  sunshine_percent              1357 non-null   int64  \n",
      " 72  skycover_sum                  1357 non-null   int64  \n",
      " 73  skycover_avg_sunrisetosunset  1357 non-null   int64  \n",
      " 74  west_wind_hours               1357 non-null   int64  \n",
      " 75  northwest_wind_hours          1357 non-null   int64  \n",
      " 76  year_y                        1357 non-null   int64  \n",
      " 77  month_y                       1357 non-null   int64  \n",
      " 78  day_y                         1357 non-null   int64  \n",
      " 79  prevailing_wind_E             1357 non-null   int64  \n",
      " 80  prevailing_wind_N             1357 non-null   int64  \n",
      " 81  prevailing_wind_NE            1357 non-null   int64  \n",
      " 82  prevailing_wind_NW            1357 non-null   int64  \n",
      " 83  prevailing_wind_S             1357 non-null   int64  \n",
      " 84  prevailing_wind_SE            1357 non-null   int64  \n",
      " 85  prevailing_wind_SW            1357 non-null   int64  \n",
      " 86  prevailing_wind_W             1357 non-null   int64  \n",
      " 87  prevailing_wind_na            1357 non-null   int64  \n",
      "dtypes: float64(46), int64(27), object(15)\n",
      "memory usage: 933.1+ KB\n"
     ]
    }
   ],
   "source": [
    "snow_weather = pd.read_csv(\"snow_weather.csv\")\n",
    "snow_weather.head()\n",
    "snow_weather.info()"
   ]
  },
  {
   "cell_type": "code",
   "execution_count": 3,
   "metadata": {},
   "outputs": [
    {
     "name": "stdout",
     "output_type": "stream",
     "text": [
      "<class 'pandas.core.frame.DataFrame'>\n",
      "RangeIndex: 1254 entries, 0 to 1253\n",
      "Data columns (total 25 columns):\n",
      " #   Column                Non-Null Count  Dtype  \n",
      "---  ------                --------------  -----  \n",
      " 0   AVY_DANGER            1254 non-null   float64\n",
      " 1   AWND                  1225 non-null   float64\n",
      " 2   TMAX_SWING            1254 non-null   float64\n",
      " 3   TMAX_SWING_FROM_AVE   1254 non-null   float64\n",
      " 4   year_x                1254 non-null   float64\n",
      " 5   month_x               1254 non-null   float64\n",
      " 6   day_x                 1254 non-null   float64\n",
      " 7   temp_max              1254 non-null   int64  \n",
      " 8   temp_min              1254 non-null   int64  \n",
      " 9   water_equivalent      1254 non-null   float64\n",
      " 10  snow_fall             1254 non-null   float64\n",
      " 11  snow_depth_6am        1254 non-null   float64\n",
      " 12  wind_speed_sum        1254 non-null   int64  \n",
      " 13  sunshine_percent      1254 non-null   int64  \n",
      " 14  west_wind_hours       1254 non-null   int64  \n",
      " 15  northwest_wind_hours  1254 non-null   int64  \n",
      " 16  prevailing_wind_E     1254 non-null   int64  \n",
      " 17  prevailing_wind_N     1254 non-null   int64  \n",
      " 18  prevailing_wind_NE    1254 non-null   int64  \n",
      " 19  prevailing_wind_NW    1254 non-null   int64  \n",
      " 20  prevailing_wind_S     1254 non-null   int64  \n",
      " 21  prevailing_wind_SE    1254 non-null   int64  \n",
      " 22  prevailing_wind_SW    1254 non-null   int64  \n",
      " 23  prevailing_wind_W     1254 non-null   int64  \n",
      " 24  prevailing_wind_na    1254 non-null   int64  \n",
      "dtypes: float64(10), int64(15)\n",
      "memory usage: 245.0 KB\n"
     ]
    }
   ],
   "source": [
    "drop = ['PGTM', 'AVY_CHARACTER', 'WET_DANGER', 'DRY_DANGER', 'WET_LOOSE', 'WET_SLAB',\n",
    "       'WIND_SLAB','STORM_SLAB','CORNICE_FALL','PERSISTENT_SLAB','DEEP_SLAB',\n",
    "       'DRY_LOOSE','GLIDE_AVALANCHE','LONG_SLIDING_FALL','PRCP','PRCP_ATTRIBUTES',\n",
    "       'SNOW_ATTRIBUTES','SNWD','SNWD_ATTRIBUTES','TMAX','TMAX_ATTRIBUTES','TMIN',\n",
    "       'TMIN_ATTRIBUTES','TSUN','TSUN_ATTRIBUTES','WDF5_ATTRIBUTES','WSF5','WSF5_ATTRIBUTES',\n",
    "       'SKY CONDITION','PRECIP TYPE/RATE','FORM/SIZE','HN24_CM','HW in Tube (MM)','H24W in Can (MM)',\n",
    "       'PSUN','DENSITY (KG/M3)','HST (CM)','CURRENT TEMP','water_equivalent_trace','snow_fall_trace',\n",
    "       'snow_depth_6am_trace','sunshine_sum','skycover_sum','skycover_avg_sunrisetosunset', 'year_y',\n",
    "       'month_y', 'day_y', 'Unnamed: 0', 'Unnamed: 0_x', 'Unnamed: 0_y', 'date','SEASON','HS_CM',\n",
    "       'Surf Temp (C)','T-10 (C)', 'T-20 (C)','SETTLEMENT/MELT','X24_HR_MAX','24HRMAX_SWING','24 HR MIN',\n",
    "       'SNOW', 'FIVE_DAY_SNOWFALL', 'WDF5']\n",
    "\n",
    "snow_weather = snow_weather[snow_weather['AVY_DANGER'].notnull()]\n",
    "snow_weather.drop(columns=drop, inplace = True)\n",
    "snow_weather['TMAX_SWING'].fillna(0, inplace=True)\n",
    "snow_weather['TMAX_SWING_FROM_AVE'].fillna(0, inplace=True)\n",
    "snow_weather.reset_index(inplace=True)\n",
    "snow_weather.drop(columns=['index'], inplace=True)\n",
    "snow_weather.info()"
   ]
  },
  {
   "cell_type": "code",
   "execution_count": 4,
   "metadata": {},
   "outputs": [],
   "source": [
    "awnd_nulls = snow_weather[snow_weather['AWND'].isnull()]"
   ]
  },
  {
   "cell_type": "markdown",
   "metadata": {},
   "source": [
    "## Fill AWND Null Values\n",
    "Divide by 24 because wind_speed_sum column is average wind speed for each hour added up, so should get AWND value to be about right "
   ]
  },
  {
   "cell_type": "code",
   "execution_count": 5,
   "metadata": {},
   "outputs": [
    {
     "name": "stderr",
     "output_type": "stream",
     "text": [
      "<ipython-input-5-6c7198e8bbbb>:2: SettingWithCopyWarning: \n",
      "A value is trying to be set on a copy of a slice from a DataFrame\n",
      "\n",
      "See the caveats in the documentation: https://pandas.pydata.org/pandas-docs/stable/user_guide/indexing.html#returning-a-view-versus-a-copy\n",
      "  snow_weather['AWND'][awnd_nulls.index[num]] = snow_weather['wind_speed_sum'][awnd_nulls.index[num]] / 24\n"
     ]
    }
   ],
   "source": [
    "for num in range(0, awnd_nulls.index.size):\n",
    "    snow_weather['AWND'][awnd_nulls.index[num]] = snow_weather['wind_speed_sum'][awnd_nulls.index[num]] / 24 "
   ]
  },
  {
   "cell_type": "code",
   "execution_count": 6,
   "metadata": {},
   "outputs": [],
   "source": [
    "snow_weather.reset_index(inplace=True)\n",
    "snow_weather.drop(columns=['index'], inplace=True)"
   ]
  },
  {
   "cell_type": "code",
   "execution_count": 7,
   "metadata": {},
   "outputs": [],
   "source": [
    "next_day_avi_danger = []\n",
    "\n",
    "for day in range(0, snow_weather.shape[0]):\n",
    "    if (day == snow_weather.shape[0] - 1):\n",
    "        next_day_avi_danger.insert(day, np.nan)\n",
    "    else:\n",
    "        next_day_avi_danger.insert(day, snow_weather['AVY_DANGER'][day + 1])\n",
    "\n",
    "snow_weather['next_day_avi_danger'] = next_day_avi_danger"
   ]
  },
  {
   "cell_type": "code",
   "execution_count": 8,
   "metadata": {},
   "outputs": [
    {
     "name": "stdout",
     "output_type": "stream",
     "text": [
      "<class 'pandas.core.frame.DataFrame'>\n",
      "Int64Index: 1253 entries, 0 to 1252\n",
      "Data columns (total 26 columns):\n",
      " #   Column                Non-Null Count  Dtype  \n",
      "---  ------                --------------  -----  \n",
      " 0   AVY_DANGER            1253 non-null   float64\n",
      " 1   AWND                  1253 non-null   float64\n",
      " 2   TMAX_SWING            1253 non-null   float64\n",
      " 3   TMAX_SWING_FROM_AVE   1253 non-null   float64\n",
      " 4   year_x                1253 non-null   float64\n",
      " 5   month_x               1253 non-null   float64\n",
      " 6   day_x                 1253 non-null   float64\n",
      " 7   temp_max              1253 non-null   int64  \n",
      " 8   temp_min              1253 non-null   int64  \n",
      " 9   water_equivalent      1253 non-null   float64\n",
      " 10  snow_fall             1253 non-null   float64\n",
      " 11  snow_depth_6am        1253 non-null   float64\n",
      " 12  wind_speed_sum        1253 non-null   int64  \n",
      " 13  sunshine_percent      1253 non-null   int64  \n",
      " 14  west_wind_hours       1253 non-null   int64  \n",
      " 15  northwest_wind_hours  1253 non-null   int64  \n",
      " 16  prevailing_wind_E     1253 non-null   int64  \n",
      " 17  prevailing_wind_N     1253 non-null   int64  \n",
      " 18  prevailing_wind_NE    1253 non-null   int64  \n",
      " 19  prevailing_wind_NW    1253 non-null   int64  \n",
      " 20  prevailing_wind_S     1253 non-null   int64  \n",
      " 21  prevailing_wind_SE    1253 non-null   int64  \n",
      " 22  prevailing_wind_SW    1253 non-null   int64  \n",
      " 23  prevailing_wind_W     1253 non-null   int64  \n",
      " 24  prevailing_wind_na    1253 non-null   int64  \n",
      " 25  next_day_avi_danger   1253 non-null   float64\n",
      "dtypes: float64(11), int64(15)\n",
      "memory usage: 264.3 KB\n"
     ]
    }
   ],
   "source": [
    "snow_weather.drop(1253, inplace=True)\n",
    "snow_weather.info()"
   ]
  },
  {
   "cell_type": "code",
   "execution_count": 9,
   "metadata": {},
   "outputs": [
    {
     "name": "stdout",
     "output_type": "stream",
     "text": [
      "<class 'pandas.core.frame.DataFrame'>\n",
      "Int64Index: 1253 entries, 0 to 1252\n",
      "Data columns (total 26 columns):\n",
      " #   Column                   Non-Null Count  Dtype  \n",
      "---  ------                   --------------  -----  \n",
      " 0   avi_danger               1253 non-null   float64\n",
      " 1   avg_wind                 1253 non-null   float64\n",
      " 2   temp_max_swing           1253 non-null   float64\n",
      " 3   temp_max_swing_from_avg  1253 non-null   float64\n",
      " 4   year                     1253 non-null   float64\n",
      " 5   month                    1253 non-null   float64\n",
      " 6   day                      1253 non-null   float64\n",
      " 7   temp_max                 1253 non-null   int64  \n",
      " 8   temp_min                 1253 non-null   int64  \n",
      " 9   water_equivalent         1253 non-null   float64\n",
      " 10  snow_fall                1253 non-null   float64\n",
      " 11  snow_depth_6am           1253 non-null   float64\n",
      " 12  wind_speed_sum           1253 non-null   int64  \n",
      " 13  sunshine_percent         1253 non-null   int64  \n",
      " 14  west_wind_hours          1253 non-null   int64  \n",
      " 15  northwest_wind_hours     1253 non-null   int64  \n",
      " 16  prevailing_wind_E        1253 non-null   int64  \n",
      " 17  prevailing_wind_N        1253 non-null   int64  \n",
      " 18  prevailing_wind_NE       1253 non-null   int64  \n",
      " 19  prevailing_wind_NW       1253 non-null   int64  \n",
      " 20  prevailing_wind_S        1253 non-null   int64  \n",
      " 21  prevailing_wind_SE       1253 non-null   int64  \n",
      " 22  prevailing_wind_SW       1253 non-null   int64  \n",
      " 23  prevailing_wind_W        1253 non-null   int64  \n",
      " 24  prevailing_wind_na       1253 non-null   int64  \n",
      " 25  next_day_avi_danger      1253 non-null   float64\n",
      "dtypes: float64(11), int64(15)\n",
      "memory usage: 264.3 KB\n"
     ]
    }
   ],
   "source": [
    "snow_weather.rename(columns={\"AVY_DANGER\" : \"avi_danger\"}, inplace=True)\n",
    "snow_weather.rename(columns={\"AWND\" : \"avg_wind\"}, inplace=True)\n",
    "snow_weather.rename(columns={\"TMAX_SWING\" : \"temp_max_swing\"}, inplace=True)\n",
    "snow_weather.rename(columns={\"TMAX_SWING_FROM_AVE\" : \"temp_max_swing_from_avg\"}, inplace=True)\n",
    "snow_weather.rename(columns={\"year_x\" : \"year\"}, inplace=True)\n",
    "snow_weather.rename(columns={\"month_x\" : \"month\"}, inplace=True)\n",
    "snow_weather.rename(columns={\"day_x\" : \"day\"}, inplace=True)\n",
    "snow_weather.info()"
   ]
  },
  {
   "cell_type": "code",
   "execution_count": 10,
   "metadata": {},
   "outputs": [],
   "source": [
    "snow_weather.to_csv('SnowWeatherClean.csv')"
   ]
  }
 ],
 "metadata": {
  "kernelspec": {
   "display_name": "Python 3",
   "language": "python",
   "name": "python3"
  },
  "language_info": {
   "codemirror_mode": {
    "name": "ipython",
    "version": 3
   },
   "file_extension": ".py",
   "mimetype": "text/x-python",
   "name": "python",
   "nbconvert_exporter": "python",
   "pygments_lexer": "ipython3",
   "version": "3.8.3"
  }
 },
 "nbformat": 4,
 "nbformat_minor": 4
}
