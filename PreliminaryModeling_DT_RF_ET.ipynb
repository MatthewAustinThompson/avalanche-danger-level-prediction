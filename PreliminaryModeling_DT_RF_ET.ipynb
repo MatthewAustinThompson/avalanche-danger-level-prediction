{
 "cells": [
  {
   "cell_type": "markdown",
   "metadata": {},
   "source": [
    "### Danger Level Forecasting Preliminary Models\n",
    "\n",
    "Testing out some of the classification models"
   ]
  },
  {
   "cell_type": "markdown",
   "metadata": {},
   "source": [
    "#### Import Tools"
   ]
  },
  {
   "cell_type": "code",
   "execution_count": 7,
   "metadata": {},
   "outputs": [],
   "source": [
    "import os\n",
    "import numpy as np\n",
    "import pandas as pd\n",
    "import matplotlib.pyplot as plt\n",
    "import seaborn as sns\n",
    "\n",
    "# sklearn \n",
    "from sklearn.model_selection import train_test_split, GridSearchCV, cross_val_score\n",
    "from sklearn.metrics import confusion_matrix, classification_report, accuracy_score, \\\n",
    "    precision_recall_curve, roc_curve, roc_auc_score\n",
    "from sklearn.linear_model import LogisticRegression\n",
    "from sklearn.tree import DecisionTreeClassifier\n",
    "from sklearn.svm import SVC\n",
    "from sklearn.ensemble import RandomForestClassifier, GradientBoostingClassifier, ExtraTreesClassifier\n",
    "from sklearn.decomposition import PCA\n",
    "from sklearn.neighbors import KNeighborsClassifier\n",
    "from sklearn.model_selection import RandomizedSearchCV\n",
    "from sklearn.preprocessing import StandardScaler"
   ]
  },
  {
   "cell_type": "markdown",
   "metadata": {},
   "source": [
    "#### Import Data"
   ]
  },
  {
   "cell_type": "code",
   "execution_count": 8,
   "metadata": {},
   "outputs": [
    {
     "data": {
      "text/html": [
       "<div>\n",
       "<style scoped>\n",
       "    .dataframe tbody tr th:only-of-type {\n",
       "        vertical-align: middle;\n",
       "    }\n",
       "\n",
       "    .dataframe tbody tr th {\n",
       "        vertical-align: top;\n",
       "    }\n",
       "\n",
       "    .dataframe thead th {\n",
       "        text-align: right;\n",
       "    }\n",
       "</style>\n",
       "<table border=\"1\" class=\"dataframe\">\n",
       "  <thead>\n",
       "    <tr style=\"text-align: right;\">\n",
       "      <th></th>\n",
       "      <th>Unnamed: 0</th>\n",
       "      <th>avi_danger</th>\n",
       "      <th>avg_wind</th>\n",
       "      <th>temp_max_swing</th>\n",
       "      <th>temp_max_swing_from_avg</th>\n",
       "      <th>year</th>\n",
       "      <th>month</th>\n",
       "      <th>day</th>\n",
       "      <th>temp_max</th>\n",
       "      <th>temp_min</th>\n",
       "      <th>...</th>\n",
       "      <th>prevailing_wind_E_2</th>\n",
       "      <th>prevailing_wind_N_2</th>\n",
       "      <th>prevailing_wind_NE_2</th>\n",
       "      <th>prevailing_wind_NW_2</th>\n",
       "      <th>prevailing_wind_S_2</th>\n",
       "      <th>prevailing_wind_SE_2</th>\n",
       "      <th>prevailing_wind_SW_2</th>\n",
       "      <th>prevailing_wind_W_2</th>\n",
       "      <th>three_day_snow_2</th>\n",
       "      <th>next_day_avi_danger</th>\n",
       "    </tr>\n",
       "  </thead>\n",
       "  <tbody>\n",
       "    <tr>\n",
       "      <th>0</th>\n",
       "      <td>0</td>\n",
       "      <td>1.0</td>\n",
       "      <td>20.58</td>\n",
       "      <td>0.0</td>\n",
       "      <td>0.0</td>\n",
       "      <td>2010.0</td>\n",
       "      <td>12.0</td>\n",
       "      <td>20.0</td>\n",
       "      <td>15</td>\n",
       "      <td>5</td>\n",
       "      <td>...</td>\n",
       "      <td>0.0</td>\n",
       "      <td>0.0</td>\n",
       "      <td>0.0</td>\n",
       "      <td>1.0</td>\n",
       "      <td>0.0</td>\n",
       "      <td>0.0</td>\n",
       "      <td>0.0</td>\n",
       "      <td>0.0</td>\n",
       "      <td>0.2</td>\n",
       "      <td>3.0</td>\n",
       "    </tr>\n",
       "    <tr>\n",
       "      <th>1</th>\n",
       "      <td>1</td>\n",
       "      <td>3.0</td>\n",
       "      <td>35.12</td>\n",
       "      <td>3.0</td>\n",
       "      <td>0.0</td>\n",
       "      <td>2010.0</td>\n",
       "      <td>12.0</td>\n",
       "      <td>21.0</td>\n",
       "      <td>18</td>\n",
       "      <td>10</td>\n",
       "      <td>...</td>\n",
       "      <td>0.0</td>\n",
       "      <td>0.0</td>\n",
       "      <td>0.0</td>\n",
       "      <td>1.0</td>\n",
       "      <td>0.0</td>\n",
       "      <td>0.0</td>\n",
       "      <td>0.0</td>\n",
       "      <td>0.0</td>\n",
       "      <td>0.3</td>\n",
       "      <td>2.0</td>\n",
       "    </tr>\n",
       "    <tr>\n",
       "      <th>2</th>\n",
       "      <td>2</td>\n",
       "      <td>2.0</td>\n",
       "      <td>33.78</td>\n",
       "      <td>-3.0</td>\n",
       "      <td>0.0</td>\n",
       "      <td>2010.0</td>\n",
       "      <td>12.0</td>\n",
       "      <td>22.0</td>\n",
       "      <td>15</td>\n",
       "      <td>7</td>\n",
       "      <td>...</td>\n",
       "      <td>0.0</td>\n",
       "      <td>1.0</td>\n",
       "      <td>0.0</td>\n",
       "      <td>0.0</td>\n",
       "      <td>0.0</td>\n",
       "      <td>0.0</td>\n",
       "      <td>0.0</td>\n",
       "      <td>0.0</td>\n",
       "      <td>2.5</td>\n",
       "      <td>3.0</td>\n",
       "    </tr>\n",
       "    <tr>\n",
       "      <th>3</th>\n",
       "      <td>3</td>\n",
       "      <td>3.0</td>\n",
       "      <td>31.32</td>\n",
       "      <td>0.0</td>\n",
       "      <td>0.0</td>\n",
       "      <td>2010.0</td>\n",
       "      <td>12.0</td>\n",
       "      <td>23.0</td>\n",
       "      <td>15</td>\n",
       "      <td>6</td>\n",
       "      <td>...</td>\n",
       "      <td>0.0</td>\n",
       "      <td>1.0</td>\n",
       "      <td>0.0</td>\n",
       "      <td>0.0</td>\n",
       "      <td>0.0</td>\n",
       "      <td>0.0</td>\n",
       "      <td>0.0</td>\n",
       "      <td>0.0</td>\n",
       "      <td>4.3</td>\n",
       "      <td>2.0</td>\n",
       "    </tr>\n",
       "    <tr>\n",
       "      <th>4</th>\n",
       "      <td>4</td>\n",
       "      <td>2.0</td>\n",
       "      <td>32.44</td>\n",
       "      <td>2.0</td>\n",
       "      <td>1.4</td>\n",
       "      <td>2010.0</td>\n",
       "      <td>12.0</td>\n",
       "      <td>24.0</td>\n",
       "      <td>17</td>\n",
       "      <td>9</td>\n",
       "      <td>...</td>\n",
       "      <td>0.0</td>\n",
       "      <td>1.0</td>\n",
       "      <td>0.0</td>\n",
       "      <td>0.0</td>\n",
       "      <td>0.0</td>\n",
       "      <td>0.0</td>\n",
       "      <td>0.0</td>\n",
       "      <td>0.0</td>\n",
       "      <td>8.3</td>\n",
       "      <td>2.0</td>\n",
       "    </tr>\n",
       "  </tbody>\n",
       "</table>\n",
       "<p>5 rows × 74 columns</p>\n",
       "</div>"
      ],
      "text/plain": [
       "   Unnamed: 0  avi_danger  avg_wind  temp_max_swing  temp_max_swing_from_avg  \\\n",
       "0           0         1.0     20.58             0.0                      0.0   \n",
       "1           1         3.0     35.12             3.0                      0.0   \n",
       "2           2         2.0     33.78            -3.0                      0.0   \n",
       "3           3         3.0     31.32             0.0                      0.0   \n",
       "4           4         2.0     32.44             2.0                      1.4   \n",
       "\n",
       "     year  month   day  temp_max  temp_min  ...  prevailing_wind_E_2  \\\n",
       "0  2010.0   12.0  20.0        15         5  ...                  0.0   \n",
       "1  2010.0   12.0  21.0        18        10  ...                  0.0   \n",
       "2  2010.0   12.0  22.0        15         7  ...                  0.0   \n",
       "3  2010.0   12.0  23.0        15         6  ...                  0.0   \n",
       "4  2010.0   12.0  24.0        17         9  ...                  0.0   \n",
       "\n",
       "   prevailing_wind_N_2  prevailing_wind_NE_2  prevailing_wind_NW_2  \\\n",
       "0                  0.0                   0.0                   1.0   \n",
       "1                  0.0                   0.0                   1.0   \n",
       "2                  1.0                   0.0                   0.0   \n",
       "3                  1.0                   0.0                   0.0   \n",
       "4                  1.0                   0.0                   0.0   \n",
       "\n",
       "   prevailing_wind_S_2  prevailing_wind_SE_2  prevailing_wind_SW_2  \\\n",
       "0                  0.0                   0.0                   0.0   \n",
       "1                  0.0                   0.0                   0.0   \n",
       "2                  0.0                   0.0                   0.0   \n",
       "3                  0.0                   0.0                   0.0   \n",
       "4                  0.0                   0.0                   0.0   \n",
       "\n",
       "   prevailing_wind_W_2  three_day_snow_2  next_day_avi_danger  \n",
       "0                  0.0               0.2                  3.0  \n",
       "1                  0.0               0.3                  2.0  \n",
       "2                  0.0               2.5                  3.0  \n",
       "3                  0.0               4.3                  2.0  \n",
       "4                  0.0               8.3                  2.0  \n",
       "\n",
       "[5 rows x 74 columns]"
      ]
     },
     "execution_count": 8,
     "metadata": {},
     "output_type": "execute_result"
    }
   ],
   "source": [
    "avi = pd.read_csv('SnowWeatherCleanROS.csv')\n",
    "avi.head()"
   ]
  },
  {
   "cell_type": "markdown",
   "metadata": {},
   "source": [
    "#### filter data"
   ]
  },
  {
   "cell_type": "code",
   "execution_count": 9,
   "metadata": {},
   "outputs": [],
   "source": [
    "avi = avi.drop(['Unnamed: 0'], axis=1)"
   ]
  },
  {
   "cell_type": "code",
   "execution_count": 10,
   "metadata": {},
   "outputs": [
    {
     "name": "stdout",
     "output_type": "stream",
     "text": [
      "<class 'pandas.core.frame.DataFrame'>\n",
      "Int64Index: 1892 entries, 0 to 1891\n",
      "Data columns (total 73 columns):\n",
      " #   Column                     Non-Null Count  Dtype  \n",
      "---  ------                     --------------  -----  \n",
      " 0   avi_danger                 1892 non-null   float64\n",
      " 1   avg_wind                   1892 non-null   float64\n",
      " 2   temp_max_swing             1892 non-null   float64\n",
      " 3   temp_max_swing_from_avg    1892 non-null   float64\n",
      " 4   year                       1892 non-null   float64\n",
      " 5   month                      1892 non-null   float64\n",
      " 6   day                        1892 non-null   float64\n",
      " 7   temp_max                   1892 non-null   int64  \n",
      " 8   temp_min                   1892 non-null   int64  \n",
      " 9   water_equivalent           1892 non-null   float64\n",
      " 10  snow_fall                  1892 non-null   float64\n",
      " 11  snow_depth_6am             1892 non-null   float64\n",
      " 12  wind_speed_sum             1892 non-null   int64  \n",
      " 13  sunshine_percent           1892 non-null   int64  \n",
      " 14  west_wind_hours            1892 non-null   int64  \n",
      " 15  northwest_wind_hours       1892 non-null   int64  \n",
      " 16  prevailing_wind_E          1892 non-null   int64  \n",
      " 17  prevailing_wind_N          1892 non-null   int64  \n",
      " 18  prevailing_wind_NE         1892 non-null   int64  \n",
      " 19  prevailing_wind_NW         1892 non-null   int64  \n",
      " 20  prevailing_wind_S          1892 non-null   int64  \n",
      " 21  prevailing_wind_SE         1892 non-null   int64  \n",
      " 22  prevailing_wind_SW         1892 non-null   int64  \n",
      " 23  prevailing_wind_W          1892 non-null   int64  \n",
      " 24  prevailing_wind_na         1892 non-null   int64  \n",
      " 25  three_day_snow             1892 non-null   float64\n",
      " 26  five_day_snow              1892 non-null   float64\n",
      " 27  avi_danger_1               1892 non-null   float64\n",
      " 28  avg_wind_1                 1892 non-null   float64\n",
      " 29  temp_max_swing_1           1892 non-null   float64\n",
      " 30  temp_max_swing_from_avg_1  1892 non-null   float64\n",
      " 31  temp_max_1                 1892 non-null   float64\n",
      " 32  temp_min_1                 1892 non-null   float64\n",
      " 33  water_equivalent_1         1892 non-null   float64\n",
      " 34  snow_fall_1                1892 non-null   float64\n",
      " 35  snow_depth_6am_1           1892 non-null   float64\n",
      " 36  wind_speed_sum_1           1892 non-null   float64\n",
      " 37  sunshine_percent_1         1892 non-null   float64\n",
      " 38  west_wind_hours_1          1892 non-null   float64\n",
      " 39  northwest_wind_hours_1     1892 non-null   float64\n",
      " 40  prevailing_wind_E_1        1892 non-null   float64\n",
      " 41  prevailing_wind_N_1        1892 non-null   float64\n",
      " 42  prevailing_wind_NE_1       1892 non-null   float64\n",
      " 43  prevailing_wind_NW_1       1892 non-null   float64\n",
      " 44  prevailing_wind_S_1        1892 non-null   float64\n",
      " 45  prevailing_wind_SE_1       1892 non-null   float64\n",
      " 46  prevailing_wind_SW_1       1892 non-null   float64\n",
      " 47  prevailing_wind_W_1        1892 non-null   float64\n",
      " 48  three_day_snow_1           1892 non-null   float64\n",
      " 49  five_day_snow_1            1892 non-null   float64\n",
      " 50  avi_danger_2               1892 non-null   float64\n",
      " 51  avg_wind_2                 1892 non-null   float64\n",
      " 52  temp_max_swing_2           1892 non-null   float64\n",
      " 53  temp_max_swing_from_avg_2  1892 non-null   float64\n",
      " 54  temp_max_2                 1892 non-null   float64\n",
      " 55  temp_min_2                 1892 non-null   float64\n",
      " 56  water_equivalent_2         1892 non-null   float64\n",
      " 57  snow_fall_2                1892 non-null   float64\n",
      " 58  snow_depth_6am_2           1892 non-null   float64\n",
      " 59  wind_speed_sum_2           1892 non-null   float64\n",
      " 60  sunshine_percent_2         1892 non-null   float64\n",
      " 61  west_wind_hours_2          1892 non-null   float64\n",
      " 62  northwest_wind_hours_2     1892 non-null   float64\n",
      " 63  prevailing_wind_E_2        1892 non-null   float64\n",
      " 64  prevailing_wind_N_2        1892 non-null   float64\n",
      " 65  prevailing_wind_NE_2       1892 non-null   float64\n",
      " 66  prevailing_wind_NW_2       1892 non-null   float64\n",
      " 67  prevailing_wind_S_2        1892 non-null   float64\n",
      " 68  prevailing_wind_SE_2       1892 non-null   float64\n",
      " 69  prevailing_wind_SW_2       1892 non-null   float64\n",
      " 70  prevailing_wind_W_2        1892 non-null   float64\n",
      " 71  three_day_snow_2           1892 non-null   float64\n",
      " 72  next_day_avi_danger        1892 non-null   float64\n",
      "dtypes: float64(58), int64(15)\n",
      "memory usage: 1.1 MB\n"
     ]
    }
   ],
   "source": [
    "avi = avi[avi['avi_danger'].notnull()]\n",
    "avi.info()"
   ]
  },
  {
   "cell_type": "markdown",
   "metadata": {},
   "source": [
    "#### Fill Remaing NA's and switch avi danger 5's to 4. "
   ]
  },
  {
   "cell_type": "code",
   "execution_count": 11,
   "metadata": {},
   "outputs": [
    {
     "name": "stdout",
     "output_type": "stream",
     "text": [
      "<class 'pandas.core.frame.DataFrame'>\n",
      "Int64Index: 1892 entries, 0 to 1891\n",
      "Data columns (total 73 columns):\n",
      " #   Column                     Non-Null Count  Dtype  \n",
      "---  ------                     --------------  -----  \n",
      " 0   avi_danger                 1892 non-null   float64\n",
      " 1   avg_wind                   1892 non-null   float64\n",
      " 2   temp_max_swing             1892 non-null   float64\n",
      " 3   temp_max_swing_from_avg    1892 non-null   float64\n",
      " 4   year                       1892 non-null   float64\n",
      " 5   month                      1892 non-null   float64\n",
      " 6   day                        1892 non-null   float64\n",
      " 7   temp_max                   1892 non-null   int64  \n",
      " 8   temp_min                   1892 non-null   int64  \n",
      " 9   water_equivalent           1892 non-null   float64\n",
      " 10  snow_fall                  1892 non-null   float64\n",
      " 11  snow_depth_6am             1892 non-null   float64\n",
      " 12  wind_speed_sum             1892 non-null   int64  \n",
      " 13  sunshine_percent           1892 non-null   int64  \n",
      " 14  west_wind_hours            1892 non-null   int64  \n",
      " 15  northwest_wind_hours       1892 non-null   int64  \n",
      " 16  prevailing_wind_E          1892 non-null   int64  \n",
      " 17  prevailing_wind_N          1892 non-null   int64  \n",
      " 18  prevailing_wind_NE         1892 non-null   int64  \n",
      " 19  prevailing_wind_NW         1892 non-null   int64  \n",
      " 20  prevailing_wind_S          1892 non-null   int64  \n",
      " 21  prevailing_wind_SE         1892 non-null   int64  \n",
      " 22  prevailing_wind_SW         1892 non-null   int64  \n",
      " 23  prevailing_wind_W          1892 non-null   int64  \n",
      " 24  prevailing_wind_na         1892 non-null   int64  \n",
      " 25  three_day_snow             1892 non-null   float64\n",
      " 26  five_day_snow              1892 non-null   float64\n",
      " 27  avi_danger_1               1892 non-null   float64\n",
      " 28  avg_wind_1                 1892 non-null   float64\n",
      " 29  temp_max_swing_1           1892 non-null   float64\n",
      " 30  temp_max_swing_from_avg_1  1892 non-null   float64\n",
      " 31  temp_max_1                 1892 non-null   float64\n",
      " 32  temp_min_1                 1892 non-null   float64\n",
      " 33  water_equivalent_1         1892 non-null   float64\n",
      " 34  snow_fall_1                1892 non-null   float64\n",
      " 35  snow_depth_6am_1           1892 non-null   float64\n",
      " 36  wind_speed_sum_1           1892 non-null   float64\n",
      " 37  sunshine_percent_1         1892 non-null   float64\n",
      " 38  west_wind_hours_1          1892 non-null   float64\n",
      " 39  northwest_wind_hours_1     1892 non-null   float64\n",
      " 40  prevailing_wind_E_1        1892 non-null   float64\n",
      " 41  prevailing_wind_N_1        1892 non-null   float64\n",
      " 42  prevailing_wind_NE_1       1892 non-null   float64\n",
      " 43  prevailing_wind_NW_1       1892 non-null   float64\n",
      " 44  prevailing_wind_S_1        1892 non-null   float64\n",
      " 45  prevailing_wind_SE_1       1892 non-null   float64\n",
      " 46  prevailing_wind_SW_1       1892 non-null   float64\n",
      " 47  prevailing_wind_W_1        1892 non-null   float64\n",
      " 48  three_day_snow_1           1892 non-null   float64\n",
      " 49  five_day_snow_1            1892 non-null   float64\n",
      " 50  avi_danger_2               1892 non-null   float64\n",
      " 51  avg_wind_2                 1892 non-null   float64\n",
      " 52  temp_max_swing_2           1892 non-null   float64\n",
      " 53  temp_max_swing_from_avg_2  1892 non-null   float64\n",
      " 54  temp_max_2                 1892 non-null   float64\n",
      " 55  temp_min_2                 1892 non-null   float64\n",
      " 56  water_equivalent_2         1892 non-null   float64\n",
      " 57  snow_fall_2                1892 non-null   float64\n",
      " 58  snow_depth_6am_2           1892 non-null   float64\n",
      " 59  wind_speed_sum_2           1892 non-null   float64\n",
      " 60  sunshine_percent_2         1892 non-null   float64\n",
      " 61  west_wind_hours_2          1892 non-null   float64\n",
      " 62  northwest_wind_hours_2     1892 non-null   float64\n",
      " 63  prevailing_wind_E_2        1892 non-null   float64\n",
      " 64  prevailing_wind_N_2        1892 non-null   float64\n",
      " 65  prevailing_wind_NE_2       1892 non-null   float64\n",
      " 66  prevailing_wind_NW_2       1892 non-null   float64\n",
      " 67  prevailing_wind_S_2        1892 non-null   float64\n",
      " 68  prevailing_wind_SE_2       1892 non-null   float64\n",
      " 69  prevailing_wind_SW_2       1892 non-null   float64\n",
      " 70  prevailing_wind_W_2        1892 non-null   float64\n",
      " 71  three_day_snow_2           1892 non-null   float64\n",
      " 72  next_day_avi_danger        1892 non-null   float64\n",
      "dtypes: float64(58), int64(15)\n",
      "memory usage: 1.1 MB\n"
     ]
    }
   ],
   "source": [
    "avi = avi.fillna(0)\n",
    "avi[avi.avi_danger == 5] = 4\n",
    "avi[avi.next_day_avi_danger == 5] = 4\n",
    "avi.info()"
   ]
  },
  {
   "cell_type": "markdown",
   "metadata": {},
   "source": [
    "#### Splitting Dataset"
   ]
  },
  {
   "cell_type": "code",
   "execution_count": 12,
   "metadata": {},
   "outputs": [
    {
     "name": "stdout",
     "output_type": "stream",
     "text": [
      "(1892, 71)\n",
      "(1892,)\n"
     ]
    }
   ],
   "source": [
    "x = avi.iloc[:, 0:avi.shape[1]-2]\n",
    "y = avi.iloc[:, avi.shape[1]-1]\n",
    "\n",
    "print(x.shape)\n",
    "print(y.shape)"
   ]
  },
  {
   "cell_type": "markdown",
   "metadata": {},
   "source": [
    "#### Standardizing"
   ]
  },
  {
   "cell_type": "code",
   "execution_count": 13,
   "metadata": {},
   "outputs": [],
   "source": [
    "#standardizer \n",
    "def standardize(X_train, X_test):\n",
    "    scaler = StandardScaler()\n",
    "    # Fitting and transforming training data\n",
    "    scaler.fit(X_train)\n",
    "    X_train = scaler.transform(X_train)\n",
    "    # Tranforming testing data based on traning fit (prevent data leakage)\n",
    "    X_test = scaler.transform(X_test)\n",
    "    return X_train, X_test"
   ]
  },
  {
   "cell_type": "code",
   "execution_count": 14,
   "metadata": {},
   "outputs": [],
   "source": [
    "x_train, x_test, y_train, y_test = train_test_split(x, y, test_size=0.25, random_state=42)\n",
    "\n",
    "# Scaling\n",
    "x_train, x_test = standardize(x_train, x_test)"
   ]
  },
  {
   "cell_type": "code",
   "execution_count": 15,
   "metadata": {},
   "outputs": [
    {
     "name": "stdout",
     "output_type": "stream",
     "text": [
      "0       3.0\n",
      "1       2.0\n",
      "2       3.0\n",
      "3       2.0\n",
      "4       2.0\n",
      "       ... \n",
      "1887    4.0\n",
      "1888    4.0\n",
      "1889    4.0\n",
      "1890    4.0\n",
      "1891    4.0\n",
      "Name: next_day_avi_danger, Length: 1892, dtype: float64\n",
      "[[  1. 473.]\n",
      " [  2. 473.]\n",
      " [  3. 473.]\n",
      " [  4. 473.]]\n"
     ]
    }
   ],
   "source": [
    "print(y)\n",
    "\n",
    "(unique, counts) = np.unique(y, return_counts=True)\n",
    "frequencies = np.asarray((unique, counts)).T\n",
    "\n",
    "print(frequencies)\n"
   ]
  },
  {
   "cell_type": "markdown",
   "metadata": {},
   "source": [
    "### Decision Trees "
   ]
  },
  {
   "cell_type": "code",
   "execution_count": 19,
   "metadata": {},
   "outputs": [
    {
     "name": "stdout",
     "output_type": "stream",
     "text": [
      "0.733615221987315\n",
      "[0.67019027 0.64904863 0.70613108]\n",
      "{'min_samples_split': 2, 'min_samples_leaf': 1, 'max_depth': 110}\n"
     ]
    }
   ],
   "source": [
    "# Maximum number of levels in tree\n",
    "max_depth = [int(x) for x in np.linspace(10, 110, num = 11)]\n",
    "max_depth.append(None)\n",
    "# Minimum number of samples required to split a node\n",
    "min_samples_split = [2, 5, 10]\n",
    "# Minimum number of samples required at each leaf node\n",
    "min_samples_leaf = [1, 2, 4]\n",
    "# Method of selecting samples for training each tree\n",
    "bootstrap = [True, False]\n",
    "# Create the random grid\n",
    "random_grid = {'max_depth': max_depth,\n",
    "               'min_samples_split': min_samples_split,\n",
    "               'min_samples_leaf': min_samples_leaf,\n",
    "              }\n",
    "\n",
    "\n",
    "ds = DecisionTreeClassifier()\n",
    "ds_cv = RandomizedSearchCV(estimator=ds, param_distributions=random_grid, n_iter=100, scoring='f1_weighted')\n",
    "ds_cv.fit(x_train, y_train)\n",
    "y_pred_ds = ds_cv.predict(x_test)\n",
    "print(accuracy_score(y_test, y_pred_ds))\n",
    "print(cross_val_score(ds, x_train, y_train, cv=3))\n",
    "print(ds_cv.best_params_)"
   ]
  },
  {
   "cell_type": "code",
   "execution_count": 20,
   "metadata": {},
   "outputs": [
    {
     "name": "stdout",
     "output_type": "stream",
     "text": [
      "[[ 96  14   5   1]\n",
      " [ 21  50  27   9]\n",
      " [  9  35  90   5]\n",
      " [  0   0   0 111]]\n"
     ]
    }
   ],
   "source": [
    "print(confusion_matrix(y_test, y_pred_ds))"
   ]
  },
  {
   "cell_type": "code",
   "execution_count": 21,
   "metadata": {},
   "outputs": [
    {
     "name": "stdout",
     "output_type": "stream",
     "text": [
      "              precision    recall  f1-score   support\n",
      "\n",
      "         1.0       0.76      0.83      0.79       116\n",
      "         2.0       0.51      0.47      0.49       107\n",
      "         3.0       0.74      0.65      0.69       139\n",
      "         4.0       0.88      1.00      0.94       111\n",
      "\n",
      "    accuracy                           0.73       473\n",
      "   macro avg       0.72      0.74      0.73       473\n",
      "weighted avg       0.72      0.73      0.73       473\n",
      "\n"
     ]
    }
   ],
   "source": [
    "print(classification_report(y_test, y_pred_ds))"
   ]
  },
  {
   "cell_type": "markdown",
   "metadata": {},
   "source": [
    "### Random Forest"
   ]
  },
  {
   "cell_type": "code",
   "execution_count": 22,
   "metadata": {},
   "outputs": [
    {
     "name": "stdout",
     "output_type": "stream",
     "text": [
      "0.7991543340380549\n",
      "[0.7653277  0.74841438 0.76955603]\n",
      "{'n_estimators': 1600, 'min_samples_split': 10, 'min_samples_leaf': 2, 'max_features': 'auto', 'max_depth': 110, 'bootstrap': False}\n"
     ]
    }
   ],
   "source": [
    "# Number of trees in random forest\n",
    "n_estimators = [int(x) for x in np.linspace(start = 200, stop = 2000, num = 10)]\n",
    "# Number of features to consider at every split\n",
    "max_features = ['auto', 'sqrt']\n",
    "# Maximum number of levels in tree\n",
    "max_depth = [int(x) for x in np.linspace(10, 110, num = 11)]\n",
    "max_depth.append(None)\n",
    "# Minimum number of samples required to split a node\n",
    "min_samples_split = [2, 5, 10]\n",
    "# Minimum number of samples required at each leaf node\n",
    "min_samples_leaf = [1, 2, 4]\n",
    "# Method of selecting samples for training each tree\n",
    "bootstrap = [True, False]\n",
    "# Create the random grid\n",
    "random_grid = {'n_estimators': n_estimators,\n",
    "               'max_features': max_features,\n",
    "               'max_depth': max_depth,\n",
    "               'min_samples_split': min_samples_split,\n",
    "               'min_samples_leaf': min_samples_leaf,\n",
    "               'bootstrap': bootstrap}\n",
    "\n",
    "\n",
    "rf = RandomForestClassifier()\n",
    "rf_cv = RandomizedSearchCV(estimator=rf, param_distributions=random_grid, n_iter=5, scoring='f1_weighted')\n",
    "rf_cv.fit(x_train, y_train)\n",
    "y_pred_rf = rf_cv.predict(x_test)\n",
    "print(accuracy_score(y_test, y_pred_rf))\n",
    "print(cross_val_score(rf, x_train, y_train, cv=3))\n",
    "print(rf_cv.best_params_)"
   ]
  },
  {
   "cell_type": "code",
   "execution_count": 23,
   "metadata": {},
   "outputs": [
    {
     "name": "stdout",
     "output_type": "stream",
     "text": [
      "[[104   9   3   0]\n",
      " [ 14  71  21   1]\n",
      " [  7  38  92   2]\n",
      " [  0   0   0 111]]\n"
     ]
    }
   ],
   "source": [
    "print(confusion_matrix(y_test, y_pred_rf))"
   ]
  },
  {
   "cell_type": "code",
   "execution_count": 24,
   "metadata": {},
   "outputs": [
    {
     "name": "stdout",
     "output_type": "stream",
     "text": [
      "              precision    recall  f1-score   support\n",
      "\n",
      "         1.0       0.83      0.90      0.86       116\n",
      "         2.0       0.60      0.66      0.63       107\n",
      "         3.0       0.79      0.66      0.72       139\n",
      "         4.0       0.97      1.00      0.99       111\n",
      "\n",
      "    accuracy                           0.80       473\n",
      "   macro avg       0.80      0.81      0.80       473\n",
      "weighted avg       0.80      0.80      0.80       473\n",
      "\n"
     ]
    }
   ],
   "source": [
    "print(classification_report(y_test, y_pred_rf))"
   ]
  },
  {
   "cell_type": "markdown",
   "metadata": {},
   "source": [
    "## Find Feature Importances"
   ]
  },
  {
   "cell_type": "code",
   "execution_count": 27,
   "metadata": {},
   "outputs": [
    {
     "data": {
      "text/plain": [
       "Text(0.5, 0, 'Random Forest Feature Importance')"
      ]
     },
     "execution_count": 27,
     "metadata": {},
     "output_type": "execute_result"
    },
    {
     "data": {
      "image/png": "[encoded data removed]",
      "text/plain": [
       "<Figure size 1440x1440 with 1 Axes>"
      ]
     },
     "metadata": {
      "needs_background": "light"
     },
     "output_type": "display_data"
    }
   ],
   "source": [
    "sorted_idx = rf_cv.best_estimator_.feature_importances_.argsort()\n",
    "plt.figure(figsize=[20,20])\n",
    "plt.barh(avi.columns[sorted_idx], rf_cv.best_estimator_.feature_importances_[sorted_idx])\n",
    "plt.xlabel(\"Random Forest Feature Importance\")"
   ]
  },
  {
   "cell_type": "markdown",
   "metadata": {},
   "source": [
    "### Extra Forest"
   ]
  },
  {
   "cell_type": "code",
   "execution_count": 28,
   "metadata": {},
   "outputs": [
    {
     "name": "stdout",
     "output_type": "stream",
     "text": [
      "0.8012684989429175\n",
      "[0.77589852 0.74630021 0.78858351]\n",
      "{'n_estimators': 1600, 'min_samples_split': 2, 'min_samples_leaf': 2, 'max_features': 'sqrt', 'max_depth': 80, 'bootstrap': False}\n"
     ]
    }
   ],
   "source": [
    "# Number of trees in random forest\n",
    "n_estimators = [int(x) for x in np.linspace(start = 200, stop = 2000, num = 10)]\n",
    "# Number of features to consider at every split\n",
    "max_features = ['auto', 'sqrt']\n",
    "# Maximum number of levels in tree\n",
    "max_depth = [int(x) for x in np.linspace(10, 110, num = 11)]\n",
    "max_depth.append(None)\n",
    "# Minimum number of samples required to split a node\n",
    "min_samples_split = [2, 5, 10]\n",
    "# Minimum number of samples required at each leaf node\n",
    "min_samples_leaf = [1, 2, 4]\n",
    "# Method of selecting samples for training each tree\n",
    "bootstrap = [True, False]\n",
    "# Create the random grid\n",
    "random_grid = {'n_estimators': n_estimators,\n",
    "               'max_features': max_features,\n",
    "               'max_depth': max_depth,\n",
    "               'min_samples_split': min_samples_split,\n",
    "               'min_samples_leaf': min_samples_leaf,\n",
    "               'bootstrap': bootstrap}\n",
    "\n",
    "et = ExtraTreesClassifier(class_weight = \"balanced\")\n",
    "et_cv = RandomizedSearchCV(estimator=et, param_distributions=random_grid, n_iter=5, scoring='f1_weighted')\n",
    "et_cv.fit(x_train, y_train)\n",
    "y_pred_et = et_cv.predict(x_test)\n",
    "print(accuracy_score(y_test, y_pred_et))\n",
    "print(cross_val_score(et, x_train, y_train, cv=3))\n",
    "print(et_cv.best_params_)"
   ]
  },
  {
   "cell_type": "code",
   "execution_count": 29,
   "metadata": {},
   "outputs": [
    {
     "name": "stdout",
     "output_type": "stream",
     "text": [
      "[[100  12   4   0]\n",
      " [ 15  71  21   0]\n",
      " [  6  34  97   2]\n",
      " [  0   0   0 111]]\n"
     ]
    }
   ],
   "source": [
    "print(confusion_matrix(y_test, y_pred_et))"
   ]
  },
  {
   "cell_type": "code",
   "execution_count": 30,
   "metadata": {},
   "outputs": [
    {
     "name": "stdout",
     "output_type": "stream",
     "text": [
      "              precision    recall  f1-score   support\n",
      "\n",
      "         1.0       0.83      0.86      0.84       116\n",
      "         2.0       0.61      0.66      0.63       107\n",
      "         3.0       0.80      0.70      0.74       139\n",
      "         4.0       0.98      1.00      0.99       111\n",
      "\n",
      "    accuracy                           0.80       473\n",
      "   macro avg       0.80      0.81      0.80       473\n",
      "weighted avg       0.80      0.80      0.80       473\n",
      "\n"
     ]
    }
   ],
   "source": [
    "print(classification_report(y_test, y_pred_et))"
   ]
  },
  {
   "cell_type": "code",
   "execution_count": null,
   "metadata": {},
   "outputs": [],
   "source": []
  }
 ],
 "metadata": {
  "kernelspec": {
   "display_name": "Python 3",
   "language": "python",
   "name": "python3"
  },
  "language_info": {
   "codemirror_mode": {
    "name": "ipython",
    "version": 3
   },
   "file_extension": ".py",
   "mimetype": "text/x-python",
   "name": "python",
   "nbconvert_exporter": "python",
   "pygments_lexer": "ipython3",
   "version": "3.8.3"
  }
 },
 "nbformat": 4,
 "nbformat_minor": 4
}
