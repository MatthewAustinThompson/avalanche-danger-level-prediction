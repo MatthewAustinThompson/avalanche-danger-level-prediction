{
 "cells": [
  {
   "cell_type": "code",
   "execution_count": 7,
   "metadata": {},
   "outputs": [],
   "source": [
    "import pandas as pd"
   ]
  },
  {
   "cell_type": "code",
   "execution_count": 20,
   "metadata": {},
   "outputs": [
    {
     "name": "stdout",
     "output_type": "stream",
     "text": [
      "       Date Max Temp Min Temp Total (SWE) 24H Snow & Ice  Wind Avg  \\\n",
      "0  11/28/18     16 F     11 F     0.20 in         2.5 in  29.4 MPH   \n",
      "1  11/27/18     18 F     12 F     0.78 in         6.8 in    43 MPH   \n",
      "2  11/24/18     31 F     21 F        0 in           0 in  31.3 MPH   \n",
      "3  11/21/18     10 F    -20 F     0.57 in         4.5 in  58.7 MPH   \n",
      "4  11/17/18     16 F      6 F     0.15 in         2.1 in  63.5 MPH   \n",
      "5  11/14/18     -4 F    -12 F     0.10 in           1 in  67.4 MPH   \n",
      "\n",
      "  Wind Fastest Mile Fastest Mile Dir  Avalanche Activity  \n",
      "0            58 MPH        330 (NNW)                 NaN  \n",
      "1            96 MPH           90 (E)                 NaN  \n",
      "2            64 MPH          280 (W)                 NaN  \n",
      "3            97 MPH        300 (WNW)                 NaN  \n",
      "4           100 MPH          280 (W)                 NaN  \n",
      "5           113 MPH        290 (WNW)                 NaN  \n"
     ]
    }
   ],
   "source": [
    "data = []\n",
    "for i in range(0,15):\n",
    "    page = pd.read_html(io=\"https://mountwashingtonavalanchecenter.org/weather-avalanche-log/?frm-page-12667=\" + str(i))\n",
    "    data = data + page\n",
    "print(data[14])"
   ]
  },
  {
   "cell_type": "code",
   "execution_count": null,
   "metadata": {},
   "outputs": [],
   "source": []
  }
 ],
 "metadata": {
  "kernelspec": {
   "display_name": "Python 3",
   "language": "python",
   "name": "python3"
  },
  "language_info": {
   "codemirror_mode": {
    "name": "ipython",
    "version": 3
   },
   "file_extension": ".py",
   "mimetype": "text/x-python",
   "name": "python",
   "nbconvert_exporter": "python",
   "pygments_lexer": "ipython3",
   "version": "3.8.3"
  }
 },
 "nbformat": 4,
 "nbformat_minor": 4
}
