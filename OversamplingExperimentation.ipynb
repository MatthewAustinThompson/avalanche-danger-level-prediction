{
 "cells": [
  {
   "cell_type": "code",
   "execution_count": 1,
   "metadata": {},
   "outputs": [],
   "source": [
    "import os\n",
    "import numpy as np\n",
    "import pandas as pd\n",
    "import matplotlib.pyplot as plt\n",
    "import seaborn as sns\n",
    "\n",
    "# sklearn \n",
    "from sklearn.model_selection import train_test_split, GridSearchCV, cross_val_score\n",
    "from sklearn.metrics import confusion_matrix, classification_report, accuracy_score\n",
    "from sklearn.linear_model import LogisticRegression\n",
    "from sklearn.tree import DecisionTreeClassifier\n",
    "from sklearn.svm import SVC\n",
    "from sklearn.ensemble import RandomForestClassifier, GradientBoostingClassifier, ExtraTreesClassifier\n",
    "from sklearn.decomposition import PCA\n",
    "from sklearn.neighbors import KNeighborsClassifier\n",
    "from sklearn.model_selection import RandomizedSearchCV\n",
    "from sklearn.preprocessing import StandardScaler\n",
    "\n",
    "from imblearn.over_sampling import RandomOverSampler\n",
    "from imblearn.combine import SMOTETomek"
   ]
  },
  {
   "cell_type": "code",
   "execution_count": 2,
   "metadata": {},
   "outputs": [
    {
     "name": "stdout",
     "output_type": "stream",
     "text": [
      "<class 'pandas.core.frame.DataFrame'>\n",
      "RangeIndex: 1224 entries, 0 to 1223\n",
      "Data columns (total 74 columns):\n",
      " #   Column                     Non-Null Count  Dtype  \n",
      "---  ------                     --------------  -----  \n",
      " 0   Unnamed: 0                 1224 non-null   int64  \n",
      " 1   avi_danger                 1224 non-null   float64\n",
      " 2   avg_wind                   1224 non-null   float64\n",
      " 3   temp_max_swing             1224 non-null   float64\n",
      " 4   temp_max_swing_from_avg    1224 non-null   float64\n",
      " 5   year                       1224 non-null   float64\n",
      " 6   month                      1224 non-null   float64\n",
      " 7   day                        1224 non-null   float64\n",
      " 8   temp_max                   1224 non-null   int64  \n",
      " 9   temp_min                   1224 non-null   int64  \n",
      " 10  water_equivalent           1224 non-null   float64\n",
      " 11  snow_fall                  1224 non-null   float64\n",
      " 12  snow_depth_6am             1224 non-null   float64\n",
      " 13  wind_speed_sum             1224 non-null   int64  \n",
      " 14  sunshine_percent           1224 non-null   int64  \n",
      " 15  west_wind_hours            1224 non-null   int64  \n",
      " 16  northwest_wind_hours       1224 non-null   int64  \n",
      " 17  prevailing_wind_E          1224 non-null   int64  \n",
      " 18  prevailing_wind_N          1224 non-null   int64  \n",
      " 19  prevailing_wind_NE         1224 non-null   int64  \n",
      " 20  prevailing_wind_NW         1224 non-null   int64  \n",
      " 21  prevailing_wind_S          1224 non-null   int64  \n",
      " 22  prevailing_wind_SE         1224 non-null   int64  \n",
      " 23  prevailing_wind_SW         1224 non-null   int64  \n",
      " 24  prevailing_wind_W          1224 non-null   int64  \n",
      " 25  three_day_snow             1224 non-null   float64\n",
      " 26  five_day_snow              1224 non-null   float64\n",
      " 27  avi_danger_1               1224 non-null   float64\n",
      " 28  avg_wind_1                 1224 non-null   float64\n",
      " 29  temp_max_swing_1           1224 non-null   float64\n",
      " 30  temp_max_swing_from_avg_1  1224 non-null   float64\n",
      " 31  temp_max_1                 1224 non-null   float64\n",
      " 32  temp_min_1                 1224 non-null   float64\n",
      " 33  water_equivalent_1         1224 non-null   float64\n",
      " 34  snow_fall_1                1224 non-null   float64\n",
      " 35  snow_depth_6am_1           1224 non-null   float64\n",
      " 36  wind_speed_sum_1           1224 non-null   float64\n",
      " 37  sunshine_percent_1         1224 non-null   float64\n",
      " 38  west_wind_hours_1          1224 non-null   float64\n",
      " 39  northwest_wind_hours_1     1224 non-null   float64\n",
      " 40  prevailing_wind_E_1        1224 non-null   float64\n",
      " 41  prevailing_wind_N_1        1224 non-null   float64\n",
      " 42  prevailing_wind_NE_1       1224 non-null   float64\n",
      " 43  prevailing_wind_NW_1       1224 non-null   float64\n",
      " 44  prevailing_wind_S_1        1224 non-null   float64\n",
      " 45  prevailing_wind_SE_1       1224 non-null   float64\n",
      " 46  prevailing_wind_SW_1       1224 non-null   float64\n",
      " 47  prevailing_wind_W_1        1224 non-null   float64\n",
      " 48  three_day_snow_1           1224 non-null   float64\n",
      " 49  five_day_snow_1            1224 non-null   float64\n",
      " 50  avi_danger_2               1224 non-null   float64\n",
      " 51  avg_wind_2                 1224 non-null   float64\n",
      " 52  temp_max_swing_2           1224 non-null   float64\n",
      " 53  temp_max_swing_from_avg_2  1224 non-null   float64\n",
      " 54  temp_max_2                 1224 non-null   float64\n",
      " 55  temp_min_2                 1224 non-null   float64\n",
      " 56  water_equivalent_2         1224 non-null   float64\n",
      " 57  snow_fall_2                1224 non-null   float64\n",
      " 58  snow_depth_6am_2           1224 non-null   float64\n",
      " 59  wind_speed_sum_2           1224 non-null   float64\n",
      " 60  sunshine_percent_2         1224 non-null   float64\n",
      " 61  west_wind_hours_2          1224 non-null   float64\n",
      " 62  northwest_wind_hours_2     1224 non-null   float64\n",
      " 63  prevailing_wind_E_2        1224 non-null   float64\n",
      " 64  prevailing_wind_N_2        1224 non-null   float64\n",
      " 65  prevailing_wind_NE_2       1224 non-null   float64\n",
      " 66  prevailing_wind_NW_2       1224 non-null   float64\n",
      " 67  prevailing_wind_S_2        1224 non-null   float64\n",
      " 68  prevailing_wind_SE_2       1224 non-null   float64\n",
      " 69  prevailing_wind_SW_2       1224 non-null   float64\n",
      " 70  prevailing_wind_W_2        1224 non-null   float64\n",
      " 71  three_day_snow_2           1224 non-null   float64\n",
      " 72  five_day_snow_2            1224 non-null   float64\n",
      " 73  next_day_avi_danger        1224 non-null   float64\n",
      "dtypes: float64(59), int64(15)\n",
      "memory usage: 707.8 KB\n"
     ]
    }
   ],
   "source": [
    "avi = pd.read_csv('SnowWeatherCleanFE.csv')\n",
    "avi.info()"
   ]
  },
  {
   "cell_type": "code",
   "execution_count": 3,
   "metadata": {},
   "outputs": [],
   "source": [
    "avi = avi.drop(['Unnamed: 0'], axis=1)"
   ]
  },
  {
   "cell_type": "code",
   "execution_count": 4,
   "metadata": {},
   "outputs": [
    {
     "name": "stdout",
     "output_type": "stream",
     "text": [
      "(1224, 72)\n",
      "(1224,)\n"
     ]
    }
   ],
   "source": [
    "x = avi.iloc[:, 0:avi.shape[1]-1]\n",
    "y = avi.iloc[:, avi.shape[1]-1]\n",
    "\n",
    "print(x.shape)\n",
    "print(y.shape)"
   ]
  },
  {
   "cell_type": "markdown",
   "metadata": {},
   "source": [
    "## RandomOverSampler"
   ]
  },
  {
   "cell_type": "code",
   "execution_count": 5,
   "metadata": {},
   "outputs": [
    {
     "name": "stdout",
     "output_type": "stream",
     "text": [
      "(1224, 72)\n",
      "(1224,)\n",
      "(1876, 72)\n",
      "(1876,)\n"
     ]
    }
   ],
   "source": [
    "print(x.shape)\n",
    "print(y.shape)\n",
    "ovs = RandomOverSampler(random_state=42)\n",
    "x_res, y_res = ovs.fit_sample(x, y)\n",
    "print(x_res.shape)\n",
    "print(y_res.shape)"
   ]
  },
  {
   "cell_type": "code",
   "execution_count": 6,
   "metadata": {},
   "outputs": [
    {
     "name": "stdout",
     "output_type": "stream",
     "text": [
      "(1876, 73)\n",
      "<bound method DataFrame.info of       avi_danger  avg_wind  temp_max_swing  temp_max_swing_from_avg    year  \\\n",
      "0            1.0     20.58             0.0                      0.0  2010.0   \n",
      "1            3.0     35.12             3.0                      0.0  2010.0   \n",
      "2            2.0     33.78            -3.0                      0.0  2010.0   \n",
      "3            3.0     31.32             0.0                      0.0  2010.0   \n",
      "4            2.0     32.44             2.0                      1.4  2010.0   \n",
      "...          ...       ...             ...                      ...     ...   \n",
      "1871         3.0     32.88            -3.0                     -5.2  2016.0   \n",
      "1872         3.0     57.04             3.0                     -3.4  2011.0   \n",
      "1873         3.0     47.87            -7.0                     -8.8  2018.0   \n",
      "1874         3.0     35.79             3.0                     -7.4  2016.0   \n",
      "1875         3.0     28.86           -14.0                      0.0  2011.0   \n",
      "\n",
      "      month   day  temp_max  temp_min  water_equivalent  ...  \\\n",
      "0      12.0  20.0        15         5              0.14  ...   \n",
      "1      12.0  21.0        18        10              0.15  ...   \n",
      "2      12.0  22.0        15         7              0.47  ...   \n",
      "3      12.0  23.0        15         6              0.29  ...   \n",
      "4      12.0  24.0        17         9              0.00  ...   \n",
      "...     ...   ...       ...       ...               ...  ...   \n",
      "1871    2.0  10.0        12        -1              0.19  ...   \n",
      "1872    3.0  10.0        22         8              0.40  ...   \n",
      "1873    4.0  20.0        18        10              1.17  ...   \n",
      "1874   12.0  29.0        18         5              0.91  ...   \n",
      "1875    1.0  20.0        15        -4              0.00  ...   \n",
      "\n",
      "      prevailing_wind_N_2  prevailing_wind_NE_2  prevailing_wind_NW_2  \\\n",
      "0                     0.0                   0.0                   1.0   \n",
      "1                     0.0                   0.0                   1.0   \n",
      "2                     1.0                   0.0                   0.0   \n",
      "3                     1.0                   0.0                   0.0   \n",
      "4                     1.0                   0.0                   0.0   \n",
      "...                   ...                   ...                   ...   \n",
      "1871                  0.0                   0.0                   0.0   \n",
      "1872                  0.0                   0.0                   1.0   \n",
      "1873                  0.0                   0.0                   0.0   \n",
      "1874                  0.0                   0.0                   0.0   \n",
      "1875                  0.0                   0.0                   0.0   \n",
      "\n",
      "      prevailing_wind_S_2  prevailing_wind_SE_2  prevailing_wind_SW_2  \\\n",
      "0                     0.0                   0.0                   0.0   \n",
      "1                     0.0                   0.0                   0.0   \n",
      "2                     0.0                   0.0                   0.0   \n",
      "3                     0.0                   0.0                   0.0   \n",
      "4                     0.0                   0.0                   0.0   \n",
      "...                   ...                   ...                   ...   \n",
      "1871                  0.0                   0.0                   0.0   \n",
      "1872                  0.0                   0.0                   0.0   \n",
      "1873                  0.0                   0.0                   0.0   \n",
      "1874                  0.0                   0.0                   0.0   \n",
      "1875                  0.0                   0.0                   1.0   \n",
      "\n",
      "      prevailing_wind_W_2  three_day_snow_2  five_day_snow_2  \\\n",
      "0                     0.0               0.2              0.2   \n",
      "1                     0.0               0.3              0.3   \n",
      "2                     0.0               2.5              2.5   \n",
      "3                     0.0               4.3              4.5   \n",
      "4                     0.0               8.3              8.6   \n",
      "...                   ...               ...              ...   \n",
      "1871                  0.0               4.5              6.4   \n",
      "1872                  0.0              12.3             12.7   \n",
      "1873                  1.0              10.3             11.7   \n",
      "1874                  1.0               1.7              4.5   \n",
      "1875                  0.0               9.4             10.8   \n",
      "\n",
      "      next_day_avi_danger  \n",
      "0                     3.0  \n",
      "1                     2.0  \n",
      "2                     3.0  \n",
      "3                     2.0  \n",
      "4                     2.0  \n",
      "...                   ...  \n",
      "1871                  4.0  \n",
      "1872                  4.0  \n",
      "1873                  4.0  \n",
      "1874                  4.0  \n",
      "1875                  4.0  \n",
      "\n",
      "[1876 rows x 73 columns]>\n"
     ]
    }
   ],
   "source": [
    "aviROS = pd.DataFrame(x_res)\n",
    "aviROS['next_day_avi_danger'] = y_res \n",
    "print(aviROS.shape)\n",
    "print(aviROS.info)"
   ]
  },
  {
   "cell_type": "code",
   "execution_count": 7,
   "metadata": {},
   "outputs": [],
   "source": [
    "aviROS.to_csv('SnowWeatherCleanROS.csv')"
   ]
  },
  {
   "cell_type": "markdown",
   "metadata": {},
   "source": [
    "## SMOTETomek"
   ]
  },
  {
   "cell_type": "code",
   "execution_count": 8,
   "metadata": {},
   "outputs": [
    {
     "name": "stdout",
     "output_type": "stream",
     "text": [
      "(1224, 72)\n",
      "(1224,)\n",
      "(1640, 72)\n",
      "(1640,)\n"
     ]
    }
   ],
   "source": [
    "print(x.shape)\n",
    "print(y.shape)\n",
    "smk = SMOTETomek()\n",
    "x_res_smk, y_res_smk = smk.fit_sample(x, y)\n",
    "print(x_res_smk.shape)\n",
    "print(y_res_smk.shape)"
   ]
  },
  {
   "cell_type": "code",
   "execution_count": 9,
   "metadata": {},
   "outputs": [
    {
     "name": "stdout",
     "output_type": "stream",
     "text": [
      "(1640, 73)\n",
      "<bound method DataFrame.info of       avi_danger   avg_wind  temp_max_swing  temp_max_swing_from_avg  \\\n",
      "0       1.000000  20.580000        0.000000                 0.000000   \n",
      "1       3.000000  35.120000        3.000000                 0.000000   \n",
      "2       2.000000  33.780000       -3.000000                 0.000000   \n",
      "3       3.000000  31.320000        0.000000                 0.000000   \n",
      "4       2.000000  32.440000        2.000000                 1.400000   \n",
      "...          ...        ...             ...                      ...   \n",
      "1635    2.922218  19.457401       11.377743                12.863303   \n",
      "1636    2.366296  45.862156        6.366296                15.879109   \n",
      "1637    3.000000  29.708633       -0.185227                 4.888864   \n",
      "1638    3.000000  34.541673        0.038769                 8.832331   \n",
      "1639    1.205529  25.496942       -3.383413                -1.037140   \n",
      "\n",
      "             year      month        day  temp_max  temp_min  water_equivalent  \\\n",
      "0     2010.000000  12.000000  20.000000        15         5          0.140000   \n",
      "1     2010.000000  12.000000  21.000000        18        10          0.150000   \n",
      "2     2010.000000  12.000000  22.000000        15         7          0.470000   \n",
      "3     2010.000000  12.000000  23.000000        15         6          0.290000   \n",
      "4     2010.000000  12.000000  24.000000        17         9          0.000000   \n",
      "...           ...        ...        ...       ...       ...               ...   \n",
      "1635  2014.000000  12.000000  22.766654        34        16          0.324112   \n",
      "1636  2012.098887   2.633704   7.930365        26        10          0.312048   \n",
      "1637  2016.292172   1.646086  20.308711        15         3          0.718269   \n",
      "1638  2014.535479   1.464521  22.103148        16        -1          0.559034   \n",
      "1639  2013.691706  11.075119  17.411058        29        15          0.852175   \n",
      "\n",
      "      ...  prevailing_wind_N_2  prevailing_wind_NE_2  prevailing_wind_NW_2  \\\n",
      "0     ...             0.000000                   0.0              1.000000   \n",
      "1     ...             0.000000                   0.0              1.000000   \n",
      "2     ...             1.000000                   0.0              0.000000   \n",
      "3     ...             1.000000                   0.0              0.000000   \n",
      "4     ...             1.000000                   0.0              0.000000   \n",
      "...   ...                  ...                   ...                   ...   \n",
      "1635  ...             0.038891                   0.0              0.000000   \n",
      "1636  ...             0.000000                   0.0              1.000000   \n",
      "1637  ...             0.353914                   0.0              0.646086   \n",
      "1638  ...             0.535479                   0.0              0.464521   \n",
      "1639  ...             0.897235                   0.0              0.102765   \n",
      "\n",
      "      prevailing_wind_S_2  prevailing_wind_SE_2  prevailing_wind_SW_2  \\\n",
      "0                     0.0                   0.0                   0.0   \n",
      "1                     0.0                   0.0                   0.0   \n",
      "2                     0.0                   0.0                   0.0   \n",
      "3                     0.0                   0.0                   0.0   \n",
      "4                     0.0                   0.0                   0.0   \n",
      "...                   ...                   ...                   ...   \n",
      "1635                  0.0                   0.0                   0.0   \n",
      "1636                  0.0                   0.0                   0.0   \n",
      "1637                  0.0                   0.0                   0.0   \n",
      "1638                  0.0                   0.0                   0.0   \n",
      "1639                  0.0                   0.0                   0.0   \n",
      "\n",
      "      prevailing_wind_W_2  three_day_snow_2  five_day_snow_2  \\\n",
      "0                0.000000          0.200000         0.200000   \n",
      "1                0.000000          0.300000         0.300000   \n",
      "2                0.000000          2.500000         2.500000   \n",
      "3                0.000000          4.300000         4.500000   \n",
      "4                0.000000          8.300000         8.600000   \n",
      "...                   ...               ...              ...   \n",
      "1635             0.961109          1.173893        17.190527   \n",
      "1636             0.000000          3.401113         6.035931   \n",
      "1637             0.000000         24.596250        27.062513   \n",
      "1638             0.000000         10.442504        12.363134   \n",
      "1639             0.000000          2.794471         4.281430   \n",
      "\n",
      "      next_day_avi_danger  \n",
      "0                     3.0  \n",
      "1                     2.0  \n",
      "2                     3.0  \n",
      "3                     2.0  \n",
      "4                     2.0  \n",
      "...                   ...  \n",
      "1635                  4.0  \n",
      "1636                  4.0  \n",
      "1637                  4.0  \n",
      "1638                  4.0  \n",
      "1639                  4.0  \n",
      "\n",
      "[1640 rows x 73 columns]>\n"
     ]
    }
   ],
   "source": [
    "aviSMK = pd.DataFrame(x_res_smk)\n",
    "aviSMK['next_day_avi_danger'] = y_res_smk \n",
    "print(aviSMK.shape)\n",
    "print(aviSMK.info)"
   ]
  },
  {
   "cell_type": "code",
   "execution_count": 10,
   "metadata": {},
   "outputs": [],
   "source": [
    "aviSMK.to_csv('SnowWeatherCleanSMK.csv')"
   ]
  }
 ],
 "metadata": {
  "kernelspec": {
   "display_name": "Python 3",
   "language": "python",
   "name": "python3"
  },
  "language_info": {
   "codemirror_mode": {
    "name": "ipython",
    "version": 3
   },
   "file_extension": ".py",
   "mimetype": "text/x-python",
   "name": "python",
   "nbconvert_exporter": "python",
   "pygments_lexer": "ipython3",
   "version": "3.8.5"
  }
 },
 "nbformat": 4,
 "nbformat_minor": 4
}
