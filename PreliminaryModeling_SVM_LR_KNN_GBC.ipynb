{
 "cells": [
  {
   "cell_type": "markdown",
   "metadata": {},
   "source": [
    "# Avalanche Danger Level Forecast: Preliminary Modeling"
   ]
  },
  {
   "cell_type": "markdown",
   "metadata": {},
   "source": [
    "I am going to plug out newly created model-ready dataset into a few out-of-the-box models"
   ]
  },
  {
   "cell_type": "markdown",
   "metadata": {},
   "source": [
    "## Import Tools"
   ]
  },
  {
   "cell_type": "code",
   "execution_count": 76,
   "metadata": {},
   "outputs": [],
   "source": [
    "import os\n",
    "import numpy as np\n",
    "import pandas as pd\n",
    "import matplotlib.pyplot as plt\n",
    "import seaborn as sns\n",
    "\n",
    "# sklearn \n",
    "from sklearn.model_selection import train_test_split, GridSearchCV, cross_val_score\n",
    "from sklearn.metrics import confusion_matrix, classification_report, accuracy_score\n",
    "from sklearn.linear_model import LogisticRegression\n",
    "from sklearn.tree import DecisionTreeClassifier\n",
    "from sklearn.svm import SVC\n",
    "from sklearn.ensemble import RandomForestClassifier, GradientBoostingClassifier\n",
    "from sklearn.decomposition import PCA\n",
    "from sklearn.neighbors import KNeighborsClassifier\n",
    "\n",
    "# pandas\n",
    "from pandas.plotting import scatter_matrix"
   ]
  },
  {
   "cell_type": "markdown",
   "metadata": {},
   "source": [
    "## Import Data"
   ]
  },
  {
   "cell_type": "code",
   "execution_count": 24,
   "metadata": {},
   "outputs": [
    {
     "name": "stdout",
     "output_type": "stream",
     "text": [
      "      Unnamed: 0  Unnamed: 0.1  Unnamed: 0_x  AVY_DANGER   AWND  SNOW  \\\n",
      "0              0             0             0         2.0  10.74   0.2   \n",
      "1              1             1             1         1.0   9.40   0.1   \n",
      "2              2             2             2         1.0  20.58   2.2   \n",
      "3              3             3             3         3.0  35.12   2.0   \n",
      "4              4             4             4         2.0  33.78   4.1   \n",
      "...          ...           ...           ...         ...    ...   ...   \n",
      "1352        1352          1352          1252         3.0    NaN   1.1   \n",
      "1353        1353          1353          1253         3.0    NaN   0.0   \n",
      "1354        1354          1354          1254         3.0    NaN   0.4   \n",
      "1355        1355          1355          1255         2.0    NaN   0.7   \n",
      "1356        1356          1356          1256         1.0    NaN   0.0   \n",
      "\n",
      "      FIVE_DAY_SNOWFALL  TMAX_SWING  TMAX_SWING_FROM_AVE   WDF5  ...  day_y  \\\n",
      "0                   NaN         NaN                  NaN  320.0  ...     18   \n",
      "1                   NaN         3.0                  NaN  180.0  ...     19   \n",
      "2                   NaN         0.0                  NaN  360.0  ...     20   \n",
      "3                   NaN         3.0                  NaN  360.0  ...     21   \n",
      "4                   8.6        -3.0                  NaN  360.0  ...     22   \n",
      "...                 ...         ...                  ...    ...  ...    ...   \n",
      "1352                9.5         2.0                 -1.4    NaN  ...     24   \n",
      "1353                9.2        -1.0                 -0.2    NaN  ...     25   \n",
      "1354                9.4         8.0                 11.6    NaN  ...     26   \n",
      "1355               10.1        -5.0                  4.2    NaN  ...     27   \n",
      "1356               10.1         5.0                  5.8    NaN  ...     28   \n",
      "\n",
      "      prevailing_wind_E  prevailing_wind_N  prevailing_wind_NE  \\\n",
      "0                     0                  0                   0   \n",
      "1                     0                  0                   0   \n",
      "2                     0                  1                   0   \n",
      "3                     0                  1                   0   \n",
      "4                     0                  1                   0   \n",
      "...                 ...                ...                 ...   \n",
      "1352                  0                  0                   0   \n",
      "1353                  0                  0                   0   \n",
      "1354                  0                  1                   0   \n",
      "1355                  0                  0                   0   \n",
      "1356                  0                  0                   0   \n",
      "\n",
      "      prevailing_wind_NW  prevailing_wind_S  prevailing_wind_SE  \\\n",
      "0                      1                  0                   0   \n",
      "1                      1                  0                   0   \n",
      "2                      0                  0                   0   \n",
      "3                      0                  0                   0   \n",
      "4                      0                  0                   0   \n",
      "...                  ...                ...                 ...   \n",
      "1352                   1                  0                   0   \n",
      "1353                   0                  0                   1   \n",
      "1354                   0                  0                   0   \n",
      "1355                   1                  0                   0   \n",
      "1356                   0                  0                   0   \n",
      "\n",
      "      prevailing_wind_SW  prevailing_wind_W  prevailing_wind_na  \n",
      "0                      0                  0                   0  \n",
      "1                      0                  0                   0  \n",
      "2                      0                  0                   0  \n",
      "3                      0                  0                   0  \n",
      "4                      0                  0                   0  \n",
      "...                  ...                ...                 ...  \n",
      "1352                   0                  0                   0  \n",
      "1353                   0                  0                   0  \n",
      "1354                   0                  0                   0  \n",
      "1355                   0                  0                   0  \n",
      "1356                   0                  1                   0  \n",
      "\n",
      "[1357 rows x 35 columns]\n"
     ]
    }
   ],
   "source": [
    "avi = pd.read_csv('snowweatheModel.csv')\n",
    "print(avi)"
   ]
  },
  {
   "cell_type": "markdown",
   "metadata": {},
   "source": [
    "## Dataset at a Glance"
   ]
  },
  {
   "cell_type": "code",
   "execution_count": 25,
   "metadata": {},
   "outputs": [
    {
     "data": {
      "text/html": [
       "<div>\n",
       "<style scoped>\n",
       "    .dataframe tbody tr th:only-of-type {\n",
       "        vertical-align: middle;\n",
       "    }\n",
       "\n",
       "    .dataframe tbody tr th {\n",
       "        vertical-align: top;\n",
       "    }\n",
       "\n",
       "    .dataframe thead th {\n",
       "        text-align: right;\n",
       "    }\n",
       "</style>\n",
       "<table border=\"1\" class=\"dataframe\">\n",
       "  <thead>\n",
       "    <tr style=\"text-align: right;\">\n",
       "      <th></th>\n",
       "      <th>Unnamed: 0</th>\n",
       "      <th>Unnamed: 0.1</th>\n",
       "      <th>Unnamed: 0_x</th>\n",
       "      <th>AVY_DANGER</th>\n",
       "      <th>AWND</th>\n",
       "      <th>SNOW</th>\n",
       "      <th>FIVE_DAY_SNOWFALL</th>\n",
       "      <th>TMAX_SWING</th>\n",
       "      <th>TMAX_SWING_FROM_AVE</th>\n",
       "      <th>WDF5</th>\n",
       "      <th>...</th>\n",
       "      <th>day_y</th>\n",
       "      <th>prevailing_wind_E</th>\n",
       "      <th>prevailing_wind_N</th>\n",
       "      <th>prevailing_wind_NE</th>\n",
       "      <th>prevailing_wind_NW</th>\n",
       "      <th>prevailing_wind_S</th>\n",
       "      <th>prevailing_wind_SE</th>\n",
       "      <th>prevailing_wind_SW</th>\n",
       "      <th>prevailing_wind_W</th>\n",
       "      <th>prevailing_wind_na</th>\n",
       "    </tr>\n",
       "  </thead>\n",
       "  <tbody>\n",
       "    <tr>\n",
       "      <th>count</th>\n",
       "      <td>1357.000000</td>\n",
       "      <td>1357.000000</td>\n",
       "      <td>1357.000000</td>\n",
       "      <td>1254.000000</td>\n",
       "      <td>1328.000000</td>\n",
       "      <td>1356.000000</td>\n",
       "      <td>1347.000000</td>\n",
       "      <td>1354.000000</td>\n",
       "      <td>1345.000000</td>\n",
       "      <td>1328.000000</td>\n",
       "      <td>...</td>\n",
       "      <td>1357.000000</td>\n",
       "      <td>1357.000000</td>\n",
       "      <td>1357.000000</td>\n",
       "      <td>1357.000000</td>\n",
       "      <td>1357.000000</td>\n",
       "      <td>1357.000000</td>\n",
       "      <td>1357.000000</td>\n",
       "      <td>1357.000000</td>\n",
       "      <td>1357.000000</td>\n",
       "      <td>1357.0</td>\n",
       "    </tr>\n",
       "    <tr>\n",
       "      <th>mean</th>\n",
       "      <td>678.000000</td>\n",
       "      <td>678.000000</td>\n",
       "      <td>667.768607</td>\n",
       "      <td>2.087719</td>\n",
       "      <td>43.658607</td>\n",
       "      <td>1.528392</td>\n",
       "      <td>7.748330</td>\n",
       "      <td>0.044313</td>\n",
       "      <td>0.050260</td>\n",
       "      <td>268.185241</td>\n",
       "      <td>...</td>\n",
       "      <td>15.831245</td>\n",
       "      <td>0.016949</td>\n",
       "      <td>0.048637</td>\n",
       "      <td>0.021371</td>\n",
       "      <td>0.281503</td>\n",
       "      <td>0.064112</td>\n",
       "      <td>0.024318</td>\n",
       "      <td>0.069270</td>\n",
       "      <td>0.473839</td>\n",
       "      <td>0.0</td>\n",
       "    </tr>\n",
       "    <tr>\n",
       "      <th>std</th>\n",
       "      <td>391.876469</td>\n",
       "      <td>391.876469</td>\n",
       "      <td>373.368486</td>\n",
       "      <td>0.889035</td>\n",
       "      <td>16.464729</td>\n",
       "      <td>2.490871</td>\n",
       "      <td>6.359469</td>\n",
       "      <td>11.350798</td>\n",
       "      <td>13.005103</td>\n",
       "      <td>63.718759</td>\n",
       "      <td>...</td>\n",
       "      <td>8.647401</td>\n",
       "      <td>0.129128</td>\n",
       "      <td>0.215187</td>\n",
       "      <td>0.144670</td>\n",
       "      <td>0.449898</td>\n",
       "      <td>0.245043</td>\n",
       "      <td>0.154092</td>\n",
       "      <td>0.254007</td>\n",
       "      <td>0.499499</td>\n",
       "      <td>0.0</td>\n",
       "    </tr>\n",
       "    <tr>\n",
       "      <th>min</th>\n",
       "      <td>0.000000</td>\n",
       "      <td>0.000000</td>\n",
       "      <td>0.000000</td>\n",
       "      <td>1.000000</td>\n",
       "      <td>4.250000</td>\n",
       "      <td>0.000000</td>\n",
       "      <td>0.000000</td>\n",
       "      <td>-44.000000</td>\n",
       "      <td>-53.800000</td>\n",
       "      <td>10.000000</td>\n",
       "      <td>...</td>\n",
       "      <td>1.000000</td>\n",
       "      <td>0.000000</td>\n",
       "      <td>0.000000</td>\n",
       "      <td>0.000000</td>\n",
       "      <td>0.000000</td>\n",
       "      <td>0.000000</td>\n",
       "      <td>0.000000</td>\n",
       "      <td>0.000000</td>\n",
       "      <td>0.000000</td>\n",
       "      <td>0.0</td>\n",
       "    </tr>\n",
       "    <tr>\n",
       "      <th>25%</th>\n",
       "      <td>339.000000</td>\n",
       "      <td>339.000000</td>\n",
       "      <td>341.000000</td>\n",
       "      <td>1.000000</td>\n",
       "      <td>31.540000</td>\n",
       "      <td>0.000000</td>\n",
       "      <td>3.100000</td>\n",
       "      <td>-5.000000</td>\n",
       "      <td>-8.400000</td>\n",
       "      <td>260.000000</td>\n",
       "      <td>...</td>\n",
       "      <td>8.000000</td>\n",
       "      <td>0.000000</td>\n",
       "      <td>0.000000</td>\n",
       "      <td>0.000000</td>\n",
       "      <td>0.000000</td>\n",
       "      <td>0.000000</td>\n",
       "      <td>0.000000</td>\n",
       "      <td>0.000000</td>\n",
       "      <td>0.000000</td>\n",
       "      <td>0.0</td>\n",
       "    </tr>\n",
       "    <tr>\n",
       "      <th>50%</th>\n",
       "      <td>678.000000</td>\n",
       "      <td>678.000000</td>\n",
       "      <td>683.000000</td>\n",
       "      <td>2.000000</td>\n",
       "      <td>43.620000</td>\n",
       "      <td>0.500000</td>\n",
       "      <td>6.200000</td>\n",
       "      <td>1.000000</td>\n",
       "      <td>0.400000</td>\n",
       "      <td>280.000000</td>\n",
       "      <td>...</td>\n",
       "      <td>16.000000</td>\n",
       "      <td>0.000000</td>\n",
       "      <td>0.000000</td>\n",
       "      <td>0.000000</td>\n",
       "      <td>0.000000</td>\n",
       "      <td>0.000000</td>\n",
       "      <td>0.000000</td>\n",
       "      <td>0.000000</td>\n",
       "      <td>0.000000</td>\n",
       "      <td>0.0</td>\n",
       "    </tr>\n",
       "    <tr>\n",
       "      <th>75%</th>\n",
       "      <td>1017.000000</td>\n",
       "      <td>1017.000000</td>\n",
       "      <td>1028.000000</td>\n",
       "      <td>3.000000</td>\n",
       "      <td>55.480000</td>\n",
       "      <td>1.900000</td>\n",
       "      <td>10.800000</td>\n",
       "      <td>7.000000</td>\n",
       "      <td>9.400000</td>\n",
       "      <td>310.000000</td>\n",
       "      <td>...</td>\n",
       "      <td>23.000000</td>\n",
       "      <td>0.000000</td>\n",
       "      <td>0.000000</td>\n",
       "      <td>0.000000</td>\n",
       "      <td>1.000000</td>\n",
       "      <td>0.000000</td>\n",
       "      <td>0.000000</td>\n",
       "      <td>0.000000</td>\n",
       "      <td>1.000000</td>\n",
       "      <td>0.0</td>\n",
       "    </tr>\n",
       "    <tr>\n",
       "      <th>max</th>\n",
       "      <td>1356.000000</td>\n",
       "      <td>1356.000000</td>\n",
       "      <td>1256.000000</td>\n",
       "      <td>5.000000</td>\n",
       "      <td>110.060000</td>\n",
       "      <td>18.900000</td>\n",
       "      <td>46.000000</td>\n",
       "      <td>39.000000</td>\n",
       "      <td>38.000000</td>\n",
       "      <td>360.000000</td>\n",
       "      <td>...</td>\n",
       "      <td>31.000000</td>\n",
       "      <td>1.000000</td>\n",
       "      <td>1.000000</td>\n",
       "      <td>1.000000</td>\n",
       "      <td>1.000000</td>\n",
       "      <td>1.000000</td>\n",
       "      <td>1.000000</td>\n",
       "      <td>1.000000</td>\n",
       "      <td>1.000000</td>\n",
       "      <td>0.0</td>\n",
       "    </tr>\n",
       "  </tbody>\n",
       "</table>\n",
       "<p>8 rows × 35 columns</p>\n",
       "</div>"
      ],
      "text/plain": [
       "        Unnamed: 0  Unnamed: 0.1  Unnamed: 0_x   AVY_DANGER         AWND  \\\n",
       "count  1357.000000   1357.000000   1357.000000  1254.000000  1328.000000   \n",
       "mean    678.000000    678.000000    667.768607     2.087719    43.658607   \n",
       "std     391.876469    391.876469    373.368486     0.889035    16.464729   \n",
       "min       0.000000      0.000000      0.000000     1.000000     4.250000   \n",
       "25%     339.000000    339.000000    341.000000     1.000000    31.540000   \n",
       "50%     678.000000    678.000000    683.000000     2.000000    43.620000   \n",
       "75%    1017.000000   1017.000000   1028.000000     3.000000    55.480000   \n",
       "max    1356.000000   1356.000000   1256.000000     5.000000   110.060000   \n",
       "\n",
       "              SNOW  FIVE_DAY_SNOWFALL   TMAX_SWING  TMAX_SWING_FROM_AVE  \\\n",
       "count  1356.000000        1347.000000  1354.000000          1345.000000   \n",
       "mean      1.528392           7.748330     0.044313             0.050260   \n",
       "std       2.490871           6.359469    11.350798            13.005103   \n",
       "min       0.000000           0.000000   -44.000000           -53.800000   \n",
       "25%       0.000000           3.100000    -5.000000            -8.400000   \n",
       "50%       0.500000           6.200000     1.000000             0.400000   \n",
       "75%       1.900000          10.800000     7.000000             9.400000   \n",
       "max      18.900000          46.000000    39.000000            38.000000   \n",
       "\n",
       "              WDF5  ...        day_y  prevailing_wind_E  prevailing_wind_N  \\\n",
       "count  1328.000000  ...  1357.000000        1357.000000        1357.000000   \n",
       "mean    268.185241  ...    15.831245           0.016949           0.048637   \n",
       "std      63.718759  ...     8.647401           0.129128           0.215187   \n",
       "min      10.000000  ...     1.000000           0.000000           0.000000   \n",
       "25%     260.000000  ...     8.000000           0.000000           0.000000   \n",
       "50%     280.000000  ...    16.000000           0.000000           0.000000   \n",
       "75%     310.000000  ...    23.000000           0.000000           0.000000   \n",
       "max     360.000000  ...    31.000000           1.000000           1.000000   \n",
       "\n",
       "       prevailing_wind_NE  prevailing_wind_NW  prevailing_wind_S  \\\n",
       "count         1357.000000         1357.000000        1357.000000   \n",
       "mean             0.021371            0.281503           0.064112   \n",
       "std              0.144670            0.449898           0.245043   \n",
       "min              0.000000            0.000000           0.000000   \n",
       "25%              0.000000            0.000000           0.000000   \n",
       "50%              0.000000            0.000000           0.000000   \n",
       "75%              0.000000            1.000000           0.000000   \n",
       "max              1.000000            1.000000           1.000000   \n",
       "\n",
       "       prevailing_wind_SE  prevailing_wind_SW  prevailing_wind_W  \\\n",
       "count         1357.000000         1357.000000        1357.000000   \n",
       "mean             0.024318            0.069270           0.473839   \n",
       "std              0.154092            0.254007           0.499499   \n",
       "min              0.000000            0.000000           0.000000   \n",
       "25%              0.000000            0.000000           0.000000   \n",
       "50%              0.000000            0.000000           0.000000   \n",
       "75%              0.000000            0.000000           1.000000   \n",
       "max              1.000000            1.000000           1.000000   \n",
       "\n",
       "       prevailing_wind_na  \n",
       "count              1357.0  \n",
       "mean                  0.0  \n",
       "std                   0.0  \n",
       "min                   0.0  \n",
       "25%                   0.0  \n",
       "50%                   0.0  \n",
       "75%                   0.0  \n",
       "max                   0.0  \n",
       "\n",
       "[8 rows x 35 columns]"
      ]
     },
     "execution_count": 25,
     "metadata": {},
     "output_type": "execute_result"
    }
   ],
   "source": [
    "avi.describe()"
   ]
  },
  {
   "cell_type": "code",
   "execution_count": 26,
   "metadata": {},
   "outputs": [
    {
     "data": {
      "text/plain": [
       "Index(['Unnamed: 0', 'Unnamed: 0.1', 'Unnamed: 0_x', 'AVY_DANGER', 'AWND',\n",
       "       'SNOW', 'FIVE_DAY_SNOWFALL', 'TMAX_SWING', 'TMAX_SWING_FROM_AVE',\n",
       "       'WDF5', 'year_x', 'month_x', 'day_x', 'Unnamed: 0_y', 'temp_max',\n",
       "       'temp_min', 'water_equivalent', 'snow_fall', 'snow_depth_6am',\n",
       "       'wind_speed_sum', 'sunshine_percent', 'west_wind_hours',\n",
       "       'northwest_wind_hours', 'year_y', 'month_y', 'day_y',\n",
       "       'prevailing_wind_E', 'prevailing_wind_N', 'prevailing_wind_NE',\n",
       "       'prevailing_wind_NW', 'prevailing_wind_S', 'prevailing_wind_SE',\n",
       "       'prevailing_wind_SW', 'prevailing_wind_W', 'prevailing_wind_na'],\n",
       "      dtype='object')"
      ]
     },
     "execution_count": 26,
     "metadata": {},
     "output_type": "execute_result"
    }
   ],
   "source": [
    "avi.columns"
   ]
  },
  {
   "cell_type": "code",
   "execution_count": 27,
   "metadata": {},
   "outputs": [
    {
     "name": "stdout",
     "output_type": "stream",
     "text": [
      "<class 'pandas.core.frame.DataFrame'>\n",
      "RangeIndex: 1357 entries, 0 to 1356\n",
      "Data columns (total 35 columns):\n",
      " #   Column                Non-Null Count  Dtype  \n",
      "---  ------                --------------  -----  \n",
      " 0   Unnamed: 0            1357 non-null   int64  \n",
      " 1   Unnamed: 0.1          1357 non-null   int64  \n",
      " 2   Unnamed: 0_x          1357 non-null   int64  \n",
      " 3   AVY_DANGER            1254 non-null   float64\n",
      " 4   AWND                  1328 non-null   float64\n",
      " 5   SNOW                  1356 non-null   float64\n",
      " 6   FIVE_DAY_SNOWFALL     1347 non-null   float64\n",
      " 7   TMAX_SWING            1354 non-null   float64\n",
      " 8   TMAX_SWING_FROM_AVE   1345 non-null   float64\n",
      " 9   WDF5                  1328 non-null   float64\n",
      " 10  year_x                1357 non-null   float64\n",
      " 11  month_x               1357 non-null   float64\n",
      " 12  day_x                 1357 non-null   float64\n",
      " 13  Unnamed: 0_y          1357 non-null   int64  \n",
      " 14  temp_max              1357 non-null   int64  \n",
      " 15  temp_min              1357 non-null   int64  \n",
      " 16  water_equivalent      1357 non-null   float64\n",
      " 17  snow_fall             1357 non-null   float64\n",
      " 18  snow_depth_6am        1357 non-null   float64\n",
      " 19  wind_speed_sum        1357 non-null   int64  \n",
      " 20  sunshine_percent      1357 non-null   int64  \n",
      " 21  west_wind_hours       1357 non-null   int64  \n",
      " 22  northwest_wind_hours  1357 non-null   int64  \n",
      " 23  year_y                1357 non-null   int64  \n",
      " 24  month_y               1357 non-null   int64  \n",
      " 25  day_y                 1357 non-null   int64  \n",
      " 26  prevailing_wind_E     1357 non-null   int64  \n",
      " 27  prevailing_wind_N     1357 non-null   int64  \n",
      " 28  prevailing_wind_NE    1357 non-null   int64  \n",
      " 29  prevailing_wind_NW    1357 non-null   int64  \n",
      " 30  prevailing_wind_S     1357 non-null   int64  \n",
      " 31  prevailing_wind_SE    1357 non-null   int64  \n",
      " 32  prevailing_wind_SW    1357 non-null   int64  \n",
      " 33  prevailing_wind_W     1357 non-null   int64  \n",
      " 34  prevailing_wind_na    1357 non-null   int64  \n",
      "dtypes: float64(13), int64(22)\n",
      "memory usage: 371.2 KB\n"
     ]
    }
   ],
   "source": [
    "avi.info()"
   ]
  },
  {
   "cell_type": "markdown",
   "metadata": {},
   "source": [
    "## Filter Dataset"
   ]
  },
  {
   "cell_type": "code",
   "execution_count": 34,
   "metadata": {},
   "outputs": [],
   "source": [
    "avi = avi.drop(['Unnamed: 0', 'Unnamed: 0.1', 'Unnamed: 0_x', 'Unnamed: 0_y'], axis=1)"
   ]
  },
  {
   "cell_type": "code",
   "execution_count": 35,
   "metadata": {},
   "outputs": [
    {
     "name": "stdout",
     "output_type": "stream",
     "text": [
      "      AVY_DANGER   AWND  SNOW  FIVE_DAY_SNOWFALL  TMAX_SWING  \\\n",
      "0            2.0  10.74   0.2                NaN         NaN   \n",
      "1            1.0   9.40   0.1                NaN         3.0   \n",
      "2            1.0  20.58   2.2                NaN         0.0   \n",
      "3            3.0  35.12   2.0                NaN         3.0   \n",
      "4            2.0  33.78   4.1                8.6        -3.0   \n",
      "...          ...    ...   ...                ...         ...   \n",
      "1352         3.0    NaN   1.1                9.5         2.0   \n",
      "1353         3.0    NaN   0.0                9.2        -1.0   \n",
      "1354         3.0    NaN   0.4                9.4         8.0   \n",
      "1355         2.0    NaN   0.7               10.1        -5.0   \n",
      "1356         1.0    NaN   0.0               10.1         5.0   \n",
      "\n",
      "      TMAX_SWING_FROM_AVE   WDF5  year_x  month_x  day_x  ...  day_y  \\\n",
      "0                     NaN  320.0  2010.0     12.0   18.0  ...     18   \n",
      "1                     NaN  180.0  2010.0     12.0   19.0  ...     19   \n",
      "2                     NaN  360.0  2010.0     12.0   20.0  ...     20   \n",
      "3                     NaN  360.0  2010.0     12.0   21.0  ...     21   \n",
      "4                     NaN  360.0  2010.0     12.0   22.0  ...     22   \n",
      "...                   ...    ...     ...      ...    ...  ...    ...   \n",
      "1352                 -1.4    NaN  2020.0      3.0   24.0  ...     24   \n",
      "1353                 -0.2    NaN  2020.0      3.0   25.0  ...     25   \n",
      "1354                 11.6    NaN  2020.0      3.0   26.0  ...     26   \n",
      "1355                  4.2    NaN  2020.0      3.0   27.0  ...     27   \n",
      "1356                  5.8    NaN  2020.0      3.0   28.0  ...     28   \n",
      "\n",
      "      prevailing_wind_E  prevailing_wind_N  prevailing_wind_NE  \\\n",
      "0                     0                  0                   0   \n",
      "1                     0                  0                   0   \n",
      "2                     0                  1                   0   \n",
      "3                     0                  1                   0   \n",
      "4                     0                  1                   0   \n",
      "...                 ...                ...                 ...   \n",
      "1352                  0                  0                   0   \n",
      "1353                  0                  0                   0   \n",
      "1354                  0                  1                   0   \n",
      "1355                  0                  0                   0   \n",
      "1356                  0                  0                   0   \n",
      "\n",
      "      prevailing_wind_NW  prevailing_wind_S  prevailing_wind_SE  \\\n",
      "0                      1                  0                   0   \n",
      "1                      1                  0                   0   \n",
      "2                      0                  0                   0   \n",
      "3                      0                  0                   0   \n",
      "4                      0                  0                   0   \n",
      "...                  ...                ...                 ...   \n",
      "1352                   1                  0                   0   \n",
      "1353                   0                  0                   1   \n",
      "1354                   0                  0                   0   \n",
      "1355                   1                  0                   0   \n",
      "1356                   0                  0                   0   \n",
      "\n",
      "      prevailing_wind_SW  prevailing_wind_W  prevailing_wind_na  \n",
      "0                      0                  0                   0  \n",
      "1                      0                  0                   0  \n",
      "2                      0                  0                   0  \n",
      "3                      0                  0                   0  \n",
      "4                      0                  0                   0  \n",
      "...                  ...                ...                 ...  \n",
      "1352                   0                  0                   0  \n",
      "1353                   0                  0                   0  \n",
      "1354                   0                  0                   0  \n",
      "1355                   0                  0                   0  \n",
      "1356                   0                  1                   0  \n",
      "\n",
      "[1254 rows x 31 columns]\n"
     ]
    }
   ],
   "source": [
    "avi = avi[avi['AVY_DANGER'].notnull()]\n",
    "avi.info()"
   ]
  },
  {
   "cell_type": "markdown",
   "metadata": {},
   "source": [
    "## Fill Remaing NA's"
   ]
  },
  {
   "cell_type": "code",
   "execution_count": 41,
   "metadata": {},
   "outputs": [
    {
     "name": "stdout",
     "output_type": "stream",
     "text": [
      "<class 'pandas.core.frame.DataFrame'>\n",
      "Int64Index: 1254 entries, 0 to 1356\n",
      "Data columns (total 31 columns):\n",
      " #   Column                Non-Null Count  Dtype  \n",
      "---  ------                --------------  -----  \n",
      " 0   AVY_DANGER            1254 non-null   float64\n",
      " 1   AWND                  1254 non-null   float64\n",
      " 2   SNOW                  1254 non-null   float64\n",
      " 3   FIVE_DAY_SNOWFALL     1254 non-null   float64\n",
      " 4   TMAX_SWING            1254 non-null   float64\n",
      " 5   TMAX_SWING_FROM_AVE   1254 non-null   float64\n",
      " 6   WDF5                  1254 non-null   float64\n",
      " 7   year_x                1254 non-null   float64\n",
      " 8   month_x               1254 non-null   float64\n",
      " 9   day_x                 1254 non-null   float64\n",
      " 10  temp_max              1254 non-null   int64  \n",
      " 11  temp_min              1254 non-null   int64  \n",
      " 12  water_equivalent      1254 non-null   float64\n",
      " 13  snow_fall             1254 non-null   float64\n",
      " 14  snow_depth_6am        1254 non-null   float64\n",
      " 15  wind_speed_sum        1254 non-null   int64  \n",
      " 16  sunshine_percent      1254 non-null   int64  \n",
      " 17  west_wind_hours       1254 non-null   int64  \n",
      " 18  northwest_wind_hours  1254 non-null   int64  \n",
      " 19  year_y                1254 non-null   int64  \n",
      " 20  month_y               1254 non-null   int64  \n",
      " 21  day_y                 1254 non-null   int64  \n",
      " 22  prevailing_wind_E     1254 non-null   int64  \n",
      " 23  prevailing_wind_N     1254 non-null   int64  \n",
      " 24  prevailing_wind_NE    1254 non-null   int64  \n",
      " 25  prevailing_wind_NW    1254 non-null   int64  \n",
      " 26  prevailing_wind_S     1254 non-null   int64  \n",
      " 27  prevailing_wind_SE    1254 non-null   int64  \n",
      " 28  prevailing_wind_SW    1254 non-null   int64  \n",
      " 29  prevailing_wind_W     1254 non-null   int64  \n",
      " 30  prevailing_wind_na    1254 non-null   int64  \n",
      "dtypes: float64(13), int64(18)\n",
      "memory usage: 313.5 KB\n"
     ]
    }
   ],
   "source": [
    "avi = avi.fillna(0)\n",
    "avi.info()"
   ]
  },
  {
   "cell_type": "markdown",
   "metadata": {},
   "source": [
    "## Splitting Dataset"
   ]
  },
  {
   "cell_type": "code",
   "execution_count": 55,
   "metadata": {},
   "outputs": [
    {
     "name": "stdout",
     "output_type": "stream",
     "text": [
      "(1254, 30)\n",
      "(1254,)\n"
     ]
    }
   ],
   "source": [
    "x = avi.iloc[:, 1:avi.shape[1]]\n",
    "y = avi.iloc[:, 0]\n",
    "\n",
    "print(x.shape)\n",
    "print(y.shape)"
   ]
  },
  {
   "cell_type": "code",
   "execution_count": 56,
   "metadata": {},
   "outputs": [],
   "source": [
    "x_train, x_test, y_train, y_test = train_test_split(x, y, test_size=0.25, random_state=42)"
   ]
  },
  {
   "cell_type": "code",
   "execution_count": 57,
   "metadata": {},
   "outputs": [
    {
     "name": "stdout",
     "output_type": "stream",
     "text": [
      "0       2.0\n",
      "1       1.0\n",
      "2       1.0\n",
      "3       3.0\n",
      "4       2.0\n",
      "       ... \n",
      "1352    3.0\n",
      "1353    3.0\n",
      "1354    3.0\n",
      "1355    2.0\n",
      "1356    1.0\n",
      "Name: AVY_DANGER, Length: 1254, dtype: float64\n"
     ]
    }
   ],
   "source": [
    "print(y)"
   ]
  },
  {
   "cell_type": "markdown",
   "metadata": {},
   "source": [
    "# Logistic Regression"
   ]
  },
  {
   "cell_type": "code",
   "execution_count": 58,
   "metadata": {},
   "outputs": [
    {
     "name": "stdout",
     "output_type": "stream",
     "text": [
      "0.535031847133758\n",
      "[0.55414013 0.47284345 0.50798722]\n"
     ]
    },
    {
     "name": "stderr",
     "output_type": "stream",
     "text": [
      "/opt/anaconda3/lib/python3.8/site-packages/sklearn/linear_model/_logistic.py:762: ConvergenceWarning: lbfgs failed to converge (status=1):\n",
      "STOP: TOTAL NO. of ITERATIONS REACHED LIMIT.\n",
      "\n",
      "Increase the number of iterations (max_iter) or scale the data as shown in:\n",
      "    https://scikit-learn.org/stable/modules/preprocessing.html\n",
      "Please also refer to the documentation for alternative solver options:\n",
      "    https://scikit-learn.org/stable/modules/linear_model.html#logistic-regression\n",
      "  n_iter_i = _check_optimize_result(\n",
      "/opt/anaconda3/lib/python3.8/site-packages/sklearn/model_selection/_split.py:670: UserWarning: The least populated class in y has only 2 members, which is less than n_splits=3.\n",
      "  warnings.warn((\"The least populated class in y has only %d\"\n",
      "/opt/anaconda3/lib/python3.8/site-packages/sklearn/linear_model/_logistic.py:762: ConvergenceWarning: lbfgs failed to converge (status=1):\n",
      "STOP: TOTAL NO. of ITERATIONS REACHED LIMIT.\n",
      "\n",
      "Increase the number of iterations (max_iter) or scale the data as shown in:\n",
      "    https://scikit-learn.org/stable/modules/preprocessing.html\n",
      "Please also refer to the documentation for alternative solver options:\n",
      "    https://scikit-learn.org/stable/modules/linear_model.html#logistic-regression\n",
      "  n_iter_i = _check_optimize_result(\n",
      "/opt/anaconda3/lib/python3.8/site-packages/sklearn/linear_model/_logistic.py:762: ConvergenceWarning: lbfgs failed to converge (status=1):\n",
      "STOP: TOTAL NO. of ITERATIONS REACHED LIMIT.\n",
      "\n",
      "Increase the number of iterations (max_iter) or scale the data as shown in:\n",
      "    https://scikit-learn.org/stable/modules/preprocessing.html\n",
      "Please also refer to the documentation for alternative solver options:\n",
      "    https://scikit-learn.org/stable/modules/linear_model.html#logistic-regression\n",
      "  n_iter_i = _check_optimize_result(\n",
      "/opt/anaconda3/lib/python3.8/site-packages/sklearn/linear_model/_logistic.py:762: ConvergenceWarning: lbfgs failed to converge (status=1):\n",
      "STOP: TOTAL NO. of ITERATIONS REACHED LIMIT.\n",
      "\n",
      "Increase the number of iterations (max_iter) or scale the data as shown in:\n",
      "    https://scikit-learn.org/stable/modules/preprocessing.html\n",
      "Please also refer to the documentation for alternative solver options:\n",
      "    https://scikit-learn.org/stable/modules/linear_model.html#logistic-regression\n",
      "  n_iter_i = _check_optimize_result(\n"
     ]
    }
   ],
   "source": [
    "lr = LogisticRegression()\n",
    "lr.fit(x_train, y_train)\n",
    "y_pred_lr = lr.predict(x_test)\n",
    "print(accuracy_score(y_test, y_pred_lr))\n",
    "print(cross_val_score(lr, x_train, y_train, cv=3))"
   ]
  },
  {
   "cell_type": "code",
   "execution_count": 60,
   "metadata": {},
   "outputs": [
    {
     "name": "stdout",
     "output_type": "stream",
     "text": [
      "[[61 21 10  0]\n",
      " [20 66 34  0]\n",
      " [ 4 37 41  0]\n",
      " [ 2  3 15  0]]\n"
     ]
    }
   ],
   "source": [
    "print(confusion_matrix(y_test, y_pred_lr))"
   ]
  },
  {
   "cell_type": "code",
   "execution_count": 61,
   "metadata": {},
   "outputs": [
    {
     "name": "stdout",
     "output_type": "stream",
     "text": [
      "              precision    recall  f1-score   support\n",
      "\n",
      "         1.0       0.70      0.66      0.68        92\n",
      "         2.0       0.52      0.55      0.53       120\n",
      "         3.0       0.41      0.50      0.45        82\n",
      "         4.0       0.00      0.00      0.00        20\n",
      "\n",
      "    accuracy                           0.54       314\n",
      "   macro avg       0.41      0.43      0.42       314\n",
      "weighted avg       0.51      0.54      0.52       314\n",
      "\n"
     ]
    },
    {
     "name": "stderr",
     "output_type": "stream",
     "text": [
      "/opt/anaconda3/lib/python3.8/site-packages/sklearn/metrics/_classification.py:1221: UndefinedMetricWarning: Precision and F-score are ill-defined and being set to 0.0 in labels with no predicted samples. Use `zero_division` parameter to control this behavior.\n",
      "  _warn_prf(average, modifier, msg_start, len(result))\n"
     ]
    }
   ],
   "source": [
    "print(classification_report(y_test, y_pred_lr))"
   ]
  },
  {
   "cell_type": "markdown",
   "metadata": {},
   "source": [
    "# Support Vector Machine (SVM)"
   ]
  },
  {
   "cell_type": "code",
   "execution_count": 62,
   "metadata": {},
   "outputs": [
    {
     "name": "stdout",
     "output_type": "stream",
     "text": [
      "0.3821656050955414\n",
      "[0.37579618 0.37699681 0.37699681]\n"
     ]
    },
    {
     "name": "stderr",
     "output_type": "stream",
     "text": [
      "/opt/anaconda3/lib/python3.8/site-packages/sklearn/model_selection/_split.py:670: UserWarning: The least populated class in y has only 2 members, which is less than n_splits=3.\n",
      "  warnings.warn((\"The least populated class in y has only %d\"\n"
     ]
    }
   ],
   "source": [
    "svm = SVC()\n",
    "svm.fit(x_train, y_train)\n",
    "y_pred_svm = svm.predict(x_test)\n",
    "print(accuracy_score(y_test, y_pred_svm))\n",
    "print(cross_val_score(svm, x_train, y_train, cv=3))"
   ]
  },
  {
   "cell_type": "code",
   "execution_count": 64,
   "metadata": {},
   "outputs": [
    {
     "name": "stdout",
     "output_type": "stream",
     "text": [
      "[[  0  92   0   0]\n",
      " [  0 120   0   0]\n",
      " [  0  82   0   0]\n",
      " [  0  20   0   0]]\n"
     ]
    }
   ],
   "source": [
    "print(confusion_matrix(y_test, y_pred_svm))"
   ]
  },
  {
   "cell_type": "code",
   "execution_count": 65,
   "metadata": {},
   "outputs": [
    {
     "name": "stdout",
     "output_type": "stream",
     "text": [
      "              precision    recall  f1-score   support\n",
      "\n",
      "         1.0       0.00      0.00      0.00        92\n",
      "         2.0       0.38      1.00      0.55       120\n",
      "         3.0       0.00      0.00      0.00        82\n",
      "         4.0       0.00      0.00      0.00        20\n",
      "\n",
      "    accuracy                           0.38       314\n",
      "   macro avg       0.10      0.25      0.14       314\n",
      "weighted avg       0.15      0.38      0.21       314\n",
      "\n"
     ]
    },
    {
     "name": "stderr",
     "output_type": "stream",
     "text": [
      "/opt/anaconda3/lib/python3.8/site-packages/sklearn/metrics/_classification.py:1221: UndefinedMetricWarning: Precision and F-score are ill-defined and being set to 0.0 in labels with no predicted samples. Use `zero_division` parameter to control this behavior.\n",
      "  _warn_prf(average, modifier, msg_start, len(result))\n"
     ]
    }
   ],
   "source": [
    "print(classification_report(y_test, y_pred_svm))"
   ]
  },
  {
   "cell_type": "markdown",
   "metadata": {},
   "source": [
    "# K-Nearest Neighbors"
   ]
  },
  {
   "cell_type": "code",
   "execution_count": 69,
   "metadata": {},
   "outputs": [
    {
     "name": "stdout",
     "output_type": "stream",
     "text": [
      "0.43630573248407645\n",
      "[0.40764331 0.38658147 0.41533546]\n"
     ]
    },
    {
     "name": "stderr",
     "output_type": "stream",
     "text": [
      "/opt/anaconda3/lib/python3.8/site-packages/sklearn/model_selection/_split.py:670: UserWarning: The least populated class in y has only 2 members, which is less than n_splits=3.\n",
      "  warnings.warn((\"The least populated class in y has only %d\"\n"
     ]
    }
   ],
   "source": [
    "knn = KNeighborsClassifier(n_neighbors=3)\n",
    "knn.fit(x_train, y_train)\n",
    "y_pred_knn = knn.predict(x_test)\n",
    "print(accuracy_score(y_test, y_pred_knn))\n",
    "print(cross_val_score(knn, x_train, y_train, cv=3))"
   ]
  },
  {
   "cell_type": "code",
   "execution_count": 72,
   "metadata": {},
   "outputs": [
    {
     "name": "stdout",
     "output_type": "stream",
     "text": [
      "[[55 31  6  0]\n",
      " [43 58 19  0]\n",
      " [33 26 22  1]\n",
      " [ 3  8  7  2]]\n"
     ]
    }
   ],
   "source": [
    "print(confusion_matrix(y_test, y_pred_knn))"
   ]
  },
  {
   "cell_type": "code",
   "execution_count": 73,
   "metadata": {},
   "outputs": [
    {
     "name": "stdout",
     "output_type": "stream",
     "text": [
      "              precision    recall  f1-score   support\n",
      "\n",
      "         1.0       0.41      0.60      0.49        92\n",
      "         2.0       0.47      0.48      0.48       120\n",
      "         3.0       0.41      0.27      0.32        82\n",
      "         4.0       0.67      0.10      0.17        20\n",
      "\n",
      "    accuracy                           0.44       314\n",
      "   macro avg       0.49      0.36      0.37       314\n",
      "weighted avg       0.45      0.44      0.42       314\n",
      "\n"
     ]
    }
   ],
   "source": [
    "print(classification_report(y_test, y_pred_knn))"
   ]
  },
  {
   "cell_type": "code",
   "execution_count": 83,
   "metadata": {},
   "outputs": [
    {
     "name": "stderr",
     "output_type": "stream",
     "text": [
      "/opt/anaconda3/lib/python3.8/site-packages/sklearn/model_selection/_split.py:670: UserWarning: The least populated class in y has only 2 members, which is less than n_splits=5.\n",
      "  warnings.warn((\"The least populated class in y has only %d\"\n"
     ]
    },
    {
     "name": "stdout",
     "output_type": "stream",
     "text": [
      "{'n_neighbors': 5}\n",
      "0.43510638297872334\n"
     ]
    }
   ],
   "source": [
    "knn2 = KNeighborsClassifier()\n",
    "param_grid = {'n_neighbors': np.arange(1, 25)}\n",
    "knn_gscv = GridSearchCV(knn2, param_grid, cv=5)\n",
    "knn_gscv.fit(x_train, y_train)\n",
    "print(knn_gscv.best_params_)\n",
    "print(knn_gscv.best_score_)"
   ]
  },
  {
   "cell_type": "markdown",
   "metadata": {},
   "source": [
    "# Gradient Boosting Classifier"
   ]
  },
  {
   "cell_type": "code",
   "execution_count": 77,
   "metadata": {},
   "outputs": [
    {
     "name": "stdout",
     "output_type": "stream",
     "text": [
      "0.6210191082802548\n"
     ]
    },
    {
     "name": "stderr",
     "output_type": "stream",
     "text": [
      "/opt/anaconda3/lib/python3.8/site-packages/sklearn/model_selection/_split.py:670: UserWarning: The least populated class in y has only 2 members, which is less than n_splits=3.\n",
      "  warnings.warn((\"The least populated class in y has only %d\"\n"
     ]
    },
    {
     "name": "stdout",
     "output_type": "stream",
     "text": [
      "[0.61783439 0.59105431 0.61341853]\n"
     ]
    }
   ],
   "source": [
    "gbc = GradientBoostingClassifier()\n",
    "gbc.fit(x_train, y_train)\n",
    "y_pred_gbc = gbc.predict(x_test)\n",
    "print(accuracy_score(y_test, y_pred_gbc))\n",
    "print(cross_val_score(gbc, x_train, y_train, cv=3))"
   ]
  },
  {
   "cell_type": "code",
   "execution_count": 78,
   "metadata": {},
   "outputs": [
    {
     "name": "stdout",
     "output_type": "stream",
     "text": [
      "[[73 15  3  0  1]\n",
      " [15 80 25  0  0]\n",
      " [ 9 29 39  5  0]\n",
      " [ 0  1 16  3  0]\n",
      " [ 0  0  0  0  0]]\n"
     ]
    }
   ],
   "source": [
    "print(confusion_matrix(y_test, y_pred_gbc))"
   ]
  },
  {
   "cell_type": "code",
   "execution_count": 79,
   "metadata": {},
   "outputs": [
    {
     "name": "stdout",
     "output_type": "stream",
     "text": [
      "              precision    recall  f1-score   support\n",
      "\n",
      "         1.0       0.41      0.60      0.49        92\n",
      "         2.0       0.47      0.48      0.48       120\n",
      "         3.0       0.41      0.27      0.32        82\n",
      "         4.0       0.67      0.10      0.17        20\n",
      "\n",
      "    accuracy                           0.44       314\n",
      "   macro avg       0.49      0.36      0.37       314\n",
      "weighted avg       0.45      0.44      0.42       314\n",
      "\n"
     ]
    }
   ],
   "source": [
    "print(classification_report(y_test, y_pred_knn))"
   ]
  }
 ],
 "metadata": {
  "kernelspec": {
   "display_name": "Python 3",
   "language": "python",
   "name": "python3"
  },
  "language_info": {
   "codemirror_mode": {
    "name": "ipython",
    "version": 3
   },
   "file_extension": ".py",
   "mimetype": "text/x-python",
   "name": "python",
   "nbconvert_exporter": "python",
   "pygments_lexer": "ipython3",
   "version": "3.8.3"
  }
 },
 "nbformat": 4,
 "nbformat_minor": 4
}
