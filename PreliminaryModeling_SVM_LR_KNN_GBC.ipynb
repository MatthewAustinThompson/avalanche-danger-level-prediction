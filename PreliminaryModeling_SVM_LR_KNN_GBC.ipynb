{
 "cells": [
  {
   "cell_type": "markdown",
   "metadata": {},
   "source": [
    "# Avalanche Danger Level Forecast: Preliminary Modeling"
   ]
  },
  {
   "cell_type": "markdown",
   "metadata": {},
   "source": [
    "I am going to plug out newly created model-ready dataset into a few out-of-the-box models"
   ]
  },
  {
   "cell_type": "markdown",
   "metadata": {},
   "source": [
    "## Import Tools"
   ]
  },
  {
   "cell_type": "code",
   "execution_count": 1,
   "metadata": {},
   "outputs": [],
   "source": [
    "import os\n",
    "import numpy as np\n",
    "import pandas as pd\n",
    "import matplotlib.pyplot as plt\n",
    "import seaborn as sns\n",
    "\n",
    "# sklearn \n",
    "from sklearn.model_selection import train_test_split, GridSearchCV, cross_val_score\n",
    "from sklearn.metrics import confusion_matrix, classification_report, accuracy_score\n",
    "from sklearn.linear_model import LogisticRegression\n",
    "from sklearn.tree import DecisionTreeClassifier\n",
    "from sklearn.svm import SVC\n",
    "from sklearn.ensemble import RandomForestClassifier, GradientBoostingClassifier\n",
    "from sklearn.decomposition import PCA\n",
    "from sklearn.neighbors import KNeighborsClassifier\n",
    "from sklearn.model_selection import RandomizedSearchCV\n",
    "from sklearn.preprocessing import StandardScaler\n",
    "\n",
    "# pandas\n",
    "from pandas.plotting import scatter_matrix"
   ]
  },
  {
   "cell_type": "markdown",
   "metadata": {},
   "source": [
    "## Import Data"
   ]
  },
  {
   "cell_type": "code",
   "execution_count": 2,
   "metadata": {},
   "outputs": [
    {
     "data": {
      "text/html": [
       "<div>\n",
       "<style scoped>\n",
       "    .dataframe tbody tr th:only-of-type {\n",
       "        vertical-align: middle;\n",
       "    }\n",
       "\n",
       "    .dataframe tbody tr th {\n",
       "        vertical-align: top;\n",
       "    }\n",
       "\n",
       "    .dataframe thead th {\n",
       "        text-align: right;\n",
       "    }\n",
       "</style>\n",
       "<table border=\"1\" class=\"dataframe\">\n",
       "  <thead>\n",
       "    <tr style=\"text-align: right;\">\n",
       "      <th></th>\n",
       "      <th>Unnamed: 0</th>\n",
       "      <th>avi_danger</th>\n",
       "      <th>avg_wind</th>\n",
       "      <th>temp_max_swing</th>\n",
       "      <th>temp_max_swing_from_avg</th>\n",
       "      <th>year</th>\n",
       "      <th>month</th>\n",
       "      <th>day</th>\n",
       "      <th>temp_max</th>\n",
       "      <th>temp_min</th>\n",
       "      <th>...</th>\n",
       "      <th>prevailing_wind_E_2</th>\n",
       "      <th>prevailing_wind_N_2</th>\n",
       "      <th>prevailing_wind_NE_2</th>\n",
       "      <th>prevailing_wind_NW_2</th>\n",
       "      <th>prevailing_wind_S_2</th>\n",
       "      <th>prevailing_wind_SE_2</th>\n",
       "      <th>prevailing_wind_SW_2</th>\n",
       "      <th>prevailing_wind_W_2</th>\n",
       "      <th>three_day_snow_2</th>\n",
       "      <th>next_day_avi_danger</th>\n",
       "    </tr>\n",
       "  </thead>\n",
       "  <tbody>\n",
       "    <tr>\n",
       "      <th>0</th>\n",
       "      <td>0</td>\n",
       "      <td>1.0</td>\n",
       "      <td>20.58</td>\n",
       "      <td>0.0</td>\n",
       "      <td>0.0</td>\n",
       "      <td>2010.0</td>\n",
       "      <td>12.0</td>\n",
       "      <td>20.0</td>\n",
       "      <td>15</td>\n",
       "      <td>5</td>\n",
       "      <td>...</td>\n",
       "      <td>0.0</td>\n",
       "      <td>0.0</td>\n",
       "      <td>0.0</td>\n",
       "      <td>1.0</td>\n",
       "      <td>0.0</td>\n",
       "      <td>0.0</td>\n",
       "      <td>0.0</td>\n",
       "      <td>0.0</td>\n",
       "      <td>0.2</td>\n",
       "      <td>3.0</td>\n",
       "    </tr>\n",
       "    <tr>\n",
       "      <th>1</th>\n",
       "      <td>1</td>\n",
       "      <td>3.0</td>\n",
       "      <td>35.12</td>\n",
       "      <td>3.0</td>\n",
       "      <td>0.0</td>\n",
       "      <td>2010.0</td>\n",
       "      <td>12.0</td>\n",
       "      <td>21.0</td>\n",
       "      <td>18</td>\n",
       "      <td>10</td>\n",
       "      <td>...</td>\n",
       "      <td>0.0</td>\n",
       "      <td>0.0</td>\n",
       "      <td>0.0</td>\n",
       "      <td>1.0</td>\n",
       "      <td>0.0</td>\n",
       "      <td>0.0</td>\n",
       "      <td>0.0</td>\n",
       "      <td>0.0</td>\n",
       "      <td>0.3</td>\n",
       "      <td>2.0</td>\n",
       "    </tr>\n",
       "    <tr>\n",
       "      <th>2</th>\n",
       "      <td>2</td>\n",
       "      <td>2.0</td>\n",
       "      <td>33.78</td>\n",
       "      <td>-3.0</td>\n",
       "      <td>0.0</td>\n",
       "      <td>2010.0</td>\n",
       "      <td>12.0</td>\n",
       "      <td>22.0</td>\n",
       "      <td>15</td>\n",
       "      <td>7</td>\n",
       "      <td>...</td>\n",
       "      <td>0.0</td>\n",
       "      <td>1.0</td>\n",
       "      <td>0.0</td>\n",
       "      <td>0.0</td>\n",
       "      <td>0.0</td>\n",
       "      <td>0.0</td>\n",
       "      <td>0.0</td>\n",
       "      <td>0.0</td>\n",
       "      <td>2.5</td>\n",
       "      <td>3.0</td>\n",
       "    </tr>\n",
       "    <tr>\n",
       "      <th>3</th>\n",
       "      <td>3</td>\n",
       "      <td>3.0</td>\n",
       "      <td>31.32</td>\n",
       "      <td>0.0</td>\n",
       "      <td>0.0</td>\n",
       "      <td>2010.0</td>\n",
       "      <td>12.0</td>\n",
       "      <td>23.0</td>\n",
       "      <td>15</td>\n",
       "      <td>6</td>\n",
       "      <td>...</td>\n",
       "      <td>0.0</td>\n",
       "      <td>1.0</td>\n",
       "      <td>0.0</td>\n",
       "      <td>0.0</td>\n",
       "      <td>0.0</td>\n",
       "      <td>0.0</td>\n",
       "      <td>0.0</td>\n",
       "      <td>0.0</td>\n",
       "      <td>4.3</td>\n",
       "      <td>2.0</td>\n",
       "    </tr>\n",
       "    <tr>\n",
       "      <th>4</th>\n",
       "      <td>4</td>\n",
       "      <td>2.0</td>\n",
       "      <td>32.44</td>\n",
       "      <td>2.0</td>\n",
       "      <td>1.4</td>\n",
       "      <td>2010.0</td>\n",
       "      <td>12.0</td>\n",
       "      <td>24.0</td>\n",
       "      <td>17</td>\n",
       "      <td>9</td>\n",
       "      <td>...</td>\n",
       "      <td>0.0</td>\n",
       "      <td>1.0</td>\n",
       "      <td>0.0</td>\n",
       "      <td>0.0</td>\n",
       "      <td>0.0</td>\n",
       "      <td>0.0</td>\n",
       "      <td>0.0</td>\n",
       "      <td>0.0</td>\n",
       "      <td>8.3</td>\n",
       "      <td>2.0</td>\n",
       "    </tr>\n",
       "  </tbody>\n",
       "</table>\n",
       "<p>5 rows × 74 columns</p>\n",
       "</div>"
      ],
      "text/plain": [
       "   Unnamed: 0  avi_danger  avg_wind  temp_max_swing  temp_max_swing_from_avg  \\\n",
       "0           0         1.0     20.58             0.0                      0.0   \n",
       "1           1         3.0     35.12             3.0                      0.0   \n",
       "2           2         2.0     33.78            -3.0                      0.0   \n",
       "3           3         3.0     31.32             0.0                      0.0   \n",
       "4           4         2.0     32.44             2.0                      1.4   \n",
       "\n",
       "     year  month   day  temp_max  temp_min  ...  prevailing_wind_E_2  \\\n",
       "0  2010.0   12.0  20.0        15         5  ...                  0.0   \n",
       "1  2010.0   12.0  21.0        18        10  ...                  0.0   \n",
       "2  2010.0   12.0  22.0        15         7  ...                  0.0   \n",
       "3  2010.0   12.0  23.0        15         6  ...                  0.0   \n",
       "4  2010.0   12.0  24.0        17         9  ...                  0.0   \n",
       "\n",
       "   prevailing_wind_N_2  prevailing_wind_NE_2  prevailing_wind_NW_2  \\\n",
       "0                  0.0                   0.0                   1.0   \n",
       "1                  0.0                   0.0                   1.0   \n",
       "2                  1.0                   0.0                   0.0   \n",
       "3                  1.0                   0.0                   0.0   \n",
       "4                  1.0                   0.0                   0.0   \n",
       "\n",
       "   prevailing_wind_S_2  prevailing_wind_SE_2  prevailing_wind_SW_2  \\\n",
       "0                  0.0                   0.0                   0.0   \n",
       "1                  0.0                   0.0                   0.0   \n",
       "2                  0.0                   0.0                   0.0   \n",
       "3                  0.0                   0.0                   0.0   \n",
       "4                  0.0                   0.0                   0.0   \n",
       "\n",
       "   prevailing_wind_W_2  three_day_snow_2  next_day_avi_danger  \n",
       "0                  0.0               0.2                  3.0  \n",
       "1                  0.0               0.3                  2.0  \n",
       "2                  0.0               2.5                  3.0  \n",
       "3                  0.0               4.3                  2.0  \n",
       "4                  0.0               8.3                  2.0  \n",
       "\n",
       "[5 rows x 74 columns]"
      ]
     },
     "execution_count": 2,
     "metadata": {},
     "output_type": "execute_result"
    }
   ],
   "source": [
    "avi = pd.read_csv('SnowWeatherCleanROS.csv')\n",
    "avi.head()"
   ]
  },
  {
   "cell_type": "markdown",
   "metadata": {},
   "source": [
    "## Dataset at a Glance"
   ]
  },
  {
   "cell_type": "code",
   "execution_count": 3,
   "metadata": {},
   "outputs": [
    {
     "data": {
      "text/html": [
       "<div>\n",
       "<style scoped>\n",
       "    .dataframe tbody tr th:only-of-type {\n",
       "        vertical-align: middle;\n",
       "    }\n",
       "\n",
       "    .dataframe tbody tr th {\n",
       "        vertical-align: top;\n",
       "    }\n",
       "\n",
       "    .dataframe thead th {\n",
       "        text-align: right;\n",
       "    }\n",
       "</style>\n",
       "<table border=\"1\" class=\"dataframe\">\n",
       "  <thead>\n",
       "    <tr style=\"text-align: right;\">\n",
       "      <th></th>\n",
       "      <th>Unnamed: 0</th>\n",
       "      <th>avi_danger</th>\n",
       "      <th>avg_wind</th>\n",
       "      <th>temp_max_swing</th>\n",
       "      <th>temp_max_swing_from_avg</th>\n",
       "      <th>year</th>\n",
       "      <th>month</th>\n",
       "      <th>day</th>\n",
       "      <th>temp_max</th>\n",
       "      <th>temp_min</th>\n",
       "      <th>...</th>\n",
       "      <th>prevailing_wind_E_2</th>\n",
       "      <th>prevailing_wind_N_2</th>\n",
       "      <th>prevailing_wind_NE_2</th>\n",
       "      <th>prevailing_wind_NW_2</th>\n",
       "      <th>prevailing_wind_S_2</th>\n",
       "      <th>prevailing_wind_SE_2</th>\n",
       "      <th>prevailing_wind_SW_2</th>\n",
       "      <th>prevailing_wind_W_2</th>\n",
       "      <th>three_day_snow_2</th>\n",
       "      <th>next_day_avi_danger</th>\n",
       "    </tr>\n",
       "  </thead>\n",
       "  <tbody>\n",
       "    <tr>\n",
       "      <th>count</th>\n",
       "      <td>1892.000000</td>\n",
       "      <td>1892.000000</td>\n",
       "      <td>1892.000000</td>\n",
       "      <td>1892.000000</td>\n",
       "      <td>1892.000000</td>\n",
       "      <td>1892.000000</td>\n",
       "      <td>1892.000000</td>\n",
       "      <td>1892.000000</td>\n",
       "      <td>1892.000000</td>\n",
       "      <td>1892.000000</td>\n",
       "      <td>...</td>\n",
       "      <td>1892.000000</td>\n",
       "      <td>1892.000000</td>\n",
       "      <td>1892.000000</td>\n",
       "      <td>1892.000000</td>\n",
       "      <td>1892.000000</td>\n",
       "      <td>1892.000000</td>\n",
       "      <td>1892.000000</td>\n",
       "      <td>1892.000000</td>\n",
       "      <td>1892.000000</td>\n",
       "      <td>1892.00000</td>\n",
       "    </tr>\n",
       "    <tr>\n",
       "      <th>mean</th>\n",
       "      <td>945.500000</td>\n",
       "      <td>2.213531</td>\n",
       "      <td>41.569268</td>\n",
       "      <td>0.438161</td>\n",
       "      <td>0.578330</td>\n",
       "      <td>1989.741543</td>\n",
       "      <td>3.602537</td>\n",
       "      <td>16.549683</td>\n",
       "      <td>19.517970</td>\n",
       "      <td>3.720930</td>\n",
       "      <td>...</td>\n",
       "      <td>0.066068</td>\n",
       "      <td>0.108879</td>\n",
       "      <td>0.067125</td>\n",
       "      <td>0.323467</td>\n",
       "      <td>0.110465</td>\n",
       "      <td>0.071882</td>\n",
       "      <td>0.116808</td>\n",
       "      <td>0.528541</td>\n",
       "      <td>4.607981</td>\n",
       "      <td>2.50000</td>\n",
       "    </tr>\n",
       "    <tr>\n",
       "      <th>std</th>\n",
       "      <td>546.317673</td>\n",
       "      <td>0.910522</td>\n",
       "      <td>16.356370</td>\n",
       "      <td>10.674199</td>\n",
       "      <td>12.429033</td>\n",
       "      <td>225.160208</td>\n",
       "      <td>3.252230</td>\n",
       "      <td>8.475751</td>\n",
       "      <td>13.234699</td>\n",
       "      <td>14.170538</td>\n",
       "      <td>...</td>\n",
       "      <td>0.462640</td>\n",
       "      <td>0.499376</td>\n",
       "      <td>0.463630</td>\n",
       "      <td>0.609305</td>\n",
       "      <td>0.500615</td>\n",
       "      <td>0.468028</td>\n",
       "      <td>0.505488</td>\n",
       "      <td>0.633733</td>\n",
       "      <td>5.034305</td>\n",
       "      <td>1.11833</td>\n",
       "    </tr>\n",
       "    <tr>\n",
       "      <th>min</th>\n",
       "      <td>0.000000</td>\n",
       "      <td>1.000000</td>\n",
       "      <td>4.000000</td>\n",
       "      <td>-44.000000</td>\n",
       "      <td>-53.800000</td>\n",
       "      <td>4.000000</td>\n",
       "      <td>1.000000</td>\n",
       "      <td>1.000000</td>\n",
       "      <td>-26.000000</td>\n",
       "      <td>-40.000000</td>\n",
       "      <td>...</td>\n",
       "      <td>0.000000</td>\n",
       "      <td>0.000000</td>\n",
       "      <td>0.000000</td>\n",
       "      <td>0.000000</td>\n",
       "      <td>0.000000</td>\n",
       "      <td>0.000000</td>\n",
       "      <td>0.000000</td>\n",
       "      <td>0.000000</td>\n",
       "      <td>0.000000</td>\n",
       "      <td>1.00000</td>\n",
       "    </tr>\n",
       "    <tr>\n",
       "      <th>25%</th>\n",
       "      <td>472.750000</td>\n",
       "      <td>1.000000</td>\n",
       "      <td>29.530000</td>\n",
       "      <td>-5.000000</td>\n",
       "      <td>-7.400000</td>\n",
       "      <td>2012.000000</td>\n",
       "      <td>2.000000</td>\n",
       "      <td>10.000000</td>\n",
       "      <td>11.000000</td>\n",
       "      <td>-6.000000</td>\n",
       "      <td>...</td>\n",
       "      <td>0.000000</td>\n",
       "      <td>0.000000</td>\n",
       "      <td>0.000000</td>\n",
       "      <td>0.000000</td>\n",
       "      <td>0.000000</td>\n",
       "      <td>0.000000</td>\n",
       "      <td>0.000000</td>\n",
       "      <td>0.000000</td>\n",
       "      <td>1.100000</td>\n",
       "      <td>1.75000</td>\n",
       "    </tr>\n",
       "    <tr>\n",
       "      <th>50%</th>\n",
       "      <td>945.500000</td>\n",
       "      <td>2.000000</td>\n",
       "      <td>40.490000</td>\n",
       "      <td>2.000000</td>\n",
       "      <td>1.000000</td>\n",
       "      <td>2015.000000</td>\n",
       "      <td>3.000000</td>\n",
       "      <td>17.000000</td>\n",
       "      <td>19.000000</td>\n",
       "      <td>5.000000</td>\n",
       "      <td>...</td>\n",
       "      <td>0.000000</td>\n",
       "      <td>0.000000</td>\n",
       "      <td>0.000000</td>\n",
       "      <td>0.000000</td>\n",
       "      <td>0.000000</td>\n",
       "      <td>0.000000</td>\n",
       "      <td>0.000000</td>\n",
       "      <td>0.000000</td>\n",
       "      <td>3.000000</td>\n",
       "      <td>2.50000</td>\n",
       "    </tr>\n",
       "    <tr>\n",
       "      <th>75%</th>\n",
       "      <td>1418.250000</td>\n",
       "      <td>3.000000</td>\n",
       "      <td>52.847500</td>\n",
       "      <td>7.000000</td>\n",
       "      <td>9.400000</td>\n",
       "      <td>2018.000000</td>\n",
       "      <td>4.000000</td>\n",
       "      <td>24.000000</td>\n",
       "      <td>28.000000</td>\n",
       "      <td>12.000000</td>\n",
       "      <td>...</td>\n",
       "      <td>0.000000</td>\n",
       "      <td>0.000000</td>\n",
       "      <td>0.000000</td>\n",
       "      <td>1.000000</td>\n",
       "      <td>0.000000</td>\n",
       "      <td>0.000000</td>\n",
       "      <td>0.000000</td>\n",
       "      <td>1.000000</td>\n",
       "      <td>6.300000</td>\n",
       "      <td>3.25000</td>\n",
       "    </tr>\n",
       "    <tr>\n",
       "      <th>max</th>\n",
       "      <td>1891.000000</td>\n",
       "      <td>4.000000</td>\n",
       "      <td>110.060000</td>\n",
       "      <td>39.000000</td>\n",
       "      <td>34.600000</td>\n",
       "      <td>2020.000000</td>\n",
       "      <td>12.000000</td>\n",
       "      <td>31.000000</td>\n",
       "      <td>57.000000</td>\n",
       "      <td>47.000000</td>\n",
       "      <td>...</td>\n",
       "      <td>4.000000</td>\n",
       "      <td>4.000000</td>\n",
       "      <td>4.000000</td>\n",
       "      <td>4.000000</td>\n",
       "      <td>4.000000</td>\n",
       "      <td>4.000000</td>\n",
       "      <td>4.000000</td>\n",
       "      <td>4.000000</td>\n",
       "      <td>34.200000</td>\n",
       "      <td>4.00000</td>\n",
       "    </tr>\n",
       "  </tbody>\n",
       "</table>\n",
       "<p>8 rows × 74 columns</p>\n",
       "</div>"
      ],
      "text/plain": [
       "        Unnamed: 0   avi_danger     avg_wind  temp_max_swing  \\\n",
       "count  1892.000000  1892.000000  1892.000000     1892.000000   \n",
       "mean    945.500000     2.213531    41.569268        0.438161   \n",
       "std     546.317673     0.910522    16.356370       10.674199   \n",
       "min       0.000000     1.000000     4.000000      -44.000000   \n",
       "25%     472.750000     1.000000    29.530000       -5.000000   \n",
       "50%     945.500000     2.000000    40.490000        2.000000   \n",
       "75%    1418.250000     3.000000    52.847500        7.000000   \n",
       "max    1891.000000     4.000000   110.060000       39.000000   \n",
       "\n",
       "       temp_max_swing_from_avg         year        month          day  \\\n",
       "count              1892.000000  1892.000000  1892.000000  1892.000000   \n",
       "mean                  0.578330  1989.741543     3.602537    16.549683   \n",
       "std                  12.429033   225.160208     3.252230     8.475751   \n",
       "min                 -53.800000     4.000000     1.000000     1.000000   \n",
       "25%                  -7.400000  2012.000000     2.000000    10.000000   \n",
       "50%                   1.000000  2015.000000     3.000000    17.000000   \n",
       "75%                   9.400000  2018.000000     4.000000    24.000000   \n",
       "max                  34.600000  2020.000000    12.000000    31.000000   \n",
       "\n",
       "          temp_max     temp_min  ...  prevailing_wind_E_2  \\\n",
       "count  1892.000000  1892.000000  ...          1892.000000   \n",
       "mean     19.517970     3.720930  ...             0.066068   \n",
       "std      13.234699    14.170538  ...             0.462640   \n",
       "min     -26.000000   -40.000000  ...             0.000000   \n",
       "25%      11.000000    -6.000000  ...             0.000000   \n",
       "50%      19.000000     5.000000  ...             0.000000   \n",
       "75%      28.000000    12.000000  ...             0.000000   \n",
       "max      57.000000    47.000000  ...             4.000000   \n",
       "\n",
       "       prevailing_wind_N_2  prevailing_wind_NE_2  prevailing_wind_NW_2  \\\n",
       "count          1892.000000           1892.000000           1892.000000   \n",
       "mean              0.108879              0.067125              0.323467   \n",
       "std               0.499376              0.463630              0.609305   \n",
       "min               0.000000              0.000000              0.000000   \n",
       "25%               0.000000              0.000000              0.000000   \n",
       "50%               0.000000              0.000000              0.000000   \n",
       "75%               0.000000              0.000000              1.000000   \n",
       "max               4.000000              4.000000              4.000000   \n",
       "\n",
       "       prevailing_wind_S_2  prevailing_wind_SE_2  prevailing_wind_SW_2  \\\n",
       "count          1892.000000           1892.000000           1892.000000   \n",
       "mean              0.110465              0.071882              0.116808   \n",
       "std               0.500615              0.468028              0.505488   \n",
       "min               0.000000              0.000000              0.000000   \n",
       "25%               0.000000              0.000000              0.000000   \n",
       "50%               0.000000              0.000000              0.000000   \n",
       "75%               0.000000              0.000000              0.000000   \n",
       "max               4.000000              4.000000              4.000000   \n",
       "\n",
       "       prevailing_wind_W_2  three_day_snow_2  next_day_avi_danger  \n",
       "count          1892.000000       1892.000000           1892.00000  \n",
       "mean              0.528541          4.607981              2.50000  \n",
       "std               0.633733          5.034305              1.11833  \n",
       "min               0.000000          0.000000              1.00000  \n",
       "25%               0.000000          1.100000              1.75000  \n",
       "50%               0.000000          3.000000              2.50000  \n",
       "75%               1.000000          6.300000              3.25000  \n",
       "max               4.000000         34.200000              4.00000  \n",
       "\n",
       "[8 rows x 74 columns]"
      ]
     },
     "execution_count": 3,
     "metadata": {},
     "output_type": "execute_result"
    }
   ],
   "source": [
    "avi.describe()"
   ]
  },
  {
   "cell_type": "code",
   "execution_count": 4,
   "metadata": {},
   "outputs": [
    {
     "data": {
      "text/plain": [
       "Index(['Unnamed: 0', 'avi_danger', 'avg_wind', 'temp_max_swing',\n",
       "       'temp_max_swing_from_avg', 'year', 'month', 'day', 'temp_max',\n",
       "       'temp_min', 'water_equivalent', 'snow_fall', 'snow_depth_6am',\n",
       "       'wind_speed_sum', 'sunshine_percent', 'west_wind_hours',\n",
       "       'northwest_wind_hours', 'prevailing_wind_E', 'prevailing_wind_N',\n",
       "       'prevailing_wind_NE', 'prevailing_wind_NW', 'prevailing_wind_S',\n",
       "       'prevailing_wind_SE', 'prevailing_wind_SW', 'prevailing_wind_W',\n",
       "       'prevailing_wind_na', 'three_day_snow', 'five_day_snow', 'avi_danger_1',\n",
       "       'avg_wind_1', 'temp_max_swing_1', 'temp_max_swing_from_avg_1',\n",
       "       'temp_max_1', 'temp_min_1', 'water_equivalent_1', 'snow_fall_1',\n",
       "       'snow_depth_6am_1', 'wind_speed_sum_1', 'sunshine_percent_1',\n",
       "       'west_wind_hours_1', 'northwest_wind_hours_1', 'prevailing_wind_E_1',\n",
       "       'prevailing_wind_N_1', 'prevailing_wind_NE_1', 'prevailing_wind_NW_1',\n",
       "       'prevailing_wind_S_1', 'prevailing_wind_SE_1', 'prevailing_wind_SW_1',\n",
       "       'prevailing_wind_W_1', 'three_day_snow_1', 'five_day_snow_1',\n",
       "       'avi_danger_2', 'avg_wind_2', 'temp_max_swing_2',\n",
       "       'temp_max_swing_from_avg_2', 'temp_max_2', 'temp_min_2',\n",
       "       'water_equivalent_2', 'snow_fall_2', 'snow_depth_6am_2',\n",
       "       'wind_speed_sum_2', 'sunshine_percent_2', 'west_wind_hours_2',\n",
       "       'northwest_wind_hours_2', 'prevailing_wind_E_2', 'prevailing_wind_N_2',\n",
       "       'prevailing_wind_NE_2', 'prevailing_wind_NW_2', 'prevailing_wind_S_2',\n",
       "       'prevailing_wind_SE_2', 'prevailing_wind_SW_2', 'prevailing_wind_W_2',\n",
       "       'three_day_snow_2', 'next_day_avi_danger'],\n",
       "      dtype='object')"
      ]
     },
     "execution_count": 4,
     "metadata": {},
     "output_type": "execute_result"
    }
   ],
   "source": [
    "avi.columns"
   ]
  },
  {
   "cell_type": "code",
   "execution_count": 6,
   "metadata": {},
   "outputs": [
    {
     "name": "stdout",
     "output_type": "stream",
     "text": [
      "<class 'pandas.core.frame.DataFrame'>\n",
      "RangeIndex: 1892 entries, 0 to 1891\n",
      "Data columns (total 74 columns):\n",
      " #   Column                     Non-Null Count  Dtype  \n",
      "---  ------                     --------------  -----  \n",
      " 0   Unnamed: 0                 1892 non-null   int64  \n",
      " 1   avi_danger                 1892 non-null   float64\n",
      " 2   avg_wind                   1892 non-null   float64\n",
      " 3   temp_max_swing             1892 non-null   float64\n",
      " 4   temp_max_swing_from_avg    1892 non-null   float64\n",
      " 5   year                       1892 non-null   float64\n",
      " 6   month                      1892 non-null   float64\n",
      " 7   day                        1892 non-null   float64\n",
      " 8   temp_max                   1892 non-null   int64  \n",
      " 9   temp_min                   1892 non-null   int64  \n",
      " 10  water_equivalent           1892 non-null   float64\n",
      " 11  snow_fall                  1892 non-null   float64\n",
      " 12  snow_depth_6am             1892 non-null   float64\n",
      " 13  wind_speed_sum             1892 non-null   int64  \n",
      " 14  sunshine_percent           1892 non-null   int64  \n",
      " 15  west_wind_hours            1892 non-null   int64  \n",
      " 16  northwest_wind_hours       1892 non-null   int64  \n",
      " 17  prevailing_wind_E          1892 non-null   int64  \n",
      " 18  prevailing_wind_N          1892 non-null   int64  \n",
      " 19  prevailing_wind_NE         1892 non-null   int64  \n",
      " 20  prevailing_wind_NW         1892 non-null   int64  \n",
      " 21  prevailing_wind_S          1892 non-null   int64  \n",
      " 22  prevailing_wind_SE         1892 non-null   int64  \n",
      " 23  prevailing_wind_SW         1892 non-null   int64  \n",
      " 24  prevailing_wind_W          1892 non-null   int64  \n",
      " 25  prevailing_wind_na         1892 non-null   int64  \n",
      " 26  three_day_snow             1892 non-null   float64\n",
      " 27  five_day_snow              1892 non-null   float64\n",
      " 28  avi_danger_1               1892 non-null   float64\n",
      " 29  avg_wind_1                 1892 non-null   float64\n",
      " 30  temp_max_swing_1           1892 non-null   float64\n",
      " 31  temp_max_swing_from_avg_1  1892 non-null   float64\n",
      " 32  temp_max_1                 1892 non-null   float64\n",
      " 33  temp_min_1                 1892 non-null   float64\n",
      " 34  water_equivalent_1         1892 non-null   float64\n",
      " 35  snow_fall_1                1892 non-null   float64\n",
      " 36  snow_depth_6am_1           1892 non-null   float64\n",
      " 37  wind_speed_sum_1           1892 non-null   float64\n",
      " 38  sunshine_percent_1         1892 non-null   float64\n",
      " 39  west_wind_hours_1          1892 non-null   float64\n",
      " 40  northwest_wind_hours_1     1892 non-null   float64\n",
      " 41  prevailing_wind_E_1        1892 non-null   float64\n",
      " 42  prevailing_wind_N_1        1892 non-null   float64\n",
      " 43  prevailing_wind_NE_1       1892 non-null   float64\n",
      " 44  prevailing_wind_NW_1       1892 non-null   float64\n",
      " 45  prevailing_wind_S_1        1892 non-null   float64\n",
      " 46  prevailing_wind_SE_1       1892 non-null   float64\n",
      " 47  prevailing_wind_SW_1       1892 non-null   float64\n",
      " 48  prevailing_wind_W_1        1892 non-null   float64\n",
      " 49  three_day_snow_1           1892 non-null   float64\n",
      " 50  five_day_snow_1            1892 non-null   float64\n",
      " 51  avi_danger_2               1892 non-null   float64\n",
      " 52  avg_wind_2                 1892 non-null   float64\n",
      " 53  temp_max_swing_2           1892 non-null   float64\n",
      " 54  temp_max_swing_from_avg_2  1892 non-null   float64\n",
      " 55  temp_max_2                 1892 non-null   float64\n",
      " 56  temp_min_2                 1892 non-null   float64\n",
      " 57  water_equivalent_2         1892 non-null   float64\n",
      " 58  snow_fall_2                1892 non-null   float64\n",
      " 59  snow_depth_6am_2           1892 non-null   float64\n",
      " 60  wind_speed_sum_2           1892 non-null   float64\n",
      " 61  sunshine_percent_2         1892 non-null   float64\n",
      " 62  west_wind_hours_2          1892 non-null   float64\n",
      " 63  northwest_wind_hours_2     1892 non-null   float64\n",
      " 64  prevailing_wind_E_2        1892 non-null   float64\n",
      " 65  prevailing_wind_N_2        1892 non-null   float64\n",
      " 66  prevailing_wind_NE_2       1892 non-null   float64\n",
      " 67  prevailing_wind_NW_2       1892 non-null   float64\n",
      " 68  prevailing_wind_S_2        1892 non-null   float64\n",
      " 69  prevailing_wind_SE_2       1892 non-null   float64\n",
      " 70  prevailing_wind_SW_2       1892 non-null   float64\n",
      " 71  prevailing_wind_W_2        1892 non-null   float64\n",
      " 72  three_day_snow_2           1892 non-null   float64\n",
      " 73  next_day_avi_danger        1892 non-null   float64\n",
      "dtypes: float64(58), int64(16)\n",
      "memory usage: 1.1 MB\n"
     ]
    }
   ],
   "source": [
    "avi.info()"
   ]
  },
  {
   "cell_type": "markdown",
   "metadata": {},
   "source": [
    "## Filter Dataset"
   ]
  },
  {
   "cell_type": "code",
   "execution_count": 7,
   "metadata": {},
   "outputs": [],
   "source": [
    "avi = avi.drop(['Unnamed: 0'], axis=1)"
   ]
  },
  {
   "cell_type": "code",
   "execution_count": 8,
   "metadata": {},
   "outputs": [
    {
     "name": "stdout",
     "output_type": "stream",
     "text": [
      "<class 'pandas.core.frame.DataFrame'>\n",
      "Int64Index: 1892 entries, 0 to 1891\n",
      "Data columns (total 73 columns):\n",
      " #   Column                     Non-Null Count  Dtype  \n",
      "---  ------                     --------------  -----  \n",
      " 0   avi_danger                 1892 non-null   float64\n",
      " 1   avg_wind                   1892 non-null   float64\n",
      " 2   temp_max_swing             1892 non-null   float64\n",
      " 3   temp_max_swing_from_avg    1892 non-null   float64\n",
      " 4   year                       1892 non-null   float64\n",
      " 5   month                      1892 non-null   float64\n",
      " 6   day                        1892 non-null   float64\n",
      " 7   temp_max                   1892 non-null   int64  \n",
      " 8   temp_min                   1892 non-null   int64  \n",
      " 9   water_equivalent           1892 non-null   float64\n",
      " 10  snow_fall                  1892 non-null   float64\n",
      " 11  snow_depth_6am             1892 non-null   float64\n",
      " 12  wind_speed_sum             1892 non-null   int64  \n",
      " 13  sunshine_percent           1892 non-null   int64  \n",
      " 14  west_wind_hours            1892 non-null   int64  \n",
      " 15  northwest_wind_hours       1892 non-null   int64  \n",
      " 16  prevailing_wind_E          1892 non-null   int64  \n",
      " 17  prevailing_wind_N          1892 non-null   int64  \n",
      " 18  prevailing_wind_NE         1892 non-null   int64  \n",
      " 19  prevailing_wind_NW         1892 non-null   int64  \n",
      " 20  prevailing_wind_S          1892 non-null   int64  \n",
      " 21  prevailing_wind_SE         1892 non-null   int64  \n",
      " 22  prevailing_wind_SW         1892 non-null   int64  \n",
      " 23  prevailing_wind_W          1892 non-null   int64  \n",
      " 24  prevailing_wind_na         1892 non-null   int64  \n",
      " 25  three_day_snow             1892 non-null   float64\n",
      " 26  five_day_snow              1892 non-null   float64\n",
      " 27  avi_danger_1               1892 non-null   float64\n",
      " 28  avg_wind_1                 1892 non-null   float64\n",
      " 29  temp_max_swing_1           1892 non-null   float64\n",
      " 30  temp_max_swing_from_avg_1  1892 non-null   float64\n",
      " 31  temp_max_1                 1892 non-null   float64\n",
      " 32  temp_min_1                 1892 non-null   float64\n",
      " 33  water_equivalent_1         1892 non-null   float64\n",
      " 34  snow_fall_1                1892 non-null   float64\n",
      " 35  snow_depth_6am_1           1892 non-null   float64\n",
      " 36  wind_speed_sum_1           1892 non-null   float64\n",
      " 37  sunshine_percent_1         1892 non-null   float64\n",
      " 38  west_wind_hours_1          1892 non-null   float64\n",
      " 39  northwest_wind_hours_1     1892 non-null   float64\n",
      " 40  prevailing_wind_E_1        1892 non-null   float64\n",
      " 41  prevailing_wind_N_1        1892 non-null   float64\n",
      " 42  prevailing_wind_NE_1       1892 non-null   float64\n",
      " 43  prevailing_wind_NW_1       1892 non-null   float64\n",
      " 44  prevailing_wind_S_1        1892 non-null   float64\n",
      " 45  prevailing_wind_SE_1       1892 non-null   float64\n",
      " 46  prevailing_wind_SW_1       1892 non-null   float64\n",
      " 47  prevailing_wind_W_1        1892 non-null   float64\n",
      " 48  three_day_snow_1           1892 non-null   float64\n",
      " 49  five_day_snow_1            1892 non-null   float64\n",
      " 50  avi_danger_2               1892 non-null   float64\n",
      " 51  avg_wind_2                 1892 non-null   float64\n",
      " 52  temp_max_swing_2           1892 non-null   float64\n",
      " 53  temp_max_swing_from_avg_2  1892 non-null   float64\n",
      " 54  temp_max_2                 1892 non-null   float64\n",
      " 55  temp_min_2                 1892 non-null   float64\n",
      " 56  water_equivalent_2         1892 non-null   float64\n",
      " 57  snow_fall_2                1892 non-null   float64\n",
      " 58  snow_depth_6am_2           1892 non-null   float64\n",
      " 59  wind_speed_sum_2           1892 non-null   float64\n",
      " 60  sunshine_percent_2         1892 non-null   float64\n",
      " 61  west_wind_hours_2          1892 non-null   float64\n",
      " 62  northwest_wind_hours_2     1892 non-null   float64\n",
      " 63  prevailing_wind_E_2        1892 non-null   float64\n",
      " 64  prevailing_wind_N_2        1892 non-null   float64\n",
      " 65  prevailing_wind_NE_2       1892 non-null   float64\n",
      " 66  prevailing_wind_NW_2       1892 non-null   float64\n",
      " 67  prevailing_wind_S_2        1892 non-null   float64\n",
      " 68  prevailing_wind_SE_2       1892 non-null   float64\n",
      " 69  prevailing_wind_SW_2       1892 non-null   float64\n",
      " 70  prevailing_wind_W_2        1892 non-null   float64\n",
      " 71  three_day_snow_2           1892 non-null   float64\n",
      " 72  next_day_avi_danger        1892 non-null   float64\n",
      "dtypes: float64(58), int64(15)\n",
      "memory usage: 1.1 MB\n"
     ]
    }
   ],
   "source": [
    "avi = avi[avi['avi_danger'].notnull()]\n",
    "avi.info()"
   ]
  },
  {
   "cell_type": "markdown",
   "metadata": {},
   "source": [
    "## Fill Remaing NA's"
   ]
  },
  {
   "cell_type": "code",
   "execution_count": 9,
   "metadata": {},
   "outputs": [
    {
     "name": "stdout",
     "output_type": "stream",
     "text": [
      "<class 'pandas.core.frame.DataFrame'>\n",
      "Int64Index: 1892 entries, 0 to 1891\n",
      "Data columns (total 73 columns):\n",
      " #   Column                     Non-Null Count  Dtype  \n",
      "---  ------                     --------------  -----  \n",
      " 0   avi_danger                 1892 non-null   float64\n",
      " 1   avg_wind                   1892 non-null   float64\n",
      " 2   temp_max_swing             1892 non-null   float64\n",
      " 3   temp_max_swing_from_avg    1892 non-null   float64\n",
      " 4   year                       1892 non-null   float64\n",
      " 5   month                      1892 non-null   float64\n",
      " 6   day                        1892 non-null   float64\n",
      " 7   temp_max                   1892 non-null   int64  \n",
      " 8   temp_min                   1892 non-null   int64  \n",
      " 9   water_equivalent           1892 non-null   float64\n",
      " 10  snow_fall                  1892 non-null   float64\n",
      " 11  snow_depth_6am             1892 non-null   float64\n",
      " 12  wind_speed_sum             1892 non-null   int64  \n",
      " 13  sunshine_percent           1892 non-null   int64  \n",
      " 14  west_wind_hours            1892 non-null   int64  \n",
      " 15  northwest_wind_hours       1892 non-null   int64  \n",
      " 16  prevailing_wind_E          1892 non-null   int64  \n",
      " 17  prevailing_wind_N          1892 non-null   int64  \n",
      " 18  prevailing_wind_NE         1892 non-null   int64  \n",
      " 19  prevailing_wind_NW         1892 non-null   int64  \n",
      " 20  prevailing_wind_S          1892 non-null   int64  \n",
      " 21  prevailing_wind_SE         1892 non-null   int64  \n",
      " 22  prevailing_wind_SW         1892 non-null   int64  \n",
      " 23  prevailing_wind_W          1892 non-null   int64  \n",
      " 24  prevailing_wind_na         1892 non-null   int64  \n",
      " 25  three_day_snow             1892 non-null   float64\n",
      " 26  five_day_snow              1892 non-null   float64\n",
      " 27  avi_danger_1               1892 non-null   float64\n",
      " 28  avg_wind_1                 1892 non-null   float64\n",
      " 29  temp_max_swing_1           1892 non-null   float64\n",
      " 30  temp_max_swing_from_avg_1  1892 non-null   float64\n",
      " 31  temp_max_1                 1892 non-null   float64\n",
      " 32  temp_min_1                 1892 non-null   float64\n",
      " 33  water_equivalent_1         1892 non-null   float64\n",
      " 34  snow_fall_1                1892 non-null   float64\n",
      " 35  snow_depth_6am_1           1892 non-null   float64\n",
      " 36  wind_speed_sum_1           1892 non-null   float64\n",
      " 37  sunshine_percent_1         1892 non-null   float64\n",
      " 38  west_wind_hours_1          1892 non-null   float64\n",
      " 39  northwest_wind_hours_1     1892 non-null   float64\n",
      " 40  prevailing_wind_E_1        1892 non-null   float64\n",
      " 41  prevailing_wind_N_1        1892 non-null   float64\n",
      " 42  prevailing_wind_NE_1       1892 non-null   float64\n",
      " 43  prevailing_wind_NW_1       1892 non-null   float64\n",
      " 44  prevailing_wind_S_1        1892 non-null   float64\n",
      " 45  prevailing_wind_SE_1       1892 non-null   float64\n",
      " 46  prevailing_wind_SW_1       1892 non-null   float64\n",
      " 47  prevailing_wind_W_1        1892 non-null   float64\n",
      " 48  three_day_snow_1           1892 non-null   float64\n",
      " 49  five_day_snow_1            1892 non-null   float64\n",
      " 50  avi_danger_2               1892 non-null   float64\n",
      " 51  avg_wind_2                 1892 non-null   float64\n",
      " 52  temp_max_swing_2           1892 non-null   float64\n",
      " 53  temp_max_swing_from_avg_2  1892 non-null   float64\n",
      " 54  temp_max_2                 1892 non-null   float64\n",
      " 55  temp_min_2                 1892 non-null   float64\n",
      " 56  water_equivalent_2         1892 non-null   float64\n",
      " 57  snow_fall_2                1892 non-null   float64\n",
      " 58  snow_depth_6am_2           1892 non-null   float64\n",
      " 59  wind_speed_sum_2           1892 non-null   float64\n",
      " 60  sunshine_percent_2         1892 non-null   float64\n",
      " 61  west_wind_hours_2          1892 non-null   float64\n",
      " 62  northwest_wind_hours_2     1892 non-null   float64\n",
      " 63  prevailing_wind_E_2        1892 non-null   float64\n",
      " 64  prevailing_wind_N_2        1892 non-null   float64\n",
      " 65  prevailing_wind_NE_2       1892 non-null   float64\n",
      " 66  prevailing_wind_NW_2       1892 non-null   float64\n",
      " 67  prevailing_wind_S_2        1892 non-null   float64\n",
      " 68  prevailing_wind_SE_2       1892 non-null   float64\n",
      " 69  prevailing_wind_SW_2       1892 non-null   float64\n",
      " 70  prevailing_wind_W_2        1892 non-null   float64\n",
      " 71  three_day_snow_2           1892 non-null   float64\n",
      " 72  next_day_avi_danger        1892 non-null   float64\n",
      "dtypes: float64(58), int64(15)\n",
      "memory usage: 1.1 MB\n"
     ]
    }
   ],
   "source": [
    "avi = avi.fillna(0)\n",
    "avi[avi.avi_danger == 5] = 4\n",
    "avi[avi.next_day_avi_danger == 5] = 4\n",
    "avi.info()"
   ]
  },
  {
   "cell_type": "markdown",
   "metadata": {},
   "source": [
    "### Standardizing the Data"
   ]
  },
  {
   "cell_type": "code",
   "execution_count": 10,
   "metadata": {},
   "outputs": [],
   "source": [
    "#standardizer \n",
    "def standardize(X_train, X_test):\n",
    "    scaler = StandardScaler()\n",
    "    # Fitting and transforming training data\n",
    "    scaler.fit(X_train)\n",
    "    X_train = scaler.transform(X_train)\n",
    "    # Tranforming testing data based on traning fit (prevent data leakage)\n",
    "    X_test = scaler.transform(X_test)\n",
    "    return X_train, X_test\n"
   ]
  },
  {
   "cell_type": "markdown",
   "metadata": {},
   "source": [
    "## Splitting Dataset"
   ]
  },
  {
   "cell_type": "code",
   "execution_count": 11,
   "metadata": {},
   "outputs": [
    {
     "name": "stdout",
     "output_type": "stream",
     "text": [
      "(1892, 71)\n",
      "(1892,)\n"
     ]
    }
   ],
   "source": [
    "x = avi.iloc[:, 0:avi.shape[1]-2]\n",
    "y = avi.iloc[:, avi.shape[1]-1]\n",
    "\n",
    "print(x.shape)\n",
    "print(y.shape)\n"
   ]
  },
  {
   "cell_type": "code",
   "execution_count": 12,
   "metadata": {},
   "outputs": [],
   "source": [
    "x_train, x_test, y_train, y_test = train_test_split(x, y, test_size=0.25, random_state=42)"
   ]
  },
  {
   "cell_type": "code",
   "execution_count": 13,
   "metadata": {},
   "outputs": [],
   "source": [
    "# Scaling\n",
    "x_train, x_test = standardize(x_train, x_test)"
   ]
  },
  {
   "cell_type": "markdown",
   "metadata": {},
   "source": [
    "# Logistic Regression"
   ]
  },
  {
   "cell_type": "code",
   "execution_count": 26,
   "metadata": {},
   "outputs": [
    {
     "name": "stderr",
     "output_type": "stream",
     "text": [
      "/Users/lowell/opt/anaconda3/lib/python3.8/site-packages/sklearn/model_selection/_validation.py:548: FitFailedWarning: Estimator fit failed. The score on this train-test partition for these parameters will be set to nan. Details: \n",
      "Traceback (most recent call last):\n",
      "  File \"/Users/lowell/opt/anaconda3/lib/python3.8/site-packages/sklearn/model_selection/_validation.py\", line 531, in _fit_and_score\n",
      "    estimator.fit(X_train, y_train, **fit_params)\n",
      "  File \"/Users/lowell/opt/anaconda3/lib/python3.8/site-packages/sklearn/linear_model/_logistic.py\", line 1304, in fit\n",
      "    solver = _check_solver(self.solver, self.penalty, self.dual)\n",
      "  File \"/Users/lowell/opt/anaconda3/lib/python3.8/site-packages/sklearn/linear_model/_logistic.py\", line 442, in _check_solver\n",
      "    raise ValueError(\"Solver %s supports only 'l2' or 'none' penalties, \"\n",
      "ValueError: Solver newton-cg supports only 'l2' or 'none' penalties, got l1 penalty.\n",
      "\n",
      "  warnings.warn(\"Estimator fit failed. The score on this train-test\"\n",
      "/Users/lowell/opt/anaconda3/lib/python3.8/site-packages/sklearn/model_selection/_validation.py:548: FitFailedWarning: Estimator fit failed. The score on this train-test partition for these parameters will be set to nan. Details: \n",
      "Traceback (most recent call last):\n",
      "  File \"/Users/lowell/opt/anaconda3/lib/python3.8/site-packages/sklearn/model_selection/_validation.py\", line 531, in _fit_and_score\n",
      "    estimator.fit(X_train, y_train, **fit_params)\n",
      "  File \"/Users/lowell/opt/anaconda3/lib/python3.8/site-packages/sklearn/linear_model/_logistic.py\", line 1312, in fit\n",
      "    raise ValueError(\"l1_ratio must be between 0 and 1;\"\n",
      "ValueError: l1_ratio must be between 0 and 1; got (l1_ratio=None)\n",
      "\n",
      "  warnings.warn(\"Estimator fit failed. The score on this train-test\"\n",
      "/Users/lowell/opt/anaconda3/lib/python3.8/site-packages/sklearn/model_selection/_validation.py:548: FitFailedWarning: Estimator fit failed. The score on this train-test partition for these parameters will be set to nan. Details: \n",
      "Traceback (most recent call last):\n",
      "  File \"/Users/lowell/opt/anaconda3/lib/python3.8/site-packages/sklearn/model_selection/_validation.py\", line 531, in _fit_and_score\n",
      "    estimator.fit(X_train, y_train, **fit_params)\n",
      "  File \"/Users/lowell/opt/anaconda3/lib/python3.8/site-packages/sklearn/linear_model/_logistic.py\", line 1304, in fit\n",
      "    solver = _check_solver(self.solver, self.penalty, self.dual)\n",
      "  File \"/Users/lowell/opt/anaconda3/lib/python3.8/site-packages/sklearn/linear_model/_logistic.py\", line 442, in _check_solver\n",
      "    raise ValueError(\"Solver %s supports only 'l2' or 'none' penalties, \"\n",
      "ValueError: Solver sag supports only 'l2' or 'none' penalties, got elasticnet penalty.\n",
      "\n",
      "  warnings.warn(\"Estimator fit failed. The score on this train-test\"\n"
     ]
    },
    {
     "name": "stdout",
     "output_type": "stream",
     "text": [
      "0.5898520084566596\n",
      "[0.61522199 0.59196617 0.63002114]\n",
      "{'tol': 0.0001, 'solver': 'newton-cg', 'penalty': 'l2', 'C': 100}\n"
     ]
    }
   ],
   "source": [
    "\n",
    "penalty = ['l1', 'l2', 'elasticnet']\n",
    "tol = [0.0001, 0.001, 0.01, 0.1]\n",
    "C = [0.001, 0.01, 0.1, 1, 10, 100, 1000] \n",
    "solver = ['liblinear', 'newton-cg', 'lbfgs', 'sag', 'saga']\n",
    "param_distributions = dict(penalty=penalty,\n",
    "                           tol=tol,\n",
    "                           C=C,\n",
    "                           solver = solver)\n",
    "\n",
    "\n",
    "lr = LogisticRegression(max_iter = 10000)\n",
    "lr_cv = RandomizedSearchCV(estimator=lr, param_distributions= param_distributions, n_iter=5, scoring='f1_weighted')\n",
    "lr_cv.fit(x_train, y_train)\n",
    "y_pred_lr = lr_cv.predict(x_test)\n",
    "print(accuracy_score(y_test, y_pred_lr))\n",
    "print(cross_val_score(lr, x_train, y_train, cv=3))\n",
    "print(lr_cv.best_params_)"
   ]
  },
  {
   "cell_type": "code",
   "execution_count": 27,
   "metadata": {},
   "outputs": [
    {
     "name": "stdout",
     "output_type": "stream",
     "text": [
      "[[85 21  7  3]\n",
      " [17 52 26 12]\n",
      " [10 38 59 32]\n",
      " [ 3 15 10 83]]\n"
     ]
    }
   ],
   "source": [
    "print(confusion_matrix(y_test, y_pred_lr))"
   ]
  },
  {
   "cell_type": "code",
   "execution_count": 28,
   "metadata": {},
   "outputs": [
    {
     "name": "stdout",
     "output_type": "stream",
     "text": [
      "              precision    recall  f1-score   support\n",
      "\n",
      "         1.0       0.74      0.73      0.74       116\n",
      "         2.0       0.41      0.49      0.45       107\n",
      "         3.0       0.58      0.42      0.49       139\n",
      "         4.0       0.64      0.75      0.69       111\n",
      "\n",
      "    accuracy                           0.59       473\n",
      "   macro avg       0.59      0.60      0.59       473\n",
      "weighted avg       0.59      0.59      0.59       473\n",
      "\n"
     ]
    }
   ],
   "source": [
    "print(classification_report(y_test, y_pred_lr))"
   ]
  },
  {
   "cell_type": "markdown",
   "metadata": {},
   "source": [
    "# Support Vector Machine (SVM)"
   ]
  },
  {
   "cell_type": "code",
   "execution_count": 32,
   "metadata": {},
   "outputs": [
    {
     "name": "stdout",
     "output_type": "stream",
     "text": [
      "0.7463002114164905\n",
      "[0.68287526 0.62156448 0.67653277]\n",
      "{'kernel': 'rbf', 'gamma': 0.01, 'C': 1000}\n"
     ]
    }
   ],
   "source": [
    "param_distributions = {'C': [0.1, 1, 10, 100, 1000],  \n",
    "              'gamma': [1, 0.1, 0.01, 0.001, 0.0001], \n",
    "              'kernel': ['rbf']}  \n",
    "\n",
    "\n",
    "svm = SVC()\n",
    "svm_cv = RandomizedSearchCV(estimator=svm, param_distributions= param_distributions, n_iter=5, scoring='f1_weighted')\n",
    "svm_cv.fit(x_train, y_train)\n",
    "y_pred_svm = svm_cv.predict(x_test)\n",
    "print(accuracy_score(y_test, y_pred_svm))\n",
    "print(cross_val_score(svm, x_train, y_train, cv=3))\n",
    "print(svm_cv.best_params_)"
   ]
  },
  {
   "cell_type": "code",
   "execution_count": 33,
   "metadata": {},
   "outputs": [
    {
     "name": "stdout",
     "output_type": "stream",
     "text": [
      "[[ 90  20   6   0]\n",
      " [ 24  53  26   4]\n",
      " [  7  26  99   7]\n",
      " [  0   0   0 111]]\n"
     ]
    }
   ],
   "source": [
    "print(confusion_matrix(y_test, y_pred_svm))"
   ]
  },
  {
   "cell_type": "code",
   "execution_count": 34,
   "metadata": {},
   "outputs": [
    {
     "name": "stdout",
     "output_type": "stream",
     "text": [
      "              precision    recall  f1-score   support\n",
      "\n",
      "         1.0       0.74      0.78      0.76       116\n",
      "         2.0       0.54      0.50      0.51       107\n",
      "         3.0       0.76      0.71      0.73       139\n",
      "         4.0       0.91      1.00      0.95       111\n",
      "\n",
      "    accuracy                           0.75       473\n",
      "   macro avg       0.74      0.75      0.74       473\n",
      "weighted avg       0.74      0.75      0.74       473\n",
      "\n"
     ]
    }
   ],
   "source": [
    "print(classification_report(y_test, y_pred_svm))"
   ]
  },
  {
   "cell_type": "markdown",
   "metadata": {},
   "source": [
    "# K-Nearest Neighbors"
   ]
  },
  {
   "cell_type": "code",
   "execution_count": 35,
   "metadata": {},
   "outputs": [
    {
     "name": "stdout",
     "output_type": "stream",
     "text": [
      "0.642706131078224\n",
      "[0.58350951 0.54968288 0.56871036]\n",
      "{'p': 2, 'n_neighbors': 3, 'leaf_size': 46}\n"
     ]
    }
   ],
   "source": [
    "#List Hyperparameters that we want to tune.\n",
    "leaf_size = list(range(1,50))\n",
    "n_neighbors = list(range(1,30))\n",
    "p=[1,2]\n",
    "#Convert to dictionary\n",
    "param_distributions = dict(leaf_size=leaf_size, n_neighbors=n_neighbors, p=p)\n",
    "\n",
    "knn = KNeighborsClassifier()\n",
    "knn_cv = RandomizedSearchCV(estimator=knn, param_distributions= param_distributions, n_iter=5, scoring='f1_weighted')\n",
    "knn_cv.fit(x_train, y_train)\n",
    "y_pred_knn = knn_cv.predict(x_test)\n",
    "print(accuracy_score(y_test, y_pred_knn))\n",
    "print(cross_val_score(knn, x_train, y_train, cv=3))\n",
    "print(knn_cv.best_params_)"
   ]
  },
  {
   "cell_type": "code",
   "execution_count": 36,
   "metadata": {},
   "outputs": [
    {
     "name": "stdout",
     "output_type": "stream",
     "text": [
      "[[ 86  16  10   4]\n",
      " [ 29  36  32  10]\n",
      " [ 26  25  71  17]\n",
      " [  0   0   0 111]]\n"
     ]
    }
   ],
   "source": [
    "print(confusion_matrix(y_test, y_pred_knn))"
   ]
  },
  {
   "cell_type": "code",
   "execution_count": 37,
   "metadata": {
    "scrolled": true
   },
   "outputs": [
    {
     "name": "stdout",
     "output_type": "stream",
     "text": [
      "              precision    recall  f1-score   support\n",
      "\n",
      "         1.0       0.61      0.74      0.67       116\n",
      "         2.0       0.47      0.34      0.39       107\n",
      "         3.0       0.63      0.51      0.56       139\n",
      "         4.0       0.78      1.00      0.88       111\n",
      "\n",
      "    accuracy                           0.64       473\n",
      "   macro avg       0.62      0.65      0.63       473\n",
      "weighted avg       0.62      0.64      0.62       473\n",
      "\n"
     ]
    }
   ],
   "source": [
    "print(classification_report(y_test, y_pred_knn))"
   ]
  },
  {
   "cell_type": "markdown",
   "metadata": {},
   "source": [
    "# Gradient Boosting Classifier"
   ]
  },
  {
   "cell_type": "code",
   "execution_count": null,
   "metadata": {},
   "outputs": [],
   "source": [
    "param_distributions = {'learning_rate':[0.15,0.1,0.05,0.01,0.005,0.001], \n",
    "                       'n_estimators':[100,250,500,750,1000,1250,1500,1750],\n",
    "                       'max_depth':[2,3,4,5,6,7] }\n",
    "\n",
    "gbc = GradientBoostingClassifier()\n",
    "gbc_cv = RandomizedSearchCV(estimator=gbc, param_distributions= param_distributions, n_iter=5, scoring='f1_weighted')\n",
    "gbc_cv.fit(x_train, y_train)\n",
    "y_pred_gbc = gbc_cv.predict(x_test)\n",
    "print(accuracy_score(y_test, y_pred_gbc))\n",
    "print(cross_val_score(gbc, x_train, y_train, cv=3))\n",
    "print(gbc_cv.best_params_)"
   ]
  },
  {
   "cell_type": "code",
   "execution_count": 67,
   "metadata": {},
   "outputs": [
    {
     "name": "stdout",
     "output_type": "stream",
     "text": [
      "[[76 15  3  1]\n",
      " [ 9 73 23  3]\n",
      " [10 38 39  1]\n",
      " [ 1  7 13  1]]\n"
     ]
    }
   ],
   "source": [
    "print(confusion_matrix(y_test, y_pred_gbc))"
   ]
  },
  {
   "cell_type": "code",
   "execution_count": 68,
   "metadata": {},
   "outputs": [
    {
     "name": "stdout",
     "output_type": "stream",
     "text": [
      "              precision    recall  f1-score   support\n",
      "\n",
      "         1.0       0.71      0.74      0.72        95\n",
      "         2.0       0.51      0.70      0.59       108\n",
      "         3.0       0.52      0.39      0.44        88\n",
      "         4.0       0.00      0.00      0.00        22\n",
      "\n",
      "    accuracy                           0.58       313\n",
      "   macro avg       0.44      0.46      0.44       313\n",
      "weighted avg       0.54      0.58      0.55       313\n",
      "\n"
     ]
    },
    {
     "name": "stderr",
     "output_type": "stream",
     "text": [
      "/Users/lowell/opt/anaconda3/lib/python3.8/site-packages/sklearn/metrics/_classification.py:1221: UndefinedMetricWarning: Precision and F-score are ill-defined and being set to 0.0 in labels with no predicted samples. Use `zero_division` parameter to control this behavior.\n",
      "  _warn_prf(average, modifier, msg_start, len(result))\n"
     ]
    }
   ],
   "source": [
    "print(classification_report(y_test, y_pred_knn))"
   ]
  },
  {
   "cell_type": "code",
   "execution_count": null,
   "metadata": {},
   "outputs": [],
   "source": []
  }
 ],
 "metadata": {
  "kernelspec": {
   "display_name": "Python 3",
   "language": "python",
   "name": "python3"
  },
  "language_info": {
   "codemirror_mode": {
    "name": "ipython",
    "version": 3
   },
   "file_extension": ".py",
   "mimetype": "text/x-python",
   "name": "python",
   "nbconvert_exporter": "python",
   "pygments_lexer": "ipython3",
   "version": "3.8.3"
  }
 },
 "nbformat": 4,
 "nbformat_minor": 4
}
