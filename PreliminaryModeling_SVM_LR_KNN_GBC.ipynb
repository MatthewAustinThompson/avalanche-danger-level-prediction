{
 "cells": [
  {
   "cell_type": "markdown",
   "metadata": {},
   "source": [
    "# Avalanche Danger Level Forecast: Preliminary Modeling"
   ]
  },
  {
   "cell_type": "markdown",
   "metadata": {},
   "source": [
    "## Import Tools"
   ]
  },
  {
   "cell_type": "code",
   "execution_count": 1,
   "metadata": {},
   "outputs": [],
   "source": [
    "import os\n",
    "import numpy as np\n",
    "import pandas as pd\n",
    "import matplotlib.pyplot as plt\n",
    "import seaborn as sns\n",
    "\n",
    "# sklearn \n",
    "from sklearn.model_selection import train_test_split, GridSearchCV, cross_val_score\n",
    "from sklearn.metrics import confusion_matrix, classification_report, accuracy_score\n",
    "from sklearn.linear_model import LogisticRegression\n",
    "from sklearn.tree import DecisionTreeClassifier\n",
    "from sklearn.svm import SVC\n",
    "from sklearn.ensemble import RandomForestClassifier, GradientBoostingClassifier\n",
    "from sklearn.decomposition import PCA\n",
    "from sklearn.neighbors import KNeighborsClassifier\n",
    "from sklearn.model_selection import RandomizedSearchCV\n",
    "from sklearn.preprocessing import StandardScaler\n",
    "\n",
    "# pandas\n",
    "from pandas.plotting import scatter_matrix"
   ]
  },
  {
   "cell_type": "markdown",
   "metadata": {},
   "source": [
    "## Import Data"
   ]
  },
  {
   "cell_type": "code",
   "execution_count": 2,
   "metadata": {},
   "outputs": [
    {
     "data": {
      "text/html": [
       "<div>\n",
       "<style scoped>\n",
       "    .dataframe tbody tr th:only-of-type {\n",
       "        vertical-align: middle;\n",
       "    }\n",
       "\n",
       "    .dataframe tbody tr th {\n",
       "        vertical-align: top;\n",
       "    }\n",
       "\n",
       "    .dataframe thead th {\n",
       "        text-align: right;\n",
       "    }\n",
       "</style>\n",
       "<table border=\"1\" class=\"dataframe\">\n",
       "  <thead>\n",
       "    <tr style=\"text-align: right;\">\n",
       "      <th></th>\n",
       "      <th>Unnamed: 0</th>\n",
       "      <th>avi_danger</th>\n",
       "      <th>avg_wind</th>\n",
       "      <th>temp_max_swing</th>\n",
       "      <th>temp_max_swing_from_avg</th>\n",
       "      <th>year</th>\n",
       "      <th>month</th>\n",
       "      <th>day</th>\n",
       "      <th>temp_max</th>\n",
       "      <th>temp_min</th>\n",
       "      <th>...</th>\n",
       "      <th>prevailing_wind_N_2</th>\n",
       "      <th>prevailing_wind_NE_2</th>\n",
       "      <th>prevailing_wind_NW_2</th>\n",
       "      <th>prevailing_wind_S_2</th>\n",
       "      <th>prevailing_wind_SE_2</th>\n",
       "      <th>prevailing_wind_SW_2</th>\n",
       "      <th>prevailing_wind_W_2</th>\n",
       "      <th>three_day_snow_2</th>\n",
       "      <th>five_day_snow_2</th>\n",
       "      <th>next_day_avi_danger</th>\n",
       "    </tr>\n",
       "  </thead>\n",
       "  <tbody>\n",
       "    <tr>\n",
       "      <th>0</th>\n",
       "      <td>0</td>\n",
       "      <td>1.0</td>\n",
       "      <td>20.58</td>\n",
       "      <td>0.0</td>\n",
       "      <td>0.0</td>\n",
       "      <td>2010.0</td>\n",
       "      <td>12.0</td>\n",
       "      <td>20.0</td>\n",
       "      <td>15</td>\n",
       "      <td>5</td>\n",
       "      <td>...</td>\n",
       "      <td>0.0</td>\n",
       "      <td>0.0</td>\n",
       "      <td>1.0</td>\n",
       "      <td>0.0</td>\n",
       "      <td>0.0</td>\n",
       "      <td>0.0</td>\n",
       "      <td>0.0</td>\n",
       "      <td>0.2</td>\n",
       "      <td>0.2</td>\n",
       "      <td>3.0</td>\n",
       "    </tr>\n",
       "    <tr>\n",
       "      <th>1</th>\n",
       "      <td>1</td>\n",
       "      <td>3.0</td>\n",
       "      <td>35.12</td>\n",
       "      <td>3.0</td>\n",
       "      <td>0.0</td>\n",
       "      <td>2010.0</td>\n",
       "      <td>12.0</td>\n",
       "      <td>21.0</td>\n",
       "      <td>18</td>\n",
       "      <td>10</td>\n",
       "      <td>...</td>\n",
       "      <td>0.0</td>\n",
       "      <td>0.0</td>\n",
       "      <td>1.0</td>\n",
       "      <td>0.0</td>\n",
       "      <td>0.0</td>\n",
       "      <td>0.0</td>\n",
       "      <td>0.0</td>\n",
       "      <td>0.3</td>\n",
       "      <td>0.3</td>\n",
       "      <td>2.0</td>\n",
       "    </tr>\n",
       "    <tr>\n",
       "      <th>2</th>\n",
       "      <td>2</td>\n",
       "      <td>2.0</td>\n",
       "      <td>33.78</td>\n",
       "      <td>-3.0</td>\n",
       "      <td>0.0</td>\n",
       "      <td>2010.0</td>\n",
       "      <td>12.0</td>\n",
       "      <td>22.0</td>\n",
       "      <td>15</td>\n",
       "      <td>7</td>\n",
       "      <td>...</td>\n",
       "      <td>1.0</td>\n",
       "      <td>0.0</td>\n",
       "      <td>0.0</td>\n",
       "      <td>0.0</td>\n",
       "      <td>0.0</td>\n",
       "      <td>0.0</td>\n",
       "      <td>0.0</td>\n",
       "      <td>2.5</td>\n",
       "      <td>2.5</td>\n",
       "      <td>3.0</td>\n",
       "    </tr>\n",
       "    <tr>\n",
       "      <th>3</th>\n",
       "      <td>3</td>\n",
       "      <td>3.0</td>\n",
       "      <td>31.32</td>\n",
       "      <td>0.0</td>\n",
       "      <td>0.0</td>\n",
       "      <td>2010.0</td>\n",
       "      <td>12.0</td>\n",
       "      <td>23.0</td>\n",
       "      <td>15</td>\n",
       "      <td>6</td>\n",
       "      <td>...</td>\n",
       "      <td>1.0</td>\n",
       "      <td>0.0</td>\n",
       "      <td>0.0</td>\n",
       "      <td>0.0</td>\n",
       "      <td>0.0</td>\n",
       "      <td>0.0</td>\n",
       "      <td>0.0</td>\n",
       "      <td>4.3</td>\n",
       "      <td>4.5</td>\n",
       "      <td>2.0</td>\n",
       "    </tr>\n",
       "    <tr>\n",
       "      <th>4</th>\n",
       "      <td>4</td>\n",
       "      <td>2.0</td>\n",
       "      <td>32.44</td>\n",
       "      <td>2.0</td>\n",
       "      <td>1.4</td>\n",
       "      <td>2010.0</td>\n",
       "      <td>12.0</td>\n",
       "      <td>24.0</td>\n",
       "      <td>17</td>\n",
       "      <td>9</td>\n",
       "      <td>...</td>\n",
       "      <td>1.0</td>\n",
       "      <td>0.0</td>\n",
       "      <td>0.0</td>\n",
       "      <td>0.0</td>\n",
       "      <td>0.0</td>\n",
       "      <td>0.0</td>\n",
       "      <td>0.0</td>\n",
       "      <td>8.3</td>\n",
       "      <td>8.6</td>\n",
       "      <td>2.0</td>\n",
       "    </tr>\n",
       "  </tbody>\n",
       "</table>\n",
       "<p>5 rows × 74 columns</p>\n",
       "</div>"
      ],
      "text/plain": [
       "   Unnamed: 0  avi_danger  avg_wind  temp_max_swing  temp_max_swing_from_avg  \\\n",
       "0           0         1.0     20.58             0.0                      0.0   \n",
       "1           1         3.0     35.12             3.0                      0.0   \n",
       "2           2         2.0     33.78            -3.0                      0.0   \n",
       "3           3         3.0     31.32             0.0                      0.0   \n",
       "4           4         2.0     32.44             2.0                      1.4   \n",
       "\n",
       "     year  month   day  temp_max  temp_min  ...  prevailing_wind_N_2  \\\n",
       "0  2010.0   12.0  20.0        15         5  ...                  0.0   \n",
       "1  2010.0   12.0  21.0        18        10  ...                  0.0   \n",
       "2  2010.0   12.0  22.0        15         7  ...                  1.0   \n",
       "3  2010.0   12.0  23.0        15         6  ...                  1.0   \n",
       "4  2010.0   12.0  24.0        17         9  ...                  1.0   \n",
       "\n",
       "   prevailing_wind_NE_2  prevailing_wind_NW_2  prevailing_wind_S_2  \\\n",
       "0                   0.0                   1.0                  0.0   \n",
       "1                   0.0                   1.0                  0.0   \n",
       "2                   0.0                   0.0                  0.0   \n",
       "3                   0.0                   0.0                  0.0   \n",
       "4                   0.0                   0.0                  0.0   \n",
       "\n",
       "   prevailing_wind_SE_2  prevailing_wind_SW_2  prevailing_wind_W_2  \\\n",
       "0                   0.0                   0.0                  0.0   \n",
       "1                   0.0                   0.0                  0.0   \n",
       "2                   0.0                   0.0                  0.0   \n",
       "3                   0.0                   0.0                  0.0   \n",
       "4                   0.0                   0.0                  0.0   \n",
       "\n",
       "   three_day_snow_2  five_day_snow_2  next_day_avi_danger  \n",
       "0               0.2              0.2                  3.0  \n",
       "1               0.3              0.3                  2.0  \n",
       "2               2.5              2.5                  3.0  \n",
       "3               4.3              4.5                  2.0  \n",
       "4               8.3              8.6                  2.0  \n",
       "\n",
       "[5 rows x 74 columns]"
      ]
     },
     "execution_count": 2,
     "metadata": {},
     "output_type": "execute_result"
    }
   ],
   "source": [
    "avi = pd.read_csv('SnowWeatherCleanROS.csv')\n",
    "avi.head()"
   ]
  },
  {
   "cell_type": "markdown",
   "metadata": {},
   "source": [
    "## Dataset at a Glance"
   ]
  },
  {
   "cell_type": "code",
   "execution_count": 3,
   "metadata": {},
   "outputs": [
    {
     "data": {
      "text/html": [
       "<div>\n",
       "<style scoped>\n",
       "    .dataframe tbody tr th:only-of-type {\n",
       "        vertical-align: middle;\n",
       "    }\n",
       "\n",
       "    .dataframe tbody tr th {\n",
       "        vertical-align: top;\n",
       "    }\n",
       "\n",
       "    .dataframe thead th {\n",
       "        text-align: right;\n",
       "    }\n",
       "</style>\n",
       "<table border=\"1\" class=\"dataframe\">\n",
       "  <thead>\n",
       "    <tr style=\"text-align: right;\">\n",
       "      <th></th>\n",
       "      <th>Unnamed: 0</th>\n",
       "      <th>avi_danger</th>\n",
       "      <th>avg_wind</th>\n",
       "      <th>temp_max_swing</th>\n",
       "      <th>temp_max_swing_from_avg</th>\n",
       "      <th>year</th>\n",
       "      <th>month</th>\n",
       "      <th>day</th>\n",
       "      <th>temp_max</th>\n",
       "      <th>temp_min</th>\n",
       "      <th>...</th>\n",
       "      <th>prevailing_wind_N_2</th>\n",
       "      <th>prevailing_wind_NE_2</th>\n",
       "      <th>prevailing_wind_NW_2</th>\n",
       "      <th>prevailing_wind_S_2</th>\n",
       "      <th>prevailing_wind_SE_2</th>\n",
       "      <th>prevailing_wind_SW_2</th>\n",
       "      <th>prevailing_wind_W_2</th>\n",
       "      <th>three_day_snow_2</th>\n",
       "      <th>five_day_snow_2</th>\n",
       "      <th>next_day_avi_danger</th>\n",
       "    </tr>\n",
       "  </thead>\n",
       "  <tbody>\n",
       "    <tr>\n",
       "      <th>count</th>\n",
       "      <td>1876.000000</td>\n",
       "      <td>1876.000000</td>\n",
       "      <td>1876.000000</td>\n",
       "      <td>1876.000000</td>\n",
       "      <td>1876.000000</td>\n",
       "      <td>1876.00000</td>\n",
       "      <td>1876.000000</td>\n",
       "      <td>1876.000000</td>\n",
       "      <td>1876.000000</td>\n",
       "      <td>1876.000000</td>\n",
       "      <td>...</td>\n",
       "      <td>1876.000000</td>\n",
       "      <td>1876.000000</td>\n",
       "      <td>1876.000000</td>\n",
       "      <td>1876.000000</td>\n",
       "      <td>1876.000000</td>\n",
       "      <td>1876.000000</td>\n",
       "      <td>1876.000000</td>\n",
       "      <td>1876.000000</td>\n",
       "      <td>1876.000000</td>\n",
       "      <td>1876.000000</td>\n",
       "    </tr>\n",
       "    <tr>\n",
       "      <th>mean</th>\n",
       "      <td>937.500000</td>\n",
       "      <td>2.187100</td>\n",
       "      <td>42.177013</td>\n",
       "      <td>0.372068</td>\n",
       "      <td>0.629531</td>\n",
       "      <td>2015.27452</td>\n",
       "      <td>3.573028</td>\n",
       "      <td>16.812900</td>\n",
       "      <td>19.523454</td>\n",
       "      <td>3.563966</td>\n",
       "      <td>...</td>\n",
       "      <td>0.060768</td>\n",
       "      <td>0.015991</td>\n",
       "      <td>0.281983</td>\n",
       "      <td>0.055970</td>\n",
       "      <td>0.022921</td>\n",
       "      <td>0.066098</td>\n",
       "      <td>0.479744</td>\n",
       "      <td>4.609168</td>\n",
       "      <td>7.521002</td>\n",
       "      <td>2.500000</td>\n",
       "    </tr>\n",
       "    <tr>\n",
       "      <th>std</th>\n",
       "      <td>541.698871</td>\n",
       "      <td>0.890641</td>\n",
       "      <td>15.850886</td>\n",
       "      <td>10.967304</td>\n",
       "      <td>12.506157</td>\n",
       "      <td>2.95618</td>\n",
       "      <td>3.288363</td>\n",
       "      <td>8.399852</td>\n",
       "      <td>13.053530</td>\n",
       "      <td>13.952745</td>\n",
       "      <td>...</td>\n",
       "      <td>0.238967</td>\n",
       "      <td>0.125476</td>\n",
       "      <td>0.450085</td>\n",
       "      <td>0.229925</td>\n",
       "      <td>0.149692</td>\n",
       "      <td>0.248520</td>\n",
       "      <td>0.499723</td>\n",
       "      <td>5.106127</td>\n",
       "      <td>6.670821</td>\n",
       "      <td>1.118332</td>\n",
       "    </tr>\n",
       "    <tr>\n",
       "      <th>min</th>\n",
       "      <td>0.000000</td>\n",
       "      <td>1.000000</td>\n",
       "      <td>4.250000</td>\n",
       "      <td>-44.000000</td>\n",
       "      <td>-53.800000</td>\n",
       "      <td>2010.00000</td>\n",
       "      <td>1.000000</td>\n",
       "      <td>1.000000</td>\n",
       "      <td>-26.000000</td>\n",
       "      <td>-40.000000</td>\n",
       "      <td>...</td>\n",
       "      <td>0.000000</td>\n",
       "      <td>0.000000</td>\n",
       "      <td>0.000000</td>\n",
       "      <td>0.000000</td>\n",
       "      <td>0.000000</td>\n",
       "      <td>0.000000</td>\n",
       "      <td>0.000000</td>\n",
       "      <td>0.000000</td>\n",
       "      <td>0.000000</td>\n",
       "      <td>1.000000</td>\n",
       "    </tr>\n",
       "    <tr>\n",
       "      <th>25%</th>\n",
       "      <td>468.750000</td>\n",
       "      <td>1.000000</td>\n",
       "      <td>30.420000</td>\n",
       "      <td>-5.000000</td>\n",
       "      <td>-7.400000</td>\n",
       "      <td>2013.00000</td>\n",
       "      <td>2.000000</td>\n",
       "      <td>11.000000</td>\n",
       "      <td>11.000000</td>\n",
       "      <td>-6.000000</td>\n",
       "      <td>...</td>\n",
       "      <td>0.000000</td>\n",
       "      <td>0.000000</td>\n",
       "      <td>0.000000</td>\n",
       "      <td>0.000000</td>\n",
       "      <td>0.000000</td>\n",
       "      <td>0.000000</td>\n",
       "      <td>0.000000</td>\n",
       "      <td>1.000000</td>\n",
       "      <td>2.900000</td>\n",
       "      <td>1.750000</td>\n",
       "    </tr>\n",
       "    <tr>\n",
       "      <th>50%</th>\n",
       "      <td>937.500000</td>\n",
       "      <td>2.000000</td>\n",
       "      <td>41.160000</td>\n",
       "      <td>2.000000</td>\n",
       "      <td>1.000000</td>\n",
       "      <td>2015.00000</td>\n",
       "      <td>3.000000</td>\n",
       "      <td>18.000000</td>\n",
       "      <td>19.000000</td>\n",
       "      <td>5.000000</td>\n",
       "      <td>...</td>\n",
       "      <td>0.000000</td>\n",
       "      <td>0.000000</td>\n",
       "      <td>0.000000</td>\n",
       "      <td>0.000000</td>\n",
       "      <td>0.000000</td>\n",
       "      <td>0.000000</td>\n",
       "      <td>0.000000</td>\n",
       "      <td>2.900000</td>\n",
       "      <td>5.500000</td>\n",
       "      <td>2.500000</td>\n",
       "    </tr>\n",
       "    <tr>\n",
       "      <th>75%</th>\n",
       "      <td>1406.250000</td>\n",
       "      <td>3.000000</td>\n",
       "      <td>53.020000</td>\n",
       "      <td>7.000000</td>\n",
       "      <td>9.800000</td>\n",
       "      <td>2018.00000</td>\n",
       "      <td>4.000000</td>\n",
       "      <td>24.000000</td>\n",
       "      <td>28.000000</td>\n",
       "      <td>12.000000</td>\n",
       "      <td>...</td>\n",
       "      <td>0.000000</td>\n",
       "      <td>0.000000</td>\n",
       "      <td>1.000000</td>\n",
       "      <td>0.000000</td>\n",
       "      <td>0.000000</td>\n",
       "      <td>0.000000</td>\n",
       "      <td>1.000000</td>\n",
       "      <td>6.200000</td>\n",
       "      <td>10.800000</td>\n",
       "      <td>3.250000</td>\n",
       "    </tr>\n",
       "    <tr>\n",
       "      <th>max</th>\n",
       "      <td>1875.000000</td>\n",
       "      <td>4.000000</td>\n",
       "      <td>110.060000</td>\n",
       "      <td>39.000000</td>\n",
       "      <td>34.600000</td>\n",
       "      <td>2020.00000</td>\n",
       "      <td>12.000000</td>\n",
       "      <td>31.000000</td>\n",
       "      <td>57.000000</td>\n",
       "      <td>43.000000</td>\n",
       "      <td>...</td>\n",
       "      <td>1.000000</td>\n",
       "      <td>1.000000</td>\n",
       "      <td>1.000000</td>\n",
       "      <td>1.000000</td>\n",
       "      <td>1.000000</td>\n",
       "      <td>1.000000</td>\n",
       "      <td>1.000000</td>\n",
       "      <td>34.200000</td>\n",
       "      <td>46.000000</td>\n",
       "      <td>4.000000</td>\n",
       "    </tr>\n",
       "  </tbody>\n",
       "</table>\n",
       "<p>8 rows × 74 columns</p>\n",
       "</div>"
      ],
      "text/plain": [
       "        Unnamed: 0   avi_danger     avg_wind  temp_max_swing  \\\n",
       "count  1876.000000  1876.000000  1876.000000     1876.000000   \n",
       "mean    937.500000     2.187100    42.177013        0.372068   \n",
       "std     541.698871     0.890641    15.850886       10.967304   \n",
       "min       0.000000     1.000000     4.250000      -44.000000   \n",
       "25%     468.750000     1.000000    30.420000       -5.000000   \n",
       "50%     937.500000     2.000000    41.160000        2.000000   \n",
       "75%    1406.250000     3.000000    53.020000        7.000000   \n",
       "max    1875.000000     4.000000   110.060000       39.000000   \n",
       "\n",
       "       temp_max_swing_from_avg        year        month          day  \\\n",
       "count              1876.000000  1876.00000  1876.000000  1876.000000   \n",
       "mean                  0.629531  2015.27452     3.573028    16.812900   \n",
       "std                  12.506157     2.95618     3.288363     8.399852   \n",
       "min                 -53.800000  2010.00000     1.000000     1.000000   \n",
       "25%                  -7.400000  2013.00000     2.000000    11.000000   \n",
       "50%                   1.000000  2015.00000     3.000000    18.000000   \n",
       "75%                   9.800000  2018.00000     4.000000    24.000000   \n",
       "max                  34.600000  2020.00000    12.000000    31.000000   \n",
       "\n",
       "          temp_max     temp_min  ...  prevailing_wind_N_2  \\\n",
       "count  1876.000000  1876.000000  ...          1876.000000   \n",
       "mean     19.523454     3.563966  ...             0.060768   \n",
       "std      13.053530    13.952745  ...             0.238967   \n",
       "min     -26.000000   -40.000000  ...             0.000000   \n",
       "25%      11.000000    -6.000000  ...             0.000000   \n",
       "50%      19.000000     5.000000  ...             0.000000   \n",
       "75%      28.000000    12.000000  ...             0.000000   \n",
       "max      57.000000    43.000000  ...             1.000000   \n",
       "\n",
       "       prevailing_wind_NE_2  prevailing_wind_NW_2  prevailing_wind_S_2  \\\n",
       "count           1876.000000           1876.000000          1876.000000   \n",
       "mean               0.015991              0.281983             0.055970   \n",
       "std                0.125476              0.450085             0.229925   \n",
       "min                0.000000              0.000000             0.000000   \n",
       "25%                0.000000              0.000000             0.000000   \n",
       "50%                0.000000              0.000000             0.000000   \n",
       "75%                0.000000              1.000000             0.000000   \n",
       "max                1.000000              1.000000             1.000000   \n",
       "\n",
       "       prevailing_wind_SE_2  prevailing_wind_SW_2  prevailing_wind_W_2  \\\n",
       "count           1876.000000           1876.000000          1876.000000   \n",
       "mean               0.022921              0.066098             0.479744   \n",
       "std                0.149692              0.248520             0.499723   \n",
       "min                0.000000              0.000000             0.000000   \n",
       "25%                0.000000              0.000000             0.000000   \n",
       "50%                0.000000              0.000000             0.000000   \n",
       "75%                0.000000              0.000000             1.000000   \n",
       "max                1.000000              1.000000             1.000000   \n",
       "\n",
       "       three_day_snow_2  five_day_snow_2  next_day_avi_danger  \n",
       "count       1876.000000      1876.000000          1876.000000  \n",
       "mean           4.609168         7.521002             2.500000  \n",
       "std            5.106127         6.670821             1.118332  \n",
       "min            0.000000         0.000000             1.000000  \n",
       "25%            1.000000         2.900000             1.750000  \n",
       "50%            2.900000         5.500000             2.500000  \n",
       "75%            6.200000        10.800000             3.250000  \n",
       "max           34.200000        46.000000             4.000000  \n",
       "\n",
       "[8 rows x 74 columns]"
      ]
     },
     "execution_count": 3,
     "metadata": {},
     "output_type": "execute_result"
    }
   ],
   "source": [
    "avi.describe()"
   ]
  },
  {
   "cell_type": "code",
   "execution_count": 4,
   "metadata": {},
   "outputs": [
    {
     "data": {
      "text/plain": [
       "Index(['Unnamed: 0', 'avi_danger', 'avg_wind', 'temp_max_swing',\n",
       "       'temp_max_swing_from_avg', 'year', 'month', 'day', 'temp_max',\n",
       "       'temp_min', 'water_equivalent', 'snow_fall', 'snow_depth_6am',\n",
       "       'wind_speed_sum', 'sunshine_percent', 'west_wind_hours',\n",
       "       'northwest_wind_hours', 'prevailing_wind_E', 'prevailing_wind_N',\n",
       "       'prevailing_wind_NE', 'prevailing_wind_NW', 'prevailing_wind_S',\n",
       "       'prevailing_wind_SE', 'prevailing_wind_SW', 'prevailing_wind_W',\n",
       "       'three_day_snow', 'five_day_snow', 'avi_danger_1', 'avg_wind_1',\n",
       "       'temp_max_swing_1', 'temp_max_swing_from_avg_1', 'temp_max_1',\n",
       "       'temp_min_1', 'water_equivalent_1', 'snow_fall_1', 'snow_depth_6am_1',\n",
       "       'wind_speed_sum_1', 'sunshine_percent_1', 'west_wind_hours_1',\n",
       "       'northwest_wind_hours_1', 'prevailing_wind_E_1', 'prevailing_wind_N_1',\n",
       "       'prevailing_wind_NE_1', 'prevailing_wind_NW_1', 'prevailing_wind_S_1',\n",
       "       'prevailing_wind_SE_1', 'prevailing_wind_SW_1', 'prevailing_wind_W_1',\n",
       "       'three_day_snow_1', 'five_day_snow_1', 'avi_danger_2', 'avg_wind_2',\n",
       "       'temp_max_swing_2', 'temp_max_swing_from_avg_2', 'temp_max_2',\n",
       "       'temp_min_2', 'water_equivalent_2', 'snow_fall_2', 'snow_depth_6am_2',\n",
       "       'wind_speed_sum_2', 'sunshine_percent_2', 'west_wind_hours_2',\n",
       "       'northwest_wind_hours_2', 'prevailing_wind_E_2', 'prevailing_wind_N_2',\n",
       "       'prevailing_wind_NE_2', 'prevailing_wind_NW_2', 'prevailing_wind_S_2',\n",
       "       'prevailing_wind_SE_2', 'prevailing_wind_SW_2', 'prevailing_wind_W_2',\n",
       "       'three_day_snow_2', 'five_day_snow_2', 'next_day_avi_danger'],\n",
       "      dtype='object')"
      ]
     },
     "execution_count": 4,
     "metadata": {},
     "output_type": "execute_result"
    }
   ],
   "source": [
    "avi.columns"
   ]
  },
  {
   "cell_type": "code",
   "execution_count": 5,
   "metadata": {},
   "outputs": [
    {
     "name": "stdout",
     "output_type": "stream",
     "text": [
      "<class 'pandas.core.frame.DataFrame'>\n",
      "RangeIndex: 1876 entries, 0 to 1875\n",
      "Data columns (total 74 columns):\n",
      " #   Column                     Non-Null Count  Dtype  \n",
      "---  ------                     --------------  -----  \n",
      " 0   Unnamed: 0                 1876 non-null   int64  \n",
      " 1   avi_danger                 1876 non-null   float64\n",
      " 2   avg_wind                   1876 non-null   float64\n",
      " 3   temp_max_swing             1876 non-null   float64\n",
      " 4   temp_max_swing_from_avg    1876 non-null   float64\n",
      " 5   year                       1876 non-null   float64\n",
      " 6   month                      1876 non-null   float64\n",
      " 7   day                        1876 non-null   float64\n",
      " 8   temp_max                   1876 non-null   int64  \n",
      " 9   temp_min                   1876 non-null   int64  \n",
      " 10  water_equivalent           1876 non-null   float64\n",
      " 11  snow_fall                  1876 non-null   float64\n",
      " 12  snow_depth_6am             1876 non-null   float64\n",
      " 13  wind_speed_sum             1876 non-null   int64  \n",
      " 14  sunshine_percent           1876 non-null   int64  \n",
      " 15  west_wind_hours            1876 non-null   int64  \n",
      " 16  northwest_wind_hours       1876 non-null   int64  \n",
      " 17  prevailing_wind_E          1876 non-null   int64  \n",
      " 18  prevailing_wind_N          1876 non-null   int64  \n",
      " 19  prevailing_wind_NE         1876 non-null   int64  \n",
      " 20  prevailing_wind_NW         1876 non-null   int64  \n",
      " 21  prevailing_wind_S          1876 non-null   int64  \n",
      " 22  prevailing_wind_SE         1876 non-null   int64  \n",
      " 23  prevailing_wind_SW         1876 non-null   int64  \n",
      " 24  prevailing_wind_W          1876 non-null   int64  \n",
      " 25  three_day_snow             1876 non-null   float64\n",
      " 26  five_day_snow              1876 non-null   float64\n",
      " 27  avi_danger_1               1876 non-null   float64\n",
      " 28  avg_wind_1                 1876 non-null   float64\n",
      " 29  temp_max_swing_1           1876 non-null   float64\n",
      " 30  temp_max_swing_from_avg_1  1876 non-null   float64\n",
      " 31  temp_max_1                 1876 non-null   float64\n",
      " 32  temp_min_1                 1876 non-null   float64\n",
      " 33  water_equivalent_1         1876 non-null   float64\n",
      " 34  snow_fall_1                1876 non-null   float64\n",
      " 35  snow_depth_6am_1           1876 non-null   float64\n",
      " 36  wind_speed_sum_1           1876 non-null   float64\n",
      " 37  sunshine_percent_1         1876 non-null   float64\n",
      " 38  west_wind_hours_1          1876 non-null   float64\n",
      " 39  northwest_wind_hours_1     1876 non-null   float64\n",
      " 40  prevailing_wind_E_1        1876 non-null   float64\n",
      " 41  prevailing_wind_N_1        1876 non-null   float64\n",
      " 42  prevailing_wind_NE_1       1876 non-null   float64\n",
      " 43  prevailing_wind_NW_1       1876 non-null   float64\n",
      " 44  prevailing_wind_S_1        1876 non-null   float64\n",
      " 45  prevailing_wind_SE_1       1876 non-null   float64\n",
      " 46  prevailing_wind_SW_1       1876 non-null   float64\n",
      " 47  prevailing_wind_W_1        1876 non-null   float64\n",
      " 48  three_day_snow_1           1876 non-null   float64\n",
      " 49  five_day_snow_1            1876 non-null   float64\n",
      " 50  avi_danger_2               1876 non-null   float64\n",
      " 51  avg_wind_2                 1876 non-null   float64\n",
      " 52  temp_max_swing_2           1876 non-null   float64\n",
      " 53  temp_max_swing_from_avg_2  1876 non-null   float64\n",
      " 54  temp_max_2                 1876 non-null   float64\n",
      " 55  temp_min_2                 1876 non-null   float64\n",
      " 56  water_equivalent_2         1876 non-null   float64\n",
      " 57  snow_fall_2                1876 non-null   float64\n",
      " 58  snow_depth_6am_2           1876 non-null   float64\n",
      " 59  wind_speed_sum_2           1876 non-null   float64\n",
      " 60  sunshine_percent_2         1876 non-null   float64\n",
      " 61  west_wind_hours_2          1876 non-null   float64\n",
      " 62  northwest_wind_hours_2     1876 non-null   float64\n",
      " 63  prevailing_wind_E_2        1876 non-null   float64\n",
      " 64  prevailing_wind_N_2        1876 non-null   float64\n",
      " 65  prevailing_wind_NE_2       1876 non-null   float64\n",
      " 66  prevailing_wind_NW_2       1876 non-null   float64\n",
      " 67  prevailing_wind_S_2        1876 non-null   float64\n",
      " 68  prevailing_wind_SE_2       1876 non-null   float64\n",
      " 69  prevailing_wind_SW_2       1876 non-null   float64\n",
      " 70  prevailing_wind_W_2        1876 non-null   float64\n",
      " 71  three_day_snow_2           1876 non-null   float64\n",
      " 72  five_day_snow_2            1876 non-null   float64\n",
      " 73  next_day_avi_danger        1876 non-null   float64\n",
      "dtypes: float64(59), int64(15)\n",
      "memory usage: 1.1 MB\n"
     ]
    }
   ],
   "source": [
    "avi.info()"
   ]
  },
  {
   "cell_type": "markdown",
   "metadata": {},
   "source": [
    "## Filter Dataset"
   ]
  },
  {
   "cell_type": "code",
   "execution_count": 6,
   "metadata": {},
   "outputs": [],
   "source": [
    "avi = avi.drop(['Unnamed: 0'], axis=1)"
   ]
  },
  {
   "cell_type": "markdown",
   "metadata": {},
   "source": [
    "### Standardizing the Data"
   ]
  },
  {
   "cell_type": "code",
   "execution_count": 7,
   "metadata": {},
   "outputs": [],
   "source": [
    "#standardizer \n",
    "def standardize(X_train, X_test):\n",
    "    scaler = StandardScaler()\n",
    "    # Fitting and transforming training data\n",
    "    scaler.fit(X_train)\n",
    "    X_train = scaler.transform(X_train)\n",
    "    # Tranforming testing data based on traning fit (prevent data leakage)\n",
    "    X_test = scaler.transform(X_test)\n",
    "    return X_train, X_test"
   ]
  },
  {
   "cell_type": "markdown",
   "metadata": {},
   "source": [
    "## Splitting Dataset"
   ]
  },
  {
   "cell_type": "code",
   "execution_count": 8,
   "metadata": {},
   "outputs": [
    {
     "name": "stdout",
     "output_type": "stream",
     "text": [
      "(1876, 72)\n",
      "(1876,)\n"
     ]
    }
   ],
   "source": [
    "x = avi.iloc[:, 0:avi.shape[1]-1]\n",
    "y = avi.iloc[:, avi.shape[1]-1]\n",
    "\n",
    "print(x.shape)\n",
    "print(y.shape)"
   ]
  },
  {
   "cell_type": "code",
   "execution_count": 9,
   "metadata": {},
   "outputs": [],
   "source": [
    "x_train, x_test, y_train, y_test = train_test_split(x, y, test_size=0.25, random_state=42)"
   ]
  },
  {
   "cell_type": "code",
   "execution_count": 10,
   "metadata": {},
   "outputs": [],
   "source": [
    "# Scaling\n",
    "x_train, x_test = standardize(x_train, x_test)"
   ]
  },
  {
   "cell_type": "code",
   "execution_count": 11,
   "metadata": {},
   "outputs": [
    {
     "name": "stdout",
     "output_type": "stream",
     "text": [
      "0       3.0\n",
      "1       2.0\n",
      "2       3.0\n",
      "3       2.0\n",
      "4       2.0\n",
      "       ... \n",
      "1871    4.0\n",
      "1872    4.0\n",
      "1873    4.0\n",
      "1874    4.0\n",
      "1875    4.0\n",
      "Name: next_day_avi_danger, Length: 1876, dtype: float64\n"
     ]
    }
   ],
   "source": [
    "print(y)"
   ]
  },
  {
   "cell_type": "markdown",
   "metadata": {},
   "source": [
    "# Logistic Regression"
   ]
  },
  {
   "cell_type": "code",
   "execution_count": 12,
   "metadata": {},
   "outputs": [
    {
     "name": "stderr",
     "output_type": "stream",
     "text": [
      "/Users/matthewthompson/opt/anaconda3/lib/python3.8/site-packages/sklearn/model_selection/_validation.py:548: FitFailedWarning: Estimator fit failed. The score on this train-test partition for these parameters will be set to nan. Details: \n",
      "Traceback (most recent call last):\n",
      "  File \"/Users/matthewthompson/opt/anaconda3/lib/python3.8/site-packages/sklearn/model_selection/_validation.py\", line 531, in _fit_and_score\n",
      "    estimator.fit(X_train, y_train, **fit_params)\n",
      "  File \"/Users/matthewthompson/opt/anaconda3/lib/python3.8/site-packages/sklearn/linear_model/_logistic.py\", line 1304, in fit\n",
      "    solver = _check_solver(self.solver, self.penalty, self.dual)\n",
      "  File \"/Users/matthewthompson/opt/anaconda3/lib/python3.8/site-packages/sklearn/linear_model/_logistic.py\", line 453, in _check_solver\n",
      "    raise ValueError(\n",
      "ValueError: penalty='none' is not supported for the liblinear solver\n",
      "\n",
      "  warnings.warn(\"Estimator fit failed. The score on this train-test\"\n",
      "/Users/matthewthompson/opt/anaconda3/lib/python3.8/site-packages/sklearn/model_selection/_validation.py:548: FitFailedWarning: Estimator fit failed. The score on this train-test partition for these parameters will be set to nan. Details: \n",
      "Traceback (most recent call last):\n",
      "  File \"/Users/matthewthompson/opt/anaconda3/lib/python3.8/site-packages/sklearn/model_selection/_validation.py\", line 531, in _fit_and_score\n",
      "    estimator.fit(X_train, y_train, **fit_params)\n",
      "  File \"/Users/matthewthompson/opt/anaconda3/lib/python3.8/site-packages/sklearn/linear_model/_logistic.py\", line 1312, in fit\n",
      "    raise ValueError(\"l1_ratio must be between 0 and 1;\"\n",
      "ValueError: l1_ratio must be between 0 and 1; got (l1_ratio=None)\n",
      "\n",
      "  warnings.warn(\"Estimator fit failed. The score on this train-test\"\n"
     ]
    },
    {
     "name": "stdout",
     "output_type": "stream",
     "text": [
      "0.6140724946695096\n",
      "[0.62899787 0.60127932 0.64392324]\n"
     ]
    }
   ],
   "source": [
    "penalty = ['l1', 'l2', 'elasticnet', 'none']\n",
    "tol = [0.0001, 0.001, 0.01, 0.1]\n",
    "C = [0.001, 0.01, 0.1, 1, 10, 100, 1000] \n",
    "solver = ['liblinear', 'newton-cg', 'lbfgs', 'sag', 'saga']\n",
    "param_distributions = dict(penalty=penalty,\n",
    "                           tol=tol,\n",
    "                           C=C,\n",
    "                           solver = solver)\n",
    "\n",
    "\n",
    "lr = LogisticRegression(class_weight = 'balanced',max_iter = 1000)\n",
    "lr_cv = RandomizedSearchCV(estimator=lr, param_distributions= param_distributions, n_iter=5, scoring='f1_weighted')\n",
    "lr_cv.fit(x_train, y_train)\n",
    "y_pred_lr = lr_cv.predict(x_test)\n",
    "print(accuracy_score(y_test, y_pred_lr))\n",
    "print(cross_val_score(lr, x_train, y_train, cv=3))"
   ]
  },
  {
   "cell_type": "code",
   "execution_count": 13,
   "metadata": {},
   "outputs": [
    {
     "name": "stdout",
     "output_type": "stream",
     "text": [
      "[[91 13  2  5]\n",
      " [25 59 25 12]\n",
      " [ 9 26 53 31]\n",
      " [ 8  8 17 85]]\n"
     ]
    }
   ],
   "source": [
    "print(confusion_matrix(y_test, y_pred_lr))"
   ]
  },
  {
   "cell_type": "code",
   "execution_count": 14,
   "metadata": {},
   "outputs": [
    {
     "name": "stdout",
     "output_type": "stream",
     "text": [
      "              precision    recall  f1-score   support\n",
      "\n",
      "         1.0       0.68      0.82      0.75       111\n",
      "         2.0       0.56      0.49      0.52       121\n",
      "         3.0       0.55      0.45      0.49       119\n",
      "         4.0       0.64      0.72      0.68       118\n",
      "\n",
      "    accuracy                           0.61       469\n",
      "   macro avg       0.61      0.62      0.61       469\n",
      "weighted avg       0.60      0.61      0.61       469\n",
      "\n"
     ]
    }
   ],
   "source": [
    "print(classification_report(y_test, y_pred_lr))"
   ]
  },
  {
   "cell_type": "markdown",
   "metadata": {},
   "source": [
    "# Support Vector Machine (SVM)"
   ]
  },
  {
   "cell_type": "code",
   "execution_count": 15,
   "metadata": {},
   "outputs": [
    {
     "name": "stdout",
     "output_type": "stream",
     "text": [
      "0.7590618336886994\n",
      "[0.69936034 0.65245203 0.70788913]\n"
     ]
    }
   ],
   "source": [
    "param_distributions = {'C': [0.1, 1, 10, 100, 1000],  \n",
    "              'gamma': [1, 0.1, 0.01, 0.001, 0.0001], \n",
    "              'kernel': ['rbf']}  \n",
    "\n",
    "\n",
    "svm = SVC()\n",
    "svm_cv = RandomizedSearchCV(estimator=svm, param_distributions= param_distributions, n_iter=5, scoring='f1_weighted')\n",
    "svm_cv.fit(x_train, y_train)\n",
    "y_pred_svm = svm_cv.predict(x_test)\n",
    "print(accuracy_score(y_test, y_pred_svm))\n",
    "print(cross_val_score(svm, x_train, y_train, cv=3))"
   ]
  },
  {
   "cell_type": "code",
   "execution_count": 16,
   "metadata": {},
   "outputs": [
    {
     "name": "stdout",
     "output_type": "stream",
     "text": [
      "[[ 89  19   3   0]\n",
      " [ 25  73  20   3]\n",
      " [  6  28  77   8]\n",
      " [  0   1   0 117]]\n"
     ]
    }
   ],
   "source": [
    "print(confusion_matrix(y_test, y_pred_svm))"
   ]
  },
  {
   "cell_type": "code",
   "execution_count": 17,
   "metadata": {},
   "outputs": [
    {
     "name": "stdout",
     "output_type": "stream",
     "text": [
      "              precision    recall  f1-score   support\n",
      "\n",
      "         1.0       0.74      0.80      0.77       111\n",
      "         2.0       0.60      0.60      0.60       121\n",
      "         3.0       0.77      0.65      0.70       119\n",
      "         4.0       0.91      0.99      0.95       118\n",
      "\n",
      "    accuracy                           0.76       469\n",
      "   macro avg       0.76      0.76      0.76       469\n",
      "weighted avg       0.76      0.76      0.76       469\n",
      "\n"
     ]
    }
   ],
   "source": [
    "print(classification_report(y_test, y_pred_svm))"
   ]
  },
  {
   "cell_type": "markdown",
   "metadata": {},
   "source": [
    "# K-Nearest Neighbors"
   ]
  },
  {
   "cell_type": "code",
   "execution_count": 18,
   "metadata": {},
   "outputs": [
    {
     "name": "stdout",
     "output_type": "stream",
     "text": [
      "0.5906183368869936\n",
      "[0.58635394 0.57782516 0.61407249]\n"
     ]
    }
   ],
   "source": [
    "#List Hyperparameters that we want to tune.\n",
    "leaf_size = list(range(1,50))\n",
    "n_neighbors = list(range(1,30))\n",
    "p=[1,2]\n",
    "#Convert to dictionary\n",
    "param_distributions = dict(leaf_size=leaf_size, n_neighbors=n_neighbors, p=p)\n",
    "\n",
    "knn = KNeighborsClassifier()\n",
    "knn_cv = RandomizedSearchCV(estimator=knn, param_distributions= param_distributions, n_iter=5, scoring='f1_weighted')\n",
    "knn_cv.fit(x_train, y_train)\n",
    "y_pred_knn = knn_cv.predict(x_test)\n",
    "print(accuracy_score(y_test, y_pred_knn))\n",
    "print(cross_val_score(knn, x_train, y_train, cv=3))"
   ]
  },
  {
   "cell_type": "code",
   "execution_count": 19,
   "metadata": {},
   "outputs": [
    {
     "name": "stdout",
     "output_type": "stream",
     "text": [
      "[[79  9  7 16]\n",
      " [31 50 20 20]\n",
      " [16 18 62 23]\n",
      " [ 4 10 18 86]]\n"
     ]
    }
   ],
   "source": [
    "print(confusion_matrix(y_test, y_pred_knn))"
   ]
  },
  {
   "cell_type": "code",
   "execution_count": 20,
   "metadata": {
    "scrolled": true
   },
   "outputs": [
    {
     "name": "stdout",
     "output_type": "stream",
     "text": [
      "              precision    recall  f1-score   support\n",
      "\n",
      "         1.0       0.61      0.71      0.66       111\n",
      "         2.0       0.57      0.41      0.48       121\n",
      "         3.0       0.58      0.52      0.55       119\n",
      "         4.0       0.59      0.73      0.65       118\n",
      "\n",
      "    accuracy                           0.59       469\n",
      "   macro avg       0.59      0.59      0.58       469\n",
      "weighted avg       0.59      0.59      0.58       469\n",
      "\n"
     ]
    }
   ],
   "source": [
    "print(classification_report(y_test, y_pred_knn))"
   ]
  },
  {
   "cell_type": "markdown",
   "metadata": {},
   "source": [
    "# Gradient Boosting Classifier"
   ]
  },
  {
   "cell_type": "code",
   "execution_count": 21,
   "metadata": {},
   "outputs": [
    {
     "name": "stdout",
     "output_type": "stream",
     "text": [
      "0.7974413646055437\n",
      "[0.75053305 0.7228145  0.74840085]\n"
     ]
    }
   ],
   "source": [
    "param_distributions = {'learning_rate':[0.15,0.1,0.05,0.01,0.005,0.001], \n",
    "                       'n_estimators':[100,250,500,750,1000,1250,1500,1750],\n",
    "                       'max_depth':[2,3,4,5,6,7] }\n",
    "\n",
    "gbc = GradientBoostingClassifier()\n",
    "gbc_cv = RandomizedSearchCV(estimator=gbc, param_distributions= param_distributions, n_iter=5, scoring='f1_weighted')\n",
    "gbc.fit(x_train, y_train)\n",
    "y_pred_gbc = gbc.predict(x_test)\n",
    "print(accuracy_score(y_test, y_pred_gbc))\n",
    "print(cross_val_score(gbc, x_train, y_train, cv=3))"
   ]
  },
  {
   "cell_type": "code",
   "execution_count": 22,
   "metadata": {},
   "outputs": [
    {
     "name": "stdout",
     "output_type": "stream",
     "text": [
      "[[ 91  15   4   1]\n",
      " [ 15  80  24   2]\n",
      " [  7  21  86   5]\n",
      " [  0   1   0 117]]\n"
     ]
    }
   ],
   "source": [
    "print(confusion_matrix(y_test, y_pred_gbc))"
   ]
  },
  {
   "cell_type": "code",
   "execution_count": 24,
   "metadata": {},
   "outputs": [
    {
     "name": "stdout",
     "output_type": "stream",
     "text": [
      "              precision    recall  f1-score   support\n",
      "\n",
      "         1.0       0.81      0.82      0.81       111\n",
      "         2.0       0.68      0.66      0.67       121\n",
      "         3.0       0.75      0.72      0.74       119\n",
      "         4.0       0.94      0.99      0.96       118\n",
      "\n",
      "    accuracy                           0.80       469\n",
      "   macro avg       0.79      0.80      0.80       469\n",
      "weighted avg       0.79      0.80      0.80       469\n",
      "\n"
     ]
    }
   ],
   "source": [
    "print(classification_report(y_test, y_pred_gbc))"
   ]
  }
 ],
 "metadata": {
  "kernelspec": {
   "display_name": "Python 3",
   "language": "python",
   "name": "python3"
  },
  "language_info": {
   "codemirror_mode": {
    "name": "ipython",
    "version": 3
   },
   "file_extension": ".py",
   "mimetype": "text/x-python",
   "name": "python",
   "nbconvert_exporter": "python",
   "pygments_lexer": "ipython3",
   "version": "3.8.5"
  }
 },
 "nbformat": 4,
 "nbformat_minor": 4
}
