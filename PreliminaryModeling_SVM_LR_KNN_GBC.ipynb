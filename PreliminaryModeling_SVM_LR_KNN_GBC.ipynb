{
 "cells": [
  {
   "cell_type": "markdown",
   "metadata": {},
   "source": [
    "# Avalanche Danger Level Forecast: Preliminary Modeling"
   ]
  },
  {
   "cell_type": "markdown",
   "metadata": {},
   "source": [
    "I am going to plug out newly created model-ready dataset into a few out-of-the-box models"
   ]
  },
  {
   "cell_type": "markdown",
   "metadata": {},
   "source": [
    "## Import Tools"
   ]
  },
  {
   "cell_type": "code",
   "execution_count": 44,
   "metadata": {},
   "outputs": [],
   "source": [
    "import os\n",
    "import numpy as np\n",
    "import pandas as pd\n",
    "import matplotlib.pyplot as plt\n",
    "import seaborn as sns\n",
    "\n",
    "# sklearn \n",
    "from sklearn.model_selection import train_test_split, GridSearchCV, cross_val_score\n",
    "from sklearn.metrics import confusion_matrix, classification_report, accuracy_score\n",
    "from sklearn.linear_model import LogisticRegression\n",
    "from sklearn.tree import DecisionTreeClassifier\n",
    "from sklearn.svm import SVC\n",
    "from sklearn.ensemble import RandomForestClassifier, GradientBoostingClassifier\n",
    "from sklearn.decomposition import PCA\n",
    "from sklearn.neighbors import KNeighborsClassifier\n",
    "from sklearn.model_selection import RandomizedSearchCV\n",
    "from sklearn.preprocessing import StandardScaler\n",
    "\n",
    "# pandas\n",
    "from pandas.plotting import scatter_matrix"
   ]
  },
  {
   "cell_type": "markdown",
   "metadata": {},
   "source": [
    "## Import Data"
   ]
  },
  {
   "cell_type": "code",
   "execution_count": 45,
   "metadata": {},
   "outputs": [
    {
     "data": {
      "text/html": [
       "<div>\n",
       "<style scoped>\n",
       "    .dataframe tbody tr th:only-of-type {\n",
       "        vertical-align: middle;\n",
       "    }\n",
       "\n",
       "    .dataframe tbody tr th {\n",
       "        vertical-align: top;\n",
       "    }\n",
       "\n",
       "    .dataframe thead th {\n",
       "        text-align: right;\n",
       "    }\n",
       "</style>\n",
       "<table border=\"1\" class=\"dataframe\">\n",
       "  <thead>\n",
       "    <tr style=\"text-align: right;\">\n",
       "      <th></th>\n",
       "      <th>Unnamed: 0</th>\n",
       "      <th>avi_danger</th>\n",
       "      <th>avg_wind</th>\n",
       "      <th>temp_max_swing</th>\n",
       "      <th>temp_max_swing_from_avg</th>\n",
       "      <th>year</th>\n",
       "      <th>month</th>\n",
       "      <th>day</th>\n",
       "      <th>temp_max</th>\n",
       "      <th>temp_min</th>\n",
       "      <th>...</th>\n",
       "      <th>northwest_wind_hours</th>\n",
       "      <th>prevailing_wind_E</th>\n",
       "      <th>prevailing_wind_N</th>\n",
       "      <th>prevailing_wind_NE</th>\n",
       "      <th>prevailing_wind_NW</th>\n",
       "      <th>prevailing_wind_S</th>\n",
       "      <th>prevailing_wind_SE</th>\n",
       "      <th>prevailing_wind_SW</th>\n",
       "      <th>prevailing_wind_W</th>\n",
       "      <th>next_day_avi_danger</th>\n",
       "    </tr>\n",
       "  </thead>\n",
       "  <tbody>\n",
       "    <tr>\n",
       "      <th>0</th>\n",
       "      <td>0</td>\n",
       "      <td>2.0</td>\n",
       "      <td>10.74</td>\n",
       "      <td>0.0</td>\n",
       "      <td>0.0</td>\n",
       "      <td>2010.0</td>\n",
       "      <td>12.0</td>\n",
       "      <td>18.0</td>\n",
       "      <td>12</td>\n",
       "      <td>4</td>\n",
       "      <td>...</td>\n",
       "      <td>12</td>\n",
       "      <td>0</td>\n",
       "      <td>0</td>\n",
       "      <td>0</td>\n",
       "      <td>1</td>\n",
       "      <td>0</td>\n",
       "      <td>0</td>\n",
       "      <td>0</td>\n",
       "      <td>0</td>\n",
       "      <td>1.0</td>\n",
       "    </tr>\n",
       "    <tr>\n",
       "      <th>1</th>\n",
       "      <td>1</td>\n",
       "      <td>1.0</td>\n",
       "      <td>9.40</td>\n",
       "      <td>3.0</td>\n",
       "      <td>0.0</td>\n",
       "      <td>2010.0</td>\n",
       "      <td>12.0</td>\n",
       "      <td>19.0</td>\n",
       "      <td>15</td>\n",
       "      <td>3</td>\n",
       "      <td>...</td>\n",
       "      <td>12</td>\n",
       "      <td>0</td>\n",
       "      <td>0</td>\n",
       "      <td>0</td>\n",
       "      <td>1</td>\n",
       "      <td>0</td>\n",
       "      <td>0</td>\n",
       "      <td>0</td>\n",
       "      <td>0</td>\n",
       "      <td>1.0</td>\n",
       "    </tr>\n",
       "    <tr>\n",
       "      <th>2</th>\n",
       "      <td>2</td>\n",
       "      <td>1.0</td>\n",
       "      <td>20.58</td>\n",
       "      <td>0.0</td>\n",
       "      <td>0.0</td>\n",
       "      <td>2010.0</td>\n",
       "      <td>12.0</td>\n",
       "      <td>20.0</td>\n",
       "      <td>15</td>\n",
       "      <td>5</td>\n",
       "      <td>...</td>\n",
       "      <td>0</td>\n",
       "      <td>0</td>\n",
       "      <td>1</td>\n",
       "      <td>0</td>\n",
       "      <td>0</td>\n",
       "      <td>0</td>\n",
       "      <td>0</td>\n",
       "      <td>0</td>\n",
       "      <td>0</td>\n",
       "      <td>3.0</td>\n",
       "    </tr>\n",
       "    <tr>\n",
       "      <th>3</th>\n",
       "      <td>3</td>\n",
       "      <td>3.0</td>\n",
       "      <td>35.12</td>\n",
       "      <td>3.0</td>\n",
       "      <td>0.0</td>\n",
       "      <td>2010.0</td>\n",
       "      <td>12.0</td>\n",
       "      <td>21.0</td>\n",
       "      <td>18</td>\n",
       "      <td>10</td>\n",
       "      <td>...</td>\n",
       "      <td>0</td>\n",
       "      <td>0</td>\n",
       "      <td>1</td>\n",
       "      <td>0</td>\n",
       "      <td>0</td>\n",
       "      <td>0</td>\n",
       "      <td>0</td>\n",
       "      <td>0</td>\n",
       "      <td>0</td>\n",
       "      <td>2.0</td>\n",
       "    </tr>\n",
       "    <tr>\n",
       "      <th>4</th>\n",
       "      <td>4</td>\n",
       "      <td>2.0</td>\n",
       "      <td>33.78</td>\n",
       "      <td>-3.0</td>\n",
       "      <td>0.0</td>\n",
       "      <td>2010.0</td>\n",
       "      <td>12.0</td>\n",
       "      <td>22.0</td>\n",
       "      <td>15</td>\n",
       "      <td>7</td>\n",
       "      <td>...</td>\n",
       "      <td>1</td>\n",
       "      <td>0</td>\n",
       "      <td>1</td>\n",
       "      <td>0</td>\n",
       "      <td>0</td>\n",
       "      <td>0</td>\n",
       "      <td>0</td>\n",
       "      <td>0</td>\n",
       "      <td>0</td>\n",
       "      <td>3.0</td>\n",
       "    </tr>\n",
       "  </tbody>\n",
       "</table>\n",
       "<p>5 rows × 26 columns</p>\n",
       "</div>"
      ],
      "text/plain": [
       "   Unnamed: 0  avi_danger  avg_wind  temp_max_swing  temp_max_swing_from_avg  \\\n",
       "0           0         2.0     10.74             0.0                      0.0   \n",
       "1           1         1.0      9.40             3.0                      0.0   \n",
       "2           2         1.0     20.58             0.0                      0.0   \n",
       "3           3         3.0     35.12             3.0                      0.0   \n",
       "4           4         2.0     33.78            -3.0                      0.0   \n",
       "\n",
       "     year  month   day  temp_max  temp_min  ...  northwest_wind_hours  \\\n",
       "0  2010.0   12.0  18.0        12         4  ...                    12   \n",
       "1  2010.0   12.0  19.0        15         3  ...                    12   \n",
       "2  2010.0   12.0  20.0        15         5  ...                     0   \n",
       "3  2010.0   12.0  21.0        18        10  ...                     0   \n",
       "4  2010.0   12.0  22.0        15         7  ...                     1   \n",
       "\n",
       "   prevailing_wind_E  prevailing_wind_N  prevailing_wind_NE  \\\n",
       "0                  0                  0                   0   \n",
       "1                  0                  0                   0   \n",
       "2                  0                  1                   0   \n",
       "3                  0                  1                   0   \n",
       "4                  0                  1                   0   \n",
       "\n",
       "   prevailing_wind_NW  prevailing_wind_S  prevailing_wind_SE  \\\n",
       "0                   1                  0                   0   \n",
       "1                   1                  0                   0   \n",
       "2                   0                  0                   0   \n",
       "3                   0                  0                   0   \n",
       "4                   0                  0                   0   \n",
       "\n",
       "   prevailing_wind_SW  prevailing_wind_W  next_day_avi_danger  \n",
       "0                   0                  0                  1.0  \n",
       "1                   0                  0                  1.0  \n",
       "2                   0                  0                  3.0  \n",
       "3                   0                  0                  2.0  \n",
       "4                   0                  0                  3.0  \n",
       "\n",
       "[5 rows x 26 columns]"
      ]
     },
     "execution_count": 45,
     "metadata": {},
     "output_type": "execute_result"
    }
   ],
   "source": [
    "avi = pd.read_csv('SnowWeatherClean.csv')\n",
    "avi.head()"
   ]
  },
  {
   "cell_type": "markdown",
   "metadata": {},
   "source": [
    "## Dataset at a Glance"
   ]
  },
  {
   "cell_type": "code",
   "execution_count": 46,
   "metadata": {},
   "outputs": [
    {
     "data": {
      "text/html": [
       "<div>\n",
       "<style scoped>\n",
       "    .dataframe tbody tr th:only-of-type {\n",
       "        vertical-align: middle;\n",
       "    }\n",
       "\n",
       "    .dataframe tbody tr th {\n",
       "        vertical-align: top;\n",
       "    }\n",
       "\n",
       "    .dataframe thead th {\n",
       "        text-align: right;\n",
       "    }\n",
       "</style>\n",
       "<table border=\"1\" class=\"dataframe\">\n",
       "  <thead>\n",
       "    <tr style=\"text-align: right;\">\n",
       "      <th></th>\n",
       "      <th>Unnamed: 0</th>\n",
       "      <th>avi_danger</th>\n",
       "      <th>avg_wind</th>\n",
       "      <th>temp_max_swing</th>\n",
       "      <th>temp_max_swing_from_avg</th>\n",
       "      <th>year</th>\n",
       "      <th>month</th>\n",
       "      <th>day</th>\n",
       "      <th>temp_max</th>\n",
       "      <th>temp_min</th>\n",
       "      <th>...</th>\n",
       "      <th>northwest_wind_hours</th>\n",
       "      <th>prevailing_wind_E</th>\n",
       "      <th>prevailing_wind_N</th>\n",
       "      <th>prevailing_wind_NE</th>\n",
       "      <th>prevailing_wind_NW</th>\n",
       "      <th>prevailing_wind_S</th>\n",
       "      <th>prevailing_wind_SE</th>\n",
       "      <th>prevailing_wind_SW</th>\n",
       "      <th>prevailing_wind_W</th>\n",
       "      <th>next_day_avi_danger</th>\n",
       "    </tr>\n",
       "  </thead>\n",
       "  <tbody>\n",
       "    <tr>\n",
       "      <th>count</th>\n",
       "      <td>1253.000000</td>\n",
       "      <td>1253.000000</td>\n",
       "      <td>1253.000000</td>\n",
       "      <td>1253.00000</td>\n",
       "      <td>1253.000000</td>\n",
       "      <td>1253.000000</td>\n",
       "      <td>1253.000000</td>\n",
       "      <td>1253.000000</td>\n",
       "      <td>1253.000000</td>\n",
       "      <td>1253.000000</td>\n",
       "      <td>...</td>\n",
       "      <td>1253.000000</td>\n",
       "      <td>1253.000000</td>\n",
       "      <td>1253.000000</td>\n",
       "      <td>1253.000000</td>\n",
       "      <td>1253.000000</td>\n",
       "      <td>1253.000000</td>\n",
       "      <td>1253.000000</td>\n",
       "      <td>1253.000000</td>\n",
       "      <td>1253.000000</td>\n",
       "      <td>1253.000000</td>\n",
       "    </tr>\n",
       "    <tr>\n",
       "      <th>mean</th>\n",
       "      <td>626.000000</td>\n",
       "      <td>2.088587</td>\n",
       "      <td>43.398746</td>\n",
       "      <td>-0.03352</td>\n",
       "      <td>-0.056345</td>\n",
       "      <td>2015.587390</td>\n",
       "      <td>3.499601</td>\n",
       "      <td>16.616919</td>\n",
       "      <td>19.794094</td>\n",
       "      <td>3.831604</td>\n",
       "      <td>...</td>\n",
       "      <td>6.521149</td>\n",
       "      <td>0.014366</td>\n",
       "      <td>0.049481</td>\n",
       "      <td>0.018356</td>\n",
       "      <td>0.276137</td>\n",
       "      <td>0.066241</td>\n",
       "      <td>0.026337</td>\n",
       "      <td>0.072626</td>\n",
       "      <td>0.476457</td>\n",
       "      <td>2.087789</td>\n",
       "    </tr>\n",
       "    <tr>\n",
       "      <th>std</th>\n",
       "      <td>361.854252</td>\n",
       "      <td>0.888858</td>\n",
       "      <td>16.512870</td>\n",
       "      <td>11.28772</td>\n",
       "      <td>13.006894</td>\n",
       "      <td>2.960021</td>\n",
       "      <td>3.110999</td>\n",
       "      <td>8.432409</td>\n",
       "      <td>14.034897</td>\n",
       "      <td>14.988959</td>\n",
       "      <td>...</td>\n",
       "      <td>7.619898</td>\n",
       "      <td>0.119040</td>\n",
       "      <td>0.216957</td>\n",
       "      <td>0.134288</td>\n",
       "      <td>0.447264</td>\n",
       "      <td>0.248802</td>\n",
       "      <td>0.160199</td>\n",
       "      <td>0.259625</td>\n",
       "      <td>0.499645</td>\n",
       "      <td>0.889387</td>\n",
       "    </tr>\n",
       "    <tr>\n",
       "      <th>min</th>\n",
       "      <td>0.000000</td>\n",
       "      <td>1.000000</td>\n",
       "      <td>4.250000</td>\n",
       "      <td>-44.00000</td>\n",
       "      <td>-53.800000</td>\n",
       "      <td>2010.000000</td>\n",
       "      <td>1.000000</td>\n",
       "      <td>1.000000</td>\n",
       "      <td>-26.000000</td>\n",
       "      <td>-40.000000</td>\n",
       "      <td>...</td>\n",
       "      <td>0.000000</td>\n",
       "      <td>0.000000</td>\n",
       "      <td>0.000000</td>\n",
       "      <td>0.000000</td>\n",
       "      <td>0.000000</td>\n",
       "      <td>0.000000</td>\n",
       "      <td>0.000000</td>\n",
       "      <td>0.000000</td>\n",
       "      <td>0.000000</td>\n",
       "      <td>1.000000</td>\n",
       "    </tr>\n",
       "    <tr>\n",
       "      <th>25%</th>\n",
       "      <td>313.000000</td>\n",
       "      <td>1.000000</td>\n",
       "      <td>31.090000</td>\n",
       "      <td>-5.00000</td>\n",
       "      <td>-8.400000</td>\n",
       "      <td>2013.000000</td>\n",
       "      <td>2.000000</td>\n",
       "      <td>10.000000</td>\n",
       "      <td>11.000000</td>\n",
       "      <td>-7.000000</td>\n",
       "      <td>...</td>\n",
       "      <td>0.000000</td>\n",
       "      <td>0.000000</td>\n",
       "      <td>0.000000</td>\n",
       "      <td>0.000000</td>\n",
       "      <td>0.000000</td>\n",
       "      <td>0.000000</td>\n",
       "      <td>0.000000</td>\n",
       "      <td>0.000000</td>\n",
       "      <td>0.000000</td>\n",
       "      <td>1.000000</td>\n",
       "    </tr>\n",
       "    <tr>\n",
       "      <th>50%</th>\n",
       "      <td>626.000000</td>\n",
       "      <td>2.000000</td>\n",
       "      <td>43.400000</td>\n",
       "      <td>1.00000</td>\n",
       "      <td>0.400000</td>\n",
       "      <td>2016.000000</td>\n",
       "      <td>3.000000</td>\n",
       "      <td>17.000000</td>\n",
       "      <td>19.000000</td>\n",
       "      <td>5.000000</td>\n",
       "      <td>...</td>\n",
       "      <td>3.000000</td>\n",
       "      <td>0.000000</td>\n",
       "      <td>0.000000</td>\n",
       "      <td>0.000000</td>\n",
       "      <td>0.000000</td>\n",
       "      <td>0.000000</td>\n",
       "      <td>0.000000</td>\n",
       "      <td>0.000000</td>\n",
       "      <td>0.000000</td>\n",
       "      <td>2.000000</td>\n",
       "    </tr>\n",
       "    <tr>\n",
       "      <th>75%</th>\n",
       "      <td>939.000000</td>\n",
       "      <td>3.000000</td>\n",
       "      <td>55.480000</td>\n",
       "      <td>7.00000</td>\n",
       "      <td>9.200000</td>\n",
       "      <td>2018.000000</td>\n",
       "      <td>4.000000</td>\n",
       "      <td>24.000000</td>\n",
       "      <td>30.000000</td>\n",
       "      <td>13.000000</td>\n",
       "      <td>...</td>\n",
       "      <td>11.000000</td>\n",
       "      <td>0.000000</td>\n",
       "      <td>0.000000</td>\n",
       "      <td>0.000000</td>\n",
       "      <td>1.000000</td>\n",
       "      <td>0.000000</td>\n",
       "      <td>0.000000</td>\n",
       "      <td>0.000000</td>\n",
       "      <td>1.000000</td>\n",
       "      <td>3.000000</td>\n",
       "    </tr>\n",
       "    <tr>\n",
       "      <th>max</th>\n",
       "      <td>1252.000000</td>\n",
       "      <td>5.000000</td>\n",
       "      <td>110.060000</td>\n",
       "      <td>39.00000</td>\n",
       "      <td>34.600000</td>\n",
       "      <td>2020.000000</td>\n",
       "      <td>12.000000</td>\n",
       "      <td>31.000000</td>\n",
       "      <td>57.000000</td>\n",
       "      <td>47.000000</td>\n",
       "      <td>...</td>\n",
       "      <td>24.000000</td>\n",
       "      <td>1.000000</td>\n",
       "      <td>1.000000</td>\n",
       "      <td>1.000000</td>\n",
       "      <td>1.000000</td>\n",
       "      <td>1.000000</td>\n",
       "      <td>1.000000</td>\n",
       "      <td>1.000000</td>\n",
       "      <td>1.000000</td>\n",
       "      <td>5.000000</td>\n",
       "    </tr>\n",
       "  </tbody>\n",
       "</table>\n",
       "<p>8 rows × 26 columns</p>\n",
       "</div>"
      ],
      "text/plain": [
       "        Unnamed: 0   avi_danger     avg_wind  temp_max_swing  \\\n",
       "count  1253.000000  1253.000000  1253.000000      1253.00000   \n",
       "mean    626.000000     2.088587    43.398746        -0.03352   \n",
       "std     361.854252     0.888858    16.512870        11.28772   \n",
       "min       0.000000     1.000000     4.250000       -44.00000   \n",
       "25%     313.000000     1.000000    31.090000        -5.00000   \n",
       "50%     626.000000     2.000000    43.400000         1.00000   \n",
       "75%     939.000000     3.000000    55.480000         7.00000   \n",
       "max    1252.000000     5.000000   110.060000        39.00000   \n",
       "\n",
       "       temp_max_swing_from_avg         year        month          day  \\\n",
       "count              1253.000000  1253.000000  1253.000000  1253.000000   \n",
       "mean                 -0.056345  2015.587390     3.499601    16.616919   \n",
       "std                  13.006894     2.960021     3.110999     8.432409   \n",
       "min                 -53.800000  2010.000000     1.000000     1.000000   \n",
       "25%                  -8.400000  2013.000000     2.000000    10.000000   \n",
       "50%                   0.400000  2016.000000     3.000000    17.000000   \n",
       "75%                   9.200000  2018.000000     4.000000    24.000000   \n",
       "max                  34.600000  2020.000000    12.000000    31.000000   \n",
       "\n",
       "          temp_max     temp_min  ...  northwest_wind_hours  prevailing_wind_E  \\\n",
       "count  1253.000000  1253.000000  ...           1253.000000        1253.000000   \n",
       "mean     19.794094     3.831604  ...              6.521149           0.014366   \n",
       "std      14.034897    14.988959  ...              7.619898           0.119040   \n",
       "min     -26.000000   -40.000000  ...              0.000000           0.000000   \n",
       "25%      11.000000    -7.000000  ...              0.000000           0.000000   \n",
       "50%      19.000000     5.000000  ...              3.000000           0.000000   \n",
       "75%      30.000000    13.000000  ...             11.000000           0.000000   \n",
       "max      57.000000    47.000000  ...             24.000000           1.000000   \n",
       "\n",
       "       prevailing_wind_N  prevailing_wind_NE  prevailing_wind_NW  \\\n",
       "count        1253.000000         1253.000000         1253.000000   \n",
       "mean            0.049481            0.018356            0.276137   \n",
       "std             0.216957            0.134288            0.447264   \n",
       "min             0.000000            0.000000            0.000000   \n",
       "25%             0.000000            0.000000            0.000000   \n",
       "50%             0.000000            0.000000            0.000000   \n",
       "75%             0.000000            0.000000            1.000000   \n",
       "max             1.000000            1.000000            1.000000   \n",
       "\n",
       "       prevailing_wind_S  prevailing_wind_SE  prevailing_wind_SW  \\\n",
       "count        1253.000000         1253.000000         1253.000000   \n",
       "mean            0.066241            0.026337            0.072626   \n",
       "std             0.248802            0.160199            0.259625   \n",
       "min             0.000000            0.000000            0.000000   \n",
       "25%             0.000000            0.000000            0.000000   \n",
       "50%             0.000000            0.000000            0.000000   \n",
       "75%             0.000000            0.000000            0.000000   \n",
       "max             1.000000            1.000000            1.000000   \n",
       "\n",
       "       prevailing_wind_W  next_day_avi_danger  \n",
       "count        1253.000000          1253.000000  \n",
       "mean            0.476457             2.087789  \n",
       "std             0.499645             0.889387  \n",
       "min             0.000000             1.000000  \n",
       "25%             0.000000             1.000000  \n",
       "50%             0.000000             2.000000  \n",
       "75%             1.000000             3.000000  \n",
       "max             1.000000             5.000000  \n",
       "\n",
       "[8 rows x 26 columns]"
      ]
     },
     "execution_count": 46,
     "metadata": {},
     "output_type": "execute_result"
    }
   ],
   "source": [
    "avi.describe()"
   ]
  },
  {
   "cell_type": "code",
   "execution_count": 47,
   "metadata": {},
   "outputs": [
    {
     "data": {
      "text/plain": [
       "Index(['Unnamed: 0', 'avi_danger', 'avg_wind', 'temp_max_swing',\n",
       "       'temp_max_swing_from_avg', 'year', 'month', 'day', 'temp_max',\n",
       "       'temp_min', 'water_equivalent', 'snow_fall', 'snow_depth_6am',\n",
       "       'wind_speed_sum', 'sunshine_percent', 'west_wind_hours',\n",
       "       'northwest_wind_hours', 'prevailing_wind_E', 'prevailing_wind_N',\n",
       "       'prevailing_wind_NE', 'prevailing_wind_NW', 'prevailing_wind_S',\n",
       "       'prevailing_wind_SE', 'prevailing_wind_SW', 'prevailing_wind_W',\n",
       "       'next_day_avi_danger'],\n",
       "      dtype='object')"
      ]
     },
     "execution_count": 47,
     "metadata": {},
     "output_type": "execute_result"
    }
   ],
   "source": [
    "avi.columns"
   ]
  },
  {
   "cell_type": "code",
   "execution_count": 48,
   "metadata": {},
   "outputs": [
    {
     "name": "stdout",
     "output_type": "stream",
     "text": [
      "<class 'pandas.core.frame.DataFrame'>\n",
      "RangeIndex: 1253 entries, 0 to 1252\n",
      "Data columns (total 26 columns):\n",
      " #   Column                   Non-Null Count  Dtype  \n",
      "---  ------                   --------------  -----  \n",
      " 0   Unnamed: 0               1253 non-null   int64  \n",
      " 1   avi_danger               1253 non-null   float64\n",
      " 2   avg_wind                 1253 non-null   float64\n",
      " 3   temp_max_swing           1253 non-null   float64\n",
      " 4   temp_max_swing_from_avg  1253 non-null   float64\n",
      " 5   year                     1253 non-null   float64\n",
      " 6   month                    1253 non-null   float64\n",
      " 7   day                      1253 non-null   float64\n",
      " 8   temp_max                 1253 non-null   int64  \n",
      " 9   temp_min                 1253 non-null   int64  \n",
      " 10  water_equivalent         1253 non-null   float64\n",
      " 11  snow_fall                1253 non-null   float64\n",
      " 12  snow_depth_6am           1253 non-null   float64\n",
      " 13  wind_speed_sum           1253 non-null   int64  \n",
      " 14  sunshine_percent         1253 non-null   int64  \n",
      " 15  west_wind_hours          1253 non-null   int64  \n",
      " 16  northwest_wind_hours     1253 non-null   int64  \n",
      " 17  prevailing_wind_E        1253 non-null   int64  \n",
      " 18  prevailing_wind_N        1253 non-null   int64  \n",
      " 19  prevailing_wind_NE       1253 non-null   int64  \n",
      " 20  prevailing_wind_NW       1253 non-null   int64  \n",
      " 21  prevailing_wind_S        1253 non-null   int64  \n",
      " 22  prevailing_wind_SE       1253 non-null   int64  \n",
      " 23  prevailing_wind_SW       1253 non-null   int64  \n",
      " 24  prevailing_wind_W        1253 non-null   int64  \n",
      " 25  next_day_avi_danger      1253 non-null   float64\n",
      "dtypes: float64(11), int64(15)\n",
      "memory usage: 254.6 KB\n"
     ]
    }
   ],
   "source": [
    "avi.info()"
   ]
  },
  {
   "cell_type": "markdown",
   "metadata": {},
   "source": [
    "## Filter Dataset"
   ]
  },
  {
   "cell_type": "code",
   "execution_count": 49,
   "metadata": {},
   "outputs": [],
   "source": [
    "avi = avi.drop(['Unnamed: 0'], axis=1)"
   ]
  },
  {
   "cell_type": "code",
   "execution_count": 50,
   "metadata": {},
   "outputs": [
    {
     "name": "stdout",
     "output_type": "stream",
     "text": [
      "<class 'pandas.core.frame.DataFrame'>\n",
      "Int64Index: 1253 entries, 0 to 1252\n",
      "Data columns (total 25 columns):\n",
      " #   Column                   Non-Null Count  Dtype  \n",
      "---  ------                   --------------  -----  \n",
      " 0   avi_danger               1253 non-null   float64\n",
      " 1   avg_wind                 1253 non-null   float64\n",
      " 2   temp_max_swing           1253 non-null   float64\n",
      " 3   temp_max_swing_from_avg  1253 non-null   float64\n",
      " 4   year                     1253 non-null   float64\n",
      " 5   month                    1253 non-null   float64\n",
      " 6   day                      1253 non-null   float64\n",
      " 7   temp_max                 1253 non-null   int64  \n",
      " 8   temp_min                 1253 non-null   int64  \n",
      " 9   water_equivalent         1253 non-null   float64\n",
      " 10  snow_fall                1253 non-null   float64\n",
      " 11  snow_depth_6am           1253 non-null   float64\n",
      " 12  wind_speed_sum           1253 non-null   int64  \n",
      " 13  sunshine_percent         1253 non-null   int64  \n",
      " 14  west_wind_hours          1253 non-null   int64  \n",
      " 15  northwest_wind_hours     1253 non-null   int64  \n",
      " 16  prevailing_wind_E        1253 non-null   int64  \n",
      " 17  prevailing_wind_N        1253 non-null   int64  \n",
      " 18  prevailing_wind_NE       1253 non-null   int64  \n",
      " 19  prevailing_wind_NW       1253 non-null   int64  \n",
      " 20  prevailing_wind_S        1253 non-null   int64  \n",
      " 21  prevailing_wind_SE       1253 non-null   int64  \n",
      " 22  prevailing_wind_SW       1253 non-null   int64  \n",
      " 23  prevailing_wind_W        1253 non-null   int64  \n",
      " 24  next_day_avi_danger      1253 non-null   float64\n",
      "dtypes: float64(11), int64(14)\n",
      "memory usage: 254.5 KB\n"
     ]
    }
   ],
   "source": [
    "avi = avi[avi['avi_danger'].notnull()]\n",
    "avi.info()"
   ]
  },
  {
   "cell_type": "markdown",
   "metadata": {},
   "source": [
    "## Fill Remaing NA's"
   ]
  },
  {
   "cell_type": "code",
   "execution_count": 51,
   "metadata": {},
   "outputs": [
    {
     "name": "stdout",
     "output_type": "stream",
     "text": [
      "<class 'pandas.core.frame.DataFrame'>\n",
      "Int64Index: 1249 entries, 0 to 1252\n",
      "Data columns (total 25 columns):\n",
      " #   Column                   Non-Null Count  Dtype  \n",
      "---  ------                   --------------  -----  \n",
      " 0   avi_danger               1249 non-null   float64\n",
      " 1   avg_wind                 1249 non-null   float64\n",
      " 2   temp_max_swing           1249 non-null   float64\n",
      " 3   temp_max_swing_from_avg  1249 non-null   float64\n",
      " 4   year                     1249 non-null   float64\n",
      " 5   month                    1249 non-null   float64\n",
      " 6   day                      1249 non-null   float64\n",
      " 7   temp_max                 1249 non-null   int64  \n",
      " 8   temp_min                 1249 non-null   int64  \n",
      " 9   water_equivalent         1249 non-null   float64\n",
      " 10  snow_fall                1249 non-null   float64\n",
      " 11  snow_depth_6am           1249 non-null   float64\n",
      " 12  wind_speed_sum           1249 non-null   int64  \n",
      " 13  sunshine_percent         1249 non-null   int64  \n",
      " 14  west_wind_hours          1249 non-null   int64  \n",
      " 15  northwest_wind_hours     1249 non-null   int64  \n",
      " 16  prevailing_wind_E        1249 non-null   int64  \n",
      " 17  prevailing_wind_N        1249 non-null   int64  \n",
      " 18  prevailing_wind_NE       1249 non-null   int64  \n",
      " 19  prevailing_wind_NW       1249 non-null   int64  \n",
      " 20  prevailing_wind_S        1249 non-null   int64  \n",
      " 21  prevailing_wind_SE       1249 non-null   int64  \n",
      " 22  prevailing_wind_SW       1249 non-null   int64  \n",
      " 23  prevailing_wind_W        1249 non-null   int64  \n",
      " 24  next_day_avi_danger      1249 non-null   float64\n",
      "dtypes: float64(11), int64(14)\n",
      "memory usage: 253.7 KB\n"
     ]
    }
   ],
   "source": [
    "avi = avi.fillna(0)\n",
    "avi = avi[avi.avi_danger != 5]\n",
    "avi = avi[avi.next_day_avi_danger != 5]\n",
    "avi.info()"
   ]
  },
  {
   "cell_type": "markdown",
   "metadata": {},
   "source": [
    "### Standardizing the Data"
   ]
  },
  {
   "cell_type": "code",
   "execution_count": 52,
   "metadata": {},
   "outputs": [],
   "source": [
    "#standardizer \n",
    "def standardize(X_train, X_test):\n",
    "    scaler = StandardScaler()\n",
    "    # Fitting and transforming training data\n",
    "    scaler.fit(X_train)\n",
    "    X_train = scaler.transform(X_train)\n",
    "    # Tranforming testing data based on traning fit (prevent data leakage)\n",
    "    X_test = scaler.transform(X_test)\n",
    "    return X_train, X_test\n"
   ]
  },
  {
   "cell_type": "markdown",
   "metadata": {},
   "source": [
    "## Splitting Dataset"
   ]
  },
  {
   "cell_type": "code",
   "execution_count": 53,
   "metadata": {},
   "outputs": [
    {
     "name": "stdout",
     "output_type": "stream",
     "text": [
      "(1249, 23)\n",
      "(1249,)\n"
     ]
    }
   ],
   "source": [
    "x = avi.iloc[:, 0:avi.shape[1]-2]\n",
    "y = avi.iloc[:, avi.shape[1]-1]\n",
    "\n",
    "print(x.shape)\n",
    "print(y.shape)\n"
   ]
  },
  {
   "cell_type": "code",
   "execution_count": 54,
   "metadata": {},
   "outputs": [],
   "source": [
    "x_train, x_test, y_train, y_test = train_test_split(x, y, test_size=0.25, random_state=42)"
   ]
  },
  {
   "cell_type": "code",
   "execution_count": 55,
   "metadata": {},
   "outputs": [],
   "source": [
    "# Scaling\n",
    "x_train, x_test = standardize(x_train, x_test)"
   ]
  },
  {
   "cell_type": "code",
   "execution_count": 56,
   "metadata": {},
   "outputs": [
    {
     "name": "stdout",
     "output_type": "stream",
     "text": [
      "0       1.0\n",
      "1       1.0\n",
      "2       3.0\n",
      "3       2.0\n",
      "4       3.0\n",
      "       ... \n",
      "1248    3.0\n",
      "1249    3.0\n",
      "1250    3.0\n",
      "1251    2.0\n",
      "1252    1.0\n",
      "Name: next_day_avi_danger, Length: 1249, dtype: float64\n"
     ]
    }
   ],
   "source": [
    "print(y)"
   ]
  },
  {
   "cell_type": "markdown",
   "metadata": {},
   "source": [
    "# Logistic Regression"
   ]
  },
  {
   "cell_type": "code",
   "execution_count": 57,
   "metadata": {},
   "outputs": [
    {
     "name": "stdout",
     "output_type": "stream",
     "text": [
      "0.6293929712460063\n",
      "[0.53846154 0.57371795 0.5224359 ]\n"
     ]
    },
    {
     "name": "stderr",
     "output_type": "stream",
     "text": [
      "/Users/lowell/opt/anaconda3/lib/python3.8/site-packages/sklearn/model_selection/_validation.py:548: FitFailedWarning: Estimator fit failed. The score on this train-test partition for these parameters will be set to nan. Details: \n",
      "Traceback (most recent call last):\n",
      "  File \"/Users/lowell/opt/anaconda3/lib/python3.8/site-packages/sklearn/model_selection/_validation.py\", line 531, in _fit_and_score\n",
      "    estimator.fit(X_train, y_train, **fit_params)\n",
      "  File \"/Users/lowell/opt/anaconda3/lib/python3.8/site-packages/sklearn/linear_model/_logistic.py\", line 1304, in fit\n",
      "    solver = _check_solver(self.solver, self.penalty, self.dual)\n",
      "  File \"/Users/lowell/opt/anaconda3/lib/python3.8/site-packages/sklearn/linear_model/_logistic.py\", line 453, in _check_solver\n",
      "    raise ValueError(\n",
      "ValueError: penalty='none' is not supported for the liblinear solver\n",
      "\n",
      "  warnings.warn(\"Estimator fit failed. The score on this train-test\"\n",
      "/Users/lowell/opt/anaconda3/lib/python3.8/site-packages/sklearn/model_selection/_validation.py:548: FitFailedWarning: Estimator fit failed. The score on this train-test partition for these parameters will be set to nan. Details: \n",
      "Traceback (most recent call last):\n",
      "  File \"/Users/lowell/opt/anaconda3/lib/python3.8/site-packages/sklearn/model_selection/_validation.py\", line 531, in _fit_and_score\n",
      "    estimator.fit(X_train, y_train, **fit_params)\n",
      "  File \"/Users/lowell/opt/anaconda3/lib/python3.8/site-packages/sklearn/linear_model/_logistic.py\", line 1304, in fit\n",
      "    solver = _check_solver(self.solver, self.penalty, self.dual)\n",
      "  File \"/Users/lowell/opt/anaconda3/lib/python3.8/site-packages/sklearn/linear_model/_logistic.py\", line 442, in _check_solver\n",
      "    raise ValueError(\"Solver %s supports only 'l2' or 'none' penalties, \"\n",
      "ValueError: Solver sag supports only 'l2' or 'none' penalties, got l1 penalty.\n",
      "\n",
      "  warnings.warn(\"Estimator fit failed. The score on this train-test\"\n",
      "/Users/lowell/opt/anaconda3/lib/python3.8/site-packages/sklearn/model_selection/_validation.py:548: FitFailedWarning: Estimator fit failed. The score on this train-test partition for these parameters will be set to nan. Details: \n",
      "Traceback (most recent call last):\n",
      "  File \"/Users/lowell/opt/anaconda3/lib/python3.8/site-packages/sklearn/model_selection/_validation.py\", line 531, in _fit_and_score\n",
      "    estimator.fit(X_train, y_train, **fit_params)\n",
      "  File \"/Users/lowell/opt/anaconda3/lib/python3.8/site-packages/sklearn/linear_model/_logistic.py\", line 1304, in fit\n",
      "    solver = _check_solver(self.solver, self.penalty, self.dual)\n",
      "  File \"/Users/lowell/opt/anaconda3/lib/python3.8/site-packages/sklearn/linear_model/_logistic.py\", line 442, in _check_solver\n",
      "    raise ValueError(\"Solver %s supports only 'l2' or 'none' penalties, \"\n",
      "ValueError: Solver lbfgs supports only 'l2' or 'none' penalties, got l1 penalty.\n",
      "\n",
      "  warnings.warn(\"Estimator fit failed. The score on this train-test\"\n",
      "/Users/lowell/opt/anaconda3/lib/python3.8/site-packages/sklearn/model_selection/_validation.py:548: FitFailedWarning: Estimator fit failed. The score on this train-test partition for these parameters will be set to nan. Details: \n",
      "Traceback (most recent call last):\n",
      "  File \"/Users/lowell/opt/anaconda3/lib/python3.8/site-packages/sklearn/model_selection/_validation.py\", line 531, in _fit_and_score\n",
      "    estimator.fit(X_train, y_train, **fit_params)\n",
      "  File \"/Users/lowell/opt/anaconda3/lib/python3.8/site-packages/sklearn/linear_model/_logistic.py\", line 1304, in fit\n",
      "    solver = _check_solver(self.solver, self.penalty, self.dual)\n",
      "  File \"/Users/lowell/opt/anaconda3/lib/python3.8/site-packages/sklearn/linear_model/_logistic.py\", line 453, in _check_solver\n",
      "    raise ValueError(\n",
      "ValueError: penalty='none' is not supported for the liblinear solver\n",
      "\n",
      "  warnings.warn(\"Estimator fit failed. The score on this train-test\"\n"
     ]
    }
   ],
   "source": [
    "\n",
    "penalty = ['l1', 'l2', 'elasticnet', 'none']\n",
    "tol = [0.0001, 0.001, 0.01, 0.1]\n",
    "C = [0.001, 0.01, 0.1, 1, 10, 100, 1000] \n",
    "solver = ['liblinear', 'newton-cg', 'lbfgs', 'sag', 'saga']\n",
    "param_distributions = dict(penalty=penalty,\n",
    "                           tol=tol,\n",
    "                           C=C,\n",
    "                           solver = solver)\n",
    "\n",
    "\n",
    "lr = LogisticRegression(class_weight = 'balanced',max_iter = 1000)\n",
    "lr_cv = RandomizedSearchCV(estimator=lr, param_distributions= param_distributions, n_iter=5, scoring='f1_weighted')\n",
    "lr_cv.fit(x_train, y_train)\n",
    "y_pred_lr = lr_cv.predict(x_test)\n",
    "print(accuracy_score(y_test, y_pred_lr))\n",
    "print(cross_val_score(lr, x_train, y_train, cv=3))"
   ]
  },
  {
   "cell_type": "code",
   "execution_count": 58,
   "metadata": {},
   "outputs": [
    {
     "name": "stdout",
     "output_type": "stream",
     "text": [
      "[[81  7  7  0]\n",
      " [17 69 19  3]\n",
      " [12 28 43  5]\n",
      " [ 1  3 14  4]]\n"
     ]
    }
   ],
   "source": [
    "print(confusion_matrix(y_test, y_pred_lr))"
   ]
  },
  {
   "cell_type": "code",
   "execution_count": 59,
   "metadata": {},
   "outputs": [
    {
     "name": "stdout",
     "output_type": "stream",
     "text": [
      "              precision    recall  f1-score   support\n",
      "\n",
      "         1.0       0.73      0.85      0.79        95\n",
      "         2.0       0.64      0.64      0.64       108\n",
      "         3.0       0.52      0.49      0.50        88\n",
      "         4.0       0.33      0.18      0.24        22\n",
      "\n",
      "    accuracy                           0.63       313\n",
      "   macro avg       0.56      0.54      0.54       313\n",
      "weighted avg       0.61      0.63      0.62       313\n",
      "\n"
     ]
    }
   ],
   "source": [
    "print(classification_report(y_test, y_pred_lr))"
   ]
  },
  {
   "cell_type": "markdown",
   "metadata": {},
   "source": [
    "# Support Vector Machine (SVM)"
   ]
  },
  {
   "cell_type": "code",
   "execution_count": 60,
   "metadata": {},
   "outputs": [
    {
     "name": "stdout",
     "output_type": "stream",
     "text": [
      "0.6293929712460063\n",
      "[0.61858974 0.64423077 0.6025641 ]\n"
     ]
    }
   ],
   "source": [
    "param_distributions = {'C': [0.1, 1, 10, 100, 1000],  \n",
    "              'gamma': [1, 0.1, 0.01, 0.001, 0.0001], \n",
    "              'kernel': ['rbf']}  \n",
    "\n",
    "\n",
    "svm = SVC()\n",
    "svm_cv = RandomizedSearchCV(estimator=svm, param_distributions= param_distributions, n_iter=5, scoring='f1_weighted')\n",
    "svm_cv.fit(x_train, y_train)\n",
    "y_pred_svm = svm_cv.predict(x_test)\n",
    "print(accuracy_score(y_test, y_pred_svm))\n",
    "print(cross_val_score(svm, x_train, y_train, cv=3))"
   ]
  },
  {
   "cell_type": "code",
   "execution_count": 61,
   "metadata": {},
   "outputs": [
    {
     "name": "stdout",
     "output_type": "stream",
     "text": [
      "[[77 14  4  0]\n",
      " [13 83 12  0]\n",
      " [12 40 36  0]\n",
      " [ 2  7 12  1]]\n"
     ]
    }
   ],
   "source": [
    "print(confusion_matrix(y_test, y_pred_svm))"
   ]
  },
  {
   "cell_type": "code",
   "execution_count": 62,
   "metadata": {},
   "outputs": [
    {
     "name": "stdout",
     "output_type": "stream",
     "text": [
      "              precision    recall  f1-score   support\n",
      "\n",
      "         1.0       0.74      0.81      0.77        95\n",
      "         2.0       0.58      0.77      0.66       108\n",
      "         3.0       0.56      0.41      0.47        88\n",
      "         4.0       1.00      0.05      0.09        22\n",
      "\n",
      "    accuracy                           0.63       313\n",
      "   macro avg       0.72      0.51      0.50       313\n",
      "weighted avg       0.65      0.63      0.60       313\n",
      "\n"
     ]
    }
   ],
   "source": [
    "print(classification_report(y_test, y_pred_svm))"
   ]
  },
  {
   "cell_type": "markdown",
   "metadata": {},
   "source": [
    "# K-Nearest Neighbors"
   ]
  },
  {
   "cell_type": "code",
   "execution_count": 63,
   "metadata": {},
   "outputs": [
    {
     "name": "stdout",
     "output_type": "stream",
     "text": [
      "0.5750798722044729\n",
      "[0.54807692 0.58012821 0.54807692]\n"
     ]
    }
   ],
   "source": [
    "#List Hyperparameters that we want to tune.\n",
    "leaf_size = list(range(1,50))\n",
    "n_neighbors = list(range(1,30))\n",
    "p=[1,2]\n",
    "#Convert to dictionary\n",
    "param_distributions = dict(leaf_size=leaf_size, n_neighbors=n_neighbors, p=p)\n",
    "\n",
    "knn = KNeighborsClassifier()\n",
    "knn_cv = RandomizedSearchCV(estimator=knn, param_distributions= param_distributions, n_iter=5, scoring='f1_weighted')\n",
    "knn_cv.fit(x_train, y_train)\n",
    "y_pred_knn = knn_cv.predict(x_test)\n",
    "print(accuracy_score(y_test, y_pred_knn))\n",
    "print(cross_val_score(knn, x_train, y_train, cv=3))"
   ]
  },
  {
   "cell_type": "code",
   "execution_count": 64,
   "metadata": {},
   "outputs": [
    {
     "name": "stdout",
     "output_type": "stream",
     "text": [
      "[[70 21  4  0]\n",
      " [14 76 18  0]\n",
      " [11 43 34  0]\n",
      " [ 4  9  9  0]]\n"
     ]
    }
   ],
   "source": [
    "print(confusion_matrix(y_test, y_pred_knn))"
   ]
  },
  {
   "cell_type": "code",
   "execution_count": 65,
   "metadata": {
    "scrolled": true
   },
   "outputs": [
    {
     "name": "stdout",
     "output_type": "stream",
     "text": [
      "              precision    recall  f1-score   support\n",
      "\n",
      "         1.0       0.71      0.74      0.72        95\n",
      "         2.0       0.51      0.70      0.59       108\n",
      "         3.0       0.52      0.39      0.44        88\n",
      "         4.0       0.00      0.00      0.00        22\n",
      "\n",
      "    accuracy                           0.58       313\n",
      "   macro avg       0.44      0.46      0.44       313\n",
      "weighted avg       0.54      0.58      0.55       313\n",
      "\n"
     ]
    },
    {
     "name": "stderr",
     "output_type": "stream",
     "text": [
      "/Users/lowell/opt/anaconda3/lib/python3.8/site-packages/sklearn/metrics/_classification.py:1221: UndefinedMetricWarning: Precision and F-score are ill-defined and being set to 0.0 in labels with no predicted samples. Use `zero_division` parameter to control this behavior.\n",
      "  _warn_prf(average, modifier, msg_start, len(result))\n"
     ]
    }
   ],
   "source": [
    "print(classification_report(y_test, y_pred_knn))"
   ]
  },
  {
   "cell_type": "markdown",
   "metadata": {},
   "source": [
    "# Gradient Boosting Classifier"
   ]
  },
  {
   "cell_type": "code",
   "execution_count": 66,
   "metadata": {},
   "outputs": [
    {
     "name": "stdout",
     "output_type": "stream",
     "text": [
      "0.6038338658146964\n",
      "[0.61217949 0.56730769 0.59294872]\n"
     ]
    }
   ],
   "source": [
    "param_distributions = {'learning_rate':[0.15,0.1,0.05,0.01,0.005,0.001], \n",
    "                       'n_estimators':[100,250,500,750,1000,1250,1500,1750],\n",
    "                       'max_depth':[2,3,4,5,6,7] }\n",
    "\n",
    "gbc = GradientBoostingClassifier()\n",
    "gbc_cv = RandomizedSearchCV(estimator=gbc, param_distributions= param_distributions, n_iter=5, scoring='f1_weighted')\n",
    "gbc.fit(x_train, y_train)\n",
    "y_pred_gbc = gbc.predict(x_test)\n",
    "print(accuracy_score(y_test, y_pred_gbc))\n",
    "print(cross_val_score(gbc, x_train, y_train, cv=3))"
   ]
  },
  {
   "cell_type": "code",
   "execution_count": 67,
   "metadata": {},
   "outputs": [
    {
     "name": "stdout",
     "output_type": "stream",
     "text": [
      "[[76 15  3  1]\n",
      " [ 9 73 23  3]\n",
      " [10 38 39  1]\n",
      " [ 1  7 13  1]]\n"
     ]
    }
   ],
   "source": [
    "print(confusion_matrix(y_test, y_pred_gbc))"
   ]
  },
  {
   "cell_type": "code",
   "execution_count": 68,
   "metadata": {},
   "outputs": [
    {
     "name": "stdout",
     "output_type": "stream",
     "text": [
      "              precision    recall  f1-score   support\n",
      "\n",
      "         1.0       0.71      0.74      0.72        95\n",
      "         2.0       0.51      0.70      0.59       108\n",
      "         3.0       0.52      0.39      0.44        88\n",
      "         4.0       0.00      0.00      0.00        22\n",
      "\n",
      "    accuracy                           0.58       313\n",
      "   macro avg       0.44      0.46      0.44       313\n",
      "weighted avg       0.54      0.58      0.55       313\n",
      "\n"
     ]
    },
    {
     "name": "stderr",
     "output_type": "stream",
     "text": [
      "/Users/lowell/opt/anaconda3/lib/python3.8/site-packages/sklearn/metrics/_classification.py:1221: UndefinedMetricWarning: Precision and F-score are ill-defined and being set to 0.0 in labels with no predicted samples. Use `zero_division` parameter to control this behavior.\n",
      "  _warn_prf(average, modifier, msg_start, len(result))\n"
     ]
    }
   ],
   "source": [
    "print(classification_report(y_test, y_pred_knn))"
   ]
  },
  {
   "cell_type": "code",
   "execution_count": null,
   "metadata": {},
   "outputs": [],
   "source": []
  }
 ],
 "metadata": {
  "kernelspec": {
   "display_name": "Python 3",
   "language": "python",
   "name": "python3"
  },
  "language_info": {
   "codemirror_mode": {
    "name": "ipython",
    "version": 3
   },
   "file_extension": ".py",
   "mimetype": "text/x-python",
   "name": "python",
   "nbconvert_exporter": "python",
   "pygments_lexer": "ipython3",
   "version": "3.8.3"
  }
 },
 "nbformat": 4,
 "nbformat_minor": 4
}
